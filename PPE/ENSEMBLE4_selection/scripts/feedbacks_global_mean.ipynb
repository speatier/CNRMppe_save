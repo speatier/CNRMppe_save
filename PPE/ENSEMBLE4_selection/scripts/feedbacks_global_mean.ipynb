{
 "cells": [
  {
   "cell_type": "markdown",
   "metadata": {},
   "source": [
    "# Global feedbacks analysis in CNRM-CM6-1 PPE\n",
    "Here we want to read the global annual mean of the radiative budget and air surface temperature in the amip and amip-futre4K PPE. We then compute the global feedbacks over the five years simulated, and plot a linegraph of the results across the ensemble. "
   ]
  },
  {
   "cell_type": "markdown",
   "metadata": {},
   "source": [
    "# Importe modules"
   ]
  },
  {
   "cell_type": "code",
   "execution_count": 1,
   "metadata": {},
   "outputs": [],
   "source": [
    "# Computational modules \n",
    "%matplotlib inline\n",
    "import xarray as xr\n",
    "import glob\n",
    "import os\n",
    "import numpy as np\n",
    "import netCDF4\n",
    "from netCDF4 import Dataset\n",
    "import pandas as pd\n",
    "import re\n",
    "from array import array\n",
    "from pylab import *\n",
    "#import geopandas\n",
    "\n",
    "# Plotting modules \n",
    "import matplotlib.pyplot as plt\n",
    "#from mpl_toolkits.basemap import Basemap\n",
    "import pandas.plotting\n",
    "import matplotlib.ticker as ticker\n",
    "import seaborn as sns"
   ]
  },
  {
   "cell_type": "markdown",
   "metadata": {},
   "source": [
    "# Functions definition"
   ]
  },
  {
   "cell_type": "code",
   "execution_count": 2,
   "metadata": {},
   "outputs": [],
   "source": [
    "import sys\n",
    "sys.path.append('/data/home/globc/peatier/CNRMppe')\n",
    "import Fonctions\n",
    "from Fonctions import get_wavg_budget_df\n",
    "from Fonctions import wavg \n",
    "from Fonctions import plotlines_Xdf\n",
    "from Fonctions import plotlines_1df\n",
    "from Fonctions import Deltas_Lambda\n",
    "from Fonctions import Deltas_SW\n",
    "from Fonctions import Deltas_LW"
   ]
  },
  {
   "cell_type": "markdown",
   "metadata": {},
   "source": [
    "# Settings"
   ]
  },
  {
   "cell_type": "code",
   "execution_count": 3,
   "metadata": {},
   "outputs": [],
   "source": [
    "ENSEMBLE = 'ENSEMBLE4_selection/'\n",
    "path_official = '/data/scratch/globc/peatier/CMIP6/CNRM-CM6-1/CFMIP/amip/'\n",
    "path_PPE_short = '/data/scratch/globc/peatier/CNRM-CM6-1_PPE/'\n",
    "variables = ['rlut', 'rsut','rsdt','tas']"
   ]
  },
  {
   "cell_type": "markdown",
   "metadata": {},
   "source": [
    "# Read files : radiative budget, tas"
   ]
  },
  {
   "cell_type": "markdown",
   "metadata": {},
   "source": [
    "## Second PPE : amip and amip-future4K"
   ]
  },
  {
   "cell_type": "code",
   "execution_count": 4,
   "metadata": {},
   "outputs": [
    {
     "data": {
      "text/html": [
       "<div>\n",
       "<style scoped>\n",
       "    .dataframe tbody tr th:only-of-type {\n",
       "        vertical-align: middle;\n",
       "    }\n",
       "\n",
       "    .dataframe tbody tr th {\n",
       "        vertical-align: top;\n",
       "    }\n",
       "\n",
       "    .dataframe thead th {\n",
       "        text-align: right;\n",
       "    }\n",
       "</style>\n",
       "<table border=\"1\" class=\"dataframe\">\n",
       "  <thead>\n",
       "    <tr style=\"text-align: right;\">\n",
       "      <th></th>\n",
       "      <th>rlut</th>\n",
       "      <th>rsut</th>\n",
       "      <th>rsdt</th>\n",
       "      <th>tas</th>\n",
       "      <th>F</th>\n",
       "      <th>H</th>\n",
       "      <th>N</th>\n",
       "    </tr>\n",
       "  </thead>\n",
       "  <tbody>\n",
       "    <tr>\n",
       "      <th>0</th>\n",
       "      <td>246.033493</td>\n",
       "      <td>100.208107</td>\n",
       "      <td>340.698730</td>\n",
       "      <td>291.714813</td>\n",
       "      <td>340.698730</td>\n",
       "      <td>346.241608</td>\n",
       "      <td>-5.542877</td>\n",
       "    </tr>\n",
       "    <tr>\n",
       "      <th>1</th>\n",
       "      <td>246.036575</td>\n",
       "      <td>100.286873</td>\n",
       "      <td>340.691254</td>\n",
       "      <td>291.756744</td>\n",
       "      <td>340.691254</td>\n",
       "      <td>346.323456</td>\n",
       "      <td>-5.632202</td>\n",
       "    </tr>\n",
       "    <tr>\n",
       "      <th>2</th>\n",
       "      <td>246.216858</td>\n",
       "      <td>100.169746</td>\n",
       "      <td>340.688416</td>\n",
       "      <td>291.737305</td>\n",
       "      <td>340.688416</td>\n",
       "      <td>346.386597</td>\n",
       "      <td>-5.698181</td>\n",
       "    </tr>\n",
       "  </tbody>\n",
       "</table>\n",
       "</div>"
      ],
      "text/plain": [
       "         rlut        rsut        rsdt         tas           F           H  \\\n",
       "0  246.033493  100.208107  340.698730  291.714813  340.698730  346.241608   \n",
       "1  246.036575  100.286873  340.691254  291.756744  340.691254  346.323456   \n",
       "2  246.216858  100.169746  340.688416  291.737305  340.688416  346.386597   \n",
       "\n",
       "          N  \n",
       "0 -5.542877  \n",
       "1 -5.632202  \n",
       "2 -5.698181  "
      ]
     },
     "execution_count": 4,
     "metadata": {},
     "output_type": "execute_result"
    }
   ],
   "source": [
    "path = path_official\n",
    "filename = '*_CNRM-CM6-1_amip_*.nc'\n",
    "start_yr = 1979\n",
    "drop = True\n",
    "year_list = range(1982,2015,1)\n",
    "official_amip = get_wavg_budget_df(path, filename, variables, start_yr, drop, year_list)\n",
    "official_amip\n",
    "\n",
    "path = path_official\n",
    "filename = '*_CNRM-CM6-1_amip-future4K_*.nc'\n",
    "start_yr = 1979\n",
    "drop = True\n",
    "year_list = range(1982,2015,1)\n",
    "official_future4K = get_wavg_budget_df(path, filename, variables, start_yr, drop, year_list)\n",
    "official_future4K"
   ]
  },
  {
   "cell_type": "code",
   "execution_count": 5,
   "metadata": {
    "scrolled": false
   },
   "outputs": [
    {
     "data": {
      "text/html": [
       "<div>\n",
       "<style scoped>\n",
       "    .dataframe tbody tr th:only-of-type {\n",
       "        vertical-align: middle;\n",
       "    }\n",
       "\n",
       "    .dataframe tbody tr th {\n",
       "        vertical-align: top;\n",
       "    }\n",
       "\n",
       "    .dataframe thead th {\n",
       "        text-align: right;\n",
       "    }\n",
       "</style>\n",
       "<table border=\"1\" class=\"dataframe\">\n",
       "  <thead>\n",
       "    <tr style=\"text-align: right;\">\n",
       "      <th></th>\n",
       "      <th>rlut</th>\n",
       "      <th>rsut</th>\n",
       "      <th>rsdt</th>\n",
       "      <th>tas</th>\n",
       "      <th>F</th>\n",
       "      <th>H</th>\n",
       "      <th>N</th>\n",
       "    </tr>\n",
       "  </thead>\n",
       "  <tbody>\n",
       "    <tr>\n",
       "      <th>0</th>\n",
       "      <td>245.847061</td>\n",
       "      <td>99.844887</td>\n",
       "      <td>340.496674</td>\n",
       "      <td>291.295715</td>\n",
       "      <td>340.496674</td>\n",
       "      <td>345.691956</td>\n",
       "      <td>-5.195282</td>\n",
       "    </tr>\n",
       "    <tr>\n",
       "      <th>1</th>\n",
       "      <td>245.930023</td>\n",
       "      <td>100.026192</td>\n",
       "      <td>340.500641</td>\n",
       "      <td>291.433716</td>\n",
       "      <td>340.500641</td>\n",
       "      <td>345.956207</td>\n",
       "      <td>-5.455566</td>\n",
       "    </tr>\n",
       "    <tr>\n",
       "      <th>2</th>\n",
       "      <td>246.320786</td>\n",
       "      <td>99.984657</td>\n",
       "      <td>340.466858</td>\n",
       "      <td>291.496887</td>\n",
       "      <td>340.466858</td>\n",
       "      <td>346.305450</td>\n",
       "      <td>-5.838593</td>\n",
       "    </tr>\n",
       "    <tr>\n",
       "      <th>3</th>\n",
       "      <td>246.335007</td>\n",
       "      <td>99.894569</td>\n",
       "      <td>340.467224</td>\n",
       "      <td>291.325195</td>\n",
       "      <td>340.467224</td>\n",
       "      <td>346.229584</td>\n",
       "      <td>-5.762360</td>\n",
       "    </tr>\n",
       "    <tr>\n",
       "      <th>4</th>\n",
       "      <td>246.418381</td>\n",
       "      <td>99.600266</td>\n",
       "      <td>340.520782</td>\n",
       "      <td>291.306335</td>\n",
       "      <td>340.520782</td>\n",
       "      <td>346.018646</td>\n",
       "      <td>-5.497864</td>\n",
       "    </tr>\n",
       "  </tbody>\n",
       "</table>\n",
       "</div>"
      ],
      "text/plain": [
       "         rlut        rsut        rsdt         tas           F           H  \\\n",
       "0  245.847061   99.844887  340.496674  291.295715  340.496674  345.691956   \n",
       "1  245.930023  100.026192  340.500641  291.433716  340.500641  345.956207   \n",
       "2  246.320786   99.984657  340.466858  291.496887  340.466858  346.305450   \n",
       "3  246.335007   99.894569  340.467224  291.325195  340.467224  346.229584   \n",
       "4  246.418381   99.600266  340.520782  291.306335  340.520782  346.018646   \n",
       "\n",
       "          N  \n",
       "0 -5.195282  \n",
       "1 -5.455566  \n",
       "2 -5.838593  \n",
       "3 -5.762360  \n",
       "4 -5.497864  "
      ]
     },
     "execution_count": 5,
     "metadata": {},
     "output_type": "execute_result"
    }
   ],
   "source": [
    "path = path_PPE_short+'ENSEMBLE1/CNRM-CM6-1_amip_PPE/CNRM-CM6-1_amip_r1i1p1f2/'\n",
    "filename = '*_CNRM-CM6-1_amip_*.nc'\n",
    "start_yr = 1979\n",
    "drop = False\n",
    "year_list = None\n",
    "p1_amip = get_wavg_budget_df(path, filename, variables, start_yr, drop, year_list)\n",
    "p1_amip\n",
    "\n",
    "start_yr = 1951\n",
    "path = path_PPE_short+'ENSEMBLE1/CNRM-CM6-1_amip-future4K_PPE/CNRM-CM6-1_amip-future4K_r1i1p1f2/'\n",
    "filename = '*_CNRM-CM6-1_amip-future4K_*.nc'\n",
    "p1_future4K = get_wavg_budget_df(path, filename, variables, start_yr, drop, year_list)\n",
    "p1_future4K"
   ]
  },
  {
   "cell_type": "code",
   "execution_count": 31,
   "metadata": {},
   "outputs": [
    {
     "data": {
      "text/plain": [
       "6"
      ]
     },
     "execution_count": 31,
     "metadata": {},
     "output_type": "execute_result"
    }
   ],
   "source": [
    "nb_p_list_LHS500 = ['p830','p831', 'p832', 'p833', 'p834', 'p835']\n",
    "len(nb_p_list_LHS500)"
   ]
  },
  {
   "cell_type": "code",
   "execution_count": 32,
   "metadata": {},
   "outputs": [
    {
     "name": "stdout",
     "output_type": "stream",
     "text": [
      "p830\n",
      "p831\n",
      "p832\n",
      "p833\n",
      "p834\n",
      "p835\n"
     ]
    }
   ],
   "source": [
    "path_PPE = path_PPE_short+ENSEMBLE\n",
    "\n",
    "# The amip experiments, new ensemble LHS500 : \n",
    "\n",
    "start_yr=1979\n",
    "drop=False\n",
    "year_list=None\n",
    "N=len(nb_p_list_LHS500)\n",
    "amip_LHS500={}\n",
    "i = 0\n",
    "while i<N:\n",
    "    nb_p_LHS500 = nb_p_list_LHS500[i]\n",
    "    print(nb_p_LHS500)\n",
    "    path=path_PPE+'CNRM-CM6-1_amip_PPE_ENSEMBLE4_selection/CNRM-CM6-1_amip_r1i1'+nb_p_LHS500+'f2/'\n",
    "    filename = '*_CNRM-CM6-1_amip_r1i1'+nb_p_LHS500+'f2*.nc'\n",
    "    amip_LHS500[str(nb_p_LHS500) + \"_amip\"] = get_wavg_budget_df(path, filename, variables, \\\n",
    "                                                                start_yr, drop, year_list)\n",
    "    i=i+1\n",
    "    "
   ]
  },
  {
   "cell_type": "code",
   "execution_count": 33,
   "metadata": {},
   "outputs": [
    {
     "name": "stdout",
     "output_type": "stream",
     "text": [
      "p830\n",
      "p831\n",
      "p832\n",
      "p833\n",
      "p834\n",
      "p835\n"
     ]
    }
   ],
   "source": [
    "# The amip experiments, new ensemble LHS500 : \n",
    "\n",
    "start_yr=1979\n",
    "drop=False\n",
    "year_list=None\n",
    "N=len(nb_p_list_LHS500)\n",
    "future4K_LHS500={}\n",
    "i = 0\n",
    "while i<N:\n",
    "    nb_p_LHS500 = nb_p_list_LHS500[i]\n",
    "    print(nb_p_LHS500)\n",
    "    path=path_PPE+'CNRM-CM6-1_amip-future4K_PPE_ENSEMBLE4_selection/CNRM-CM6-1_amip-future4K_r1i1'+nb_p_LHS500+'f2/'\n",
    "    filename = '*_CNRM-CM6-1_amip-future4K_r1i1'+nb_p_LHS500+'f2*.nc'\n",
    "    future4K_LHS500[str(nb_p_LHS500) + \"_future4K\"] = get_wavg_budget_df(path, filename, variables, \\\n",
    "                                                                start_yr, drop, year_list)\n",
    "    i=i+1"
   ]
  },
  {
   "cell_type": "markdown",
   "metadata": {},
   "source": [
    "## Create plot"
   ]
  },
  {
   "cell_type": "code",
   "execution_count": 34,
   "metadata": {
    "scrolled": false
   },
   "outputs": [
    {
     "data": {
      "image/png": "[encoded data removed]",
      "text/plain": [
       "<Figure size 720x720 with 2 Axes>"
      ]
     },
     "metadata": {
      "needs_background": "light"
     },
     "output_type": "display_data"
    }
   ],
   "source": [
    "# PARAMETERS :\n",
    "n=len(future4K_LHS500)\n",
    "df=[None]*n\n",
    "#df[0] = official_future4K\n",
    "#df[1] = p1_future4K\n",
    "df[:] = [future4K_LHS500[i+\"_future4K\"] for i in nb_p_list_LHS500]\n",
    "cmap1 = plt.get_cmap('ocean')\n",
    "colors = [cmap1(i) for i in np.linspace(0, 1, (len(future4K_LHS500)+2))]\n",
    "linewidth = [1.5]\n",
    "i=0\n",
    "N=len(df)\n",
    "while i<N:\n",
    "    linewidth.append(1.5)\n",
    "    i=i+1\n",
    "    \n",
    "xlabel = 'years'\n",
    "xmin = 0\n",
    "xmax = 2\n",
    "legend = ['PPE members']\n",
    "\n",
    "# Plot of lines from different dataframes\n",
    "plt.subplots(figsize=(10,10)) \n",
    "\n",
    "plt.subplot(211)\n",
    "title = 'CNRM-CM6-1 amip-future4K : TOA net downward radiative flux, N [W.m^2]'\n",
    "y = 'N'\n",
    "ymin = -40.0\n",
    "ymax = 20.0\n",
    "plotlines_Xdf(df, y, title, colors, linewidth, xlabel, xmin, xmax, ymin, ymax, legend)\n",
    "\n",
    "plt.subplot(212)\n",
    "title='CNRM-CM6-1 amip-future4K : air surface temperature, tas [K]'\n",
    "y = 'tas'\n",
    "ymin = 290.0\n",
    "ymax = 293.5\n",
    "plotlines_Xdf(df, y, title, colors, linewidth, xlabel, xmin, xmax, ymin, ymax, legend)\n",
    "\n",
    "#Ajustement des subplots\n",
    "plt.tight_layout()\n",
    "plt.subplots_adjust(hspace = 0.30)\n",
    "\n",
    "# Enregistrer la figure .....................\n",
    "\n",
    "#plt.savefig(\"/data/home/globc/peatier/figures/longPPE_N_tas_future4K.png\", \n",
    "#        orientation='portrait', bbox_inches='tight', pad_inches=0.1)\n",
    "\n",
    "# Show la figure .................\n",
    "plt.show()"
   ]
  },
  {
   "cell_type": "code",
   "execution_count": 35,
   "metadata": {},
   "outputs": [
    {
     "data": {
      "image/png": "[encoded data removed]",
      "text/plain": [
       "<Figure size 720x720 with 2 Axes>"
      ]
     },
     "metadata": {
      "needs_background": "light"
     },
     "output_type": "display_data"
    }
   ],
   "source": [
    "# PARAMETERS :\n",
    "n=len(amip_LHS500)\n",
    "df=[None]*n\n",
    "#df[0] = official_amip\n",
    "#df[1] = p1_amip\n",
    "df[:] = [amip_LHS500[i+\"_amip\"] for i in nb_p_list_LHS500]\n",
    "cmap1 = plt.get_cmap('ocean')\n",
    "colors = [cmap1(i) for i in np.linspace(0, 1, len(amip_LHS500)+2)]\n",
    "linewidth = [1.5]\n",
    "i=0\n",
    "N=len(df)\n",
    "while i<N:\n",
    "    linewidth.append(1.5)\n",
    "    i=i+1\n",
    "    \n",
    "xlabel = 'years'\n",
    "xmin = 0\n",
    "xmax = 2\n",
    "legend = ['PPE members']\n",
    "\n",
    "# Plot of lines from different dataframes\n",
    "plt.subplots(figsize=(10,10)) \n",
    "\n",
    "plt.subplot(211)\n",
    "title = 'CNRM-CM6-1 amip : TOA net downward radiative flux, N [W.m^2]'\n",
    "y = 'N'\n",
    "ymin = -30.0\n",
    "ymax = 20.0\n",
    "plotlines_Xdf(df, y, title, colors, linewidth, xlabel, xmin, xmax, ymin, ymax, legend)\n",
    "\n",
    "plt.subplot(212)\n",
    "title='CNRM-CM6-1 amip : air surface temperature, tas [K]'\n",
    "y = 'tas'\n",
    "ymin = 285.5\n",
    "ymax = 288.5\n",
    "plotlines_Xdf(df, y, title, colors, linewidth, xlabel, xmin, xmax, ymin, ymax, legend)\n",
    "\n",
    "#Ajustement des subplots\n",
    "plt.tight_layout()\n",
    "plt.subplots_adjust(hspace = 0.30)\n",
    "\n",
    "# Enregistrer la figure .....................\n",
    "\n",
    "#plt.savefig(\"/data/home/globc/peatier/figures/longPPE_N_tas_amip.png\", \n",
    "#        orientation='portrait', bbox_inches='tight', pad_inches=0.1)\n",
    "\n",
    "# Show la figure .................\n",
    "plt.show()"
   ]
  },
  {
   "cell_type": "markdown",
   "metadata": {},
   "source": [
    "# Compute : Delta(TOA), Delta(tas), Lambda"
   ]
  },
  {
   "cell_type": "code",
   "execution_count": 36,
   "metadata": {},
   "outputs": [
    {
     "data": {
      "text/html": [
       "<div>\n",
       "<style scoped>\n",
       "    .dataframe tbody tr th:only-of-type {\n",
       "        vertical-align: middle;\n",
       "    }\n",
       "\n",
       "    .dataframe tbody tr th {\n",
       "        vertical-align: top;\n",
       "    }\n",
       "\n",
       "    .dataframe thead th {\n",
       "        text-align: right;\n",
       "    }\n",
       "</style>\n",
       "<table border=\"1\" class=\"dataframe\">\n",
       "  <thead>\n",
       "    <tr style=\"text-align: right;\">\n",
       "      <th></th>\n",
       "      <th>rlut</th>\n",
       "      <th>rsut</th>\n",
       "      <th>rsdt</th>\n",
       "      <th>tas</th>\n",
       "      <th>F</th>\n",
       "      <th>H</th>\n",
       "      <th>N</th>\n",
       "    </tr>\n",
       "  </thead>\n",
       "  <tbody>\n",
       "    <tr>\n",
       "      <th>0</th>\n",
       "      <td>238.267899</td>\n",
       "      <td>101.744835</td>\n",
       "      <td>340.698730</td>\n",
       "      <td>286.938538</td>\n",
       "      <td>340.698730</td>\n",
       "      <td>340.012726</td>\n",
       "      <td>0.686005</td>\n",
       "    </tr>\n",
       "    <tr>\n",
       "      <th>1</th>\n",
       "      <td>238.770569</td>\n",
       "      <td>101.704056</td>\n",
       "      <td>340.691254</td>\n",
       "      <td>287.068726</td>\n",
       "      <td>340.691254</td>\n",
       "      <td>340.474609</td>\n",
       "      <td>0.216644</td>\n",
       "    </tr>\n",
       "    <tr>\n",
       "      <th>2</th>\n",
       "      <td>238.196167</td>\n",
       "      <td>101.862389</td>\n",
       "      <td>340.688416</td>\n",
       "      <td>286.955109</td>\n",
       "      <td>340.688416</td>\n",
       "      <td>340.058563</td>\n",
       "      <td>0.629852</td>\n",
       "    </tr>\n",
       "  </tbody>\n",
       "</table>\n",
       "</div>"
      ],
      "text/plain": [
       "         rlut        rsut        rsdt         tas           F           H  \\\n",
       "0  238.267899  101.744835  340.698730  286.938538  340.698730  340.012726   \n",
       "1  238.770569  101.704056  340.691254  287.068726  340.691254  340.474609   \n",
       "2  238.196167  101.862389  340.688416  286.955109  340.688416  340.058563   \n",
       "\n",
       "          N  \n",
       "0  0.686005  \n",
       "1  0.216644  \n",
       "2  0.629852  "
      ]
     },
     "execution_count": 36,
     "metadata": {},
     "output_type": "execute_result"
    }
   ],
   "source": [
    "official_amip"
   ]
  },
  {
   "cell_type": "code",
   "execution_count": 37,
   "metadata": {},
   "outputs": [
    {
     "data": {
      "text/html": [
       "<div>\n",
       "<style scoped>\n",
       "    .dataframe tbody tr th:only-of-type {\n",
       "        vertical-align: middle;\n",
       "    }\n",
       "\n",
       "    .dataframe tbody tr th {\n",
       "        vertical-align: top;\n",
       "    }\n",
       "\n",
       "    .dataframe thead th {\n",
       "        text-align: right;\n",
       "    }\n",
       "</style>\n",
       "<table border=\"1\" class=\"dataframe\">\n",
       "  <thead>\n",
       "    <tr style=\"text-align: right;\">\n",
       "      <th></th>\n",
       "      <th>Delta_LW_official_future4K</th>\n",
       "      <th>Delta_tas_official_future4K</th>\n",
       "      <th>Lambda_LW_official_future4K</th>\n",
       "    </tr>\n",
       "  </thead>\n",
       "  <tbody>\n",
       "    <tr>\n",
       "      <th>0</th>\n",
       "      <td>7.765594</td>\n",
       "      <td>4.776276</td>\n",
       "      <td>1.625868</td>\n",
       "    </tr>\n",
       "    <tr>\n",
       "      <th>1</th>\n",
       "      <td>7.515800</td>\n",
       "      <td>4.732147</td>\n",
       "      <td>1.588243</td>\n",
       "    </tr>\n",
       "    <tr>\n",
       "      <th>2</th>\n",
       "      <td>7.684097</td>\n",
       "      <td>4.748830</td>\n",
       "      <td>1.618103</td>\n",
       "    </tr>\n",
       "  </tbody>\n",
       "</table>\n",
       "</div>"
      ],
      "text/plain": [
       "   Delta_LW_official_future4K  Delta_tas_official_future4K  \\\n",
       "0                    7.765594                     4.776276   \n",
       "1                    7.515800                     4.732147   \n",
       "2                    7.684097                     4.748830   \n",
       "\n",
       "   Lambda_LW_official_future4K  \n",
       "0                     1.625868  \n",
       "1                     1.588243  \n",
       "2                     1.618103  "
      ]
     },
     "execution_count": 37,
     "metadata": {},
     "output_type": "execute_result"
    }
   ],
   "source": [
    "result = pd.DataFrame()\n",
    "df_CTL = official_amip\n",
    "df = official_future4K\n",
    "expe_name = 'official_future4K'\n",
    "n = len(df_CTL)\n",
    "official_result = Deltas_Lambda(result, df_CTL, df, expe_name, n)\n",
    "\n",
    "result = pd.DataFrame()\n",
    "official_result_SW = Deltas_SW(result, df_CTL, df, expe_name, n)\n",
    "\n",
    "result = pd.DataFrame()\n",
    "official_result_LW = Deltas_LW(result, df_CTL, df, expe_name, n)\n",
    "official_result_LW"
   ]
  },
  {
   "cell_type": "code",
   "execution_count": 38,
   "metadata": {},
   "outputs": [
    {
     "data": {
      "text/html": [
       "<div>\n",
       "<style scoped>\n",
       "    .dataframe tbody tr th:only-of-type {\n",
       "        vertical-align: middle;\n",
       "    }\n",
       "\n",
       "    .dataframe tbody tr th {\n",
       "        vertical-align: top;\n",
       "    }\n",
       "\n",
       "    .dataframe thead th {\n",
       "        text-align: right;\n",
       "    }\n",
       "</style>\n",
       "<table border=\"1\" class=\"dataframe\">\n",
       "  <thead>\n",
       "    <tr style=\"text-align: right;\">\n",
       "      <th></th>\n",
       "      <th>Delta_LW_p1_future4K</th>\n",
       "      <th>Delta_tas_p1_future4K</th>\n",
       "      <th>Lambda_LW_p1_future4K</th>\n",
       "    </tr>\n",
       "  </thead>\n",
       "  <tbody>\n",
       "    <tr>\n",
       "      <th>0</th>\n",
       "      <td>7.563141</td>\n",
       "      <td>4.375641</td>\n",
       "      <td>1.728465</td>\n",
       "    </tr>\n",
       "    <tr>\n",
       "      <th>1</th>\n",
       "      <td>7.624748</td>\n",
       "      <td>4.408966</td>\n",
       "      <td>1.729373</td>\n",
       "    </tr>\n",
       "    <tr>\n",
       "      <th>2</th>\n",
       "      <td>7.757507</td>\n",
       "      <td>4.479523</td>\n",
       "      <td>1.731771</td>\n",
       "    </tr>\n",
       "    <tr>\n",
       "      <th>3</th>\n",
       "      <td>7.834129</td>\n",
       "      <td>4.450424</td>\n",
       "      <td>1.760311</td>\n",
       "    </tr>\n",
       "    <tr>\n",
       "      <th>4</th>\n",
       "      <td>7.894696</td>\n",
       "      <td>4.420733</td>\n",
       "      <td>1.785834</td>\n",
       "    </tr>\n",
       "  </tbody>\n",
       "</table>\n",
       "</div>"
      ],
      "text/plain": [
       "   Delta_LW_p1_future4K  Delta_tas_p1_future4K  Lambda_LW_p1_future4K\n",
       "0              7.563141               4.375641               1.728465\n",
       "1              7.624748               4.408966               1.729373\n",
       "2              7.757507               4.479523               1.731771\n",
       "3              7.834129               4.450424               1.760311\n",
       "4              7.894696               4.420733               1.785834"
      ]
     },
     "execution_count": 38,
     "metadata": {},
     "output_type": "execute_result"
    }
   ],
   "source": [
    "result = pd.DataFrame()\n",
    "df_CTL = p1_amip\n",
    "df = p1_future4K\n",
    "expe_name = 'p1_future4K'\n",
    "n = len(df_CTL)\n",
    "p1_result = Deltas_Lambda(result, df_CTL, df, expe_name, n)\n",
    "\n",
    "result = pd.DataFrame()\n",
    "p1_result_SW = Deltas_SW(result, df_CTL, df, expe_name, n)\n",
    "\n",
    "result = pd.DataFrame()\n",
    "p1_result_LW = Deltas_LW(result, df_CTL, df, expe_name, n)\n",
    "p1_result_LW"
   ]
  },
  {
   "cell_type": "code",
   "execution_count": 39,
   "metadata": {},
   "outputs": [
    {
     "data": {
      "text/html": [
       "<div>\n",
       "<style scoped>\n",
       "    .dataframe tbody tr th:only-of-type {\n",
       "        vertical-align: middle;\n",
       "    }\n",
       "\n",
       "    .dataframe tbody tr th {\n",
       "        vertical-align: top;\n",
       "    }\n",
       "\n",
       "    .dataframe thead th {\n",
       "        text-align: right;\n",
       "    }\n",
       "</style>\n",
       "<table border=\"1\" class=\"dataframe\">\n",
       "  <thead>\n",
       "    <tr style=\"text-align: right;\">\n",
       "      <th></th>\n",
       "      <th>Delta_N_p830_future4k</th>\n",
       "      <th>Delta_tas_p830_future4k</th>\n",
       "      <th>Lambda_p830_future4k</th>\n",
       "      <th>Delta_SW_p830_future4k</th>\n",
       "      <th>Lambda_SW_p830_future4k</th>\n",
       "      <th>Delta_LW_p830_future4k</th>\n",
       "      <th>Lambda_LW_p830_future4k</th>\n",
       "      <th>Delta_N_p831_future4k</th>\n",
       "      <th>Delta_tas_p831_future4k</th>\n",
       "      <th>Lambda_p831_future4k</th>\n",
       "      <th>...</th>\n",
       "      <th>Lambda_SW_p834_future4k</th>\n",
       "      <th>Delta_LW_p834_future4k</th>\n",
       "      <th>Lambda_LW_p834_future4k</th>\n",
       "      <th>Delta_N_p835_future4k</th>\n",
       "      <th>Delta_tas_p835_future4k</th>\n",
       "      <th>Lambda_p835_future4k</th>\n",
       "      <th>Delta_SW_p835_future4k</th>\n",
       "      <th>Lambda_SW_p835_future4k</th>\n",
       "      <th>Delta_LW_p835_future4k</th>\n",
       "      <th>Lambda_LW_p835_future4k</th>\n",
       "    </tr>\n",
       "  </thead>\n",
       "  <tbody>\n",
       "    <tr>\n",
       "      <th>0</th>\n",
       "      <td>-7.665436</td>\n",
       "      <td>4.583618</td>\n",
       "      <td>-1.672355</td>\n",
       "      <td>-1.076813</td>\n",
       "      <td>-0.234926</td>\n",
       "      <td>8.742249</td>\n",
       "      <td>1.907281</td>\n",
       "      <td>-7.810059</td>\n",
       "      <td>4.564117</td>\n",
       "      <td>-1.711187</td>\n",
       "      <td>...</td>\n",
       "      <td>-0.544453</td>\n",
       "      <td>8.975662</td>\n",
       "      <td>1.970115</td>\n",
       "      <td>-4.842987</td>\n",
       "      <td>4.559631</td>\n",
       "      <td>-1.062144</td>\n",
       "      <td>-4.145157</td>\n",
       "      <td>-0.909099</td>\n",
       "      <td>8.988159</td>\n",
       "      <td>1.971247</td>\n",
       "    </tr>\n",
       "    <tr>\n",
       "      <th>1</th>\n",
       "      <td>-7.836945</td>\n",
       "      <td>4.666931</td>\n",
       "      <td>-1.649798</td>\n",
       "      <td>-1.231693</td>\n",
       "      <td>-0.263919</td>\n",
       "      <td>8.982880</td>\n",
       "      <td>1.924794</td>\n",
       "      <td>-7.678070</td>\n",
       "      <td>4.646866</td>\n",
       "      <td>-1.623403</td>\n",
       "      <td>...</td>\n",
       "      <td>-0.551623</td>\n",
       "      <td>8.908600</td>\n",
       "      <td>1.952988</td>\n",
       "      <td>-4.649658</td>\n",
       "      <td>4.627182</td>\n",
       "      <td>-0.990399</td>\n",
       "      <td>-4.264198</td>\n",
       "      <td>-0.921554</td>\n",
       "      <td>9.010521</td>\n",
       "      <td>1.947302</td>\n",
       "    </tr>\n",
       "    <tr>\n",
       "      <th>2</th>\n",
       "      <td>-7.831970</td>\n",
       "      <td>4.672221</td>\n",
       "      <td>-1.672497</td>\n",
       "      <td>-1.207064</td>\n",
       "      <td>-0.258349</td>\n",
       "      <td>8.985168</td>\n",
       "      <td>1.923104</td>\n",
       "      <td>-8.107574</td>\n",
       "      <td>4.674805</td>\n",
       "      <td>-1.713828</td>\n",
       "      <td>...</td>\n",
       "      <td>-0.569728</td>\n",
       "      <td>8.992970</td>\n",
       "      <td>1.969490</td>\n",
       "      <td>-4.439667</td>\n",
       "      <td>4.634186</td>\n",
       "      <td>-0.955138</td>\n",
       "      <td>-4.331843</td>\n",
       "      <td>-0.934758</td>\n",
       "      <td>8.975947</td>\n",
       "      <td>1.936898</td>\n",
       "    </tr>\n",
       "  </tbody>\n",
       "</table>\n",
       "<p>3 rows × 42 columns</p>\n",
       "</div>"
      ],
      "text/plain": [
       "   Delta_N_p830_future4k  Delta_tas_p830_future4k  Lambda_p830_future4k  \\\n",
       "0              -7.665436                 4.583618             -1.672355   \n",
       "1              -7.836945                 4.666931             -1.649798   \n",
       "2              -7.831970                 4.672221             -1.672497   \n",
       "\n",
       "   Delta_SW_p830_future4k  Lambda_SW_p830_future4k  Delta_LW_p830_future4k  \\\n",
       "0               -1.076813                -0.234926                8.742249   \n",
       "1               -1.231693                -0.263919                8.982880   \n",
       "2               -1.207064                -0.258349                8.985168   \n",
       "\n",
       "   Lambda_LW_p830_future4k  Delta_N_p831_future4k  Delta_tas_p831_future4k  \\\n",
       "0                 1.907281              -7.810059                 4.564117   \n",
       "1                 1.924794              -7.678070                 4.646866   \n",
       "2                 1.923104              -8.107574                 4.674805   \n",
       "\n",
       "   Lambda_p831_future4k  ...  Lambda_SW_p834_future4k  Delta_LW_p834_future4k  \\\n",
       "0             -1.711187  ...                -0.544453                8.975662   \n",
       "1             -1.623403  ...                -0.551623                8.908600   \n",
       "2             -1.713828  ...                -0.569728                8.992970   \n",
       "\n",
       "   Lambda_LW_p834_future4k  Delta_N_p835_future4k  Delta_tas_p835_future4k  \\\n",
       "0                 1.970115              -4.842987                 4.559631   \n",
       "1                 1.952988              -4.649658                 4.627182   \n",
       "2                 1.969490              -4.439667                 4.634186   \n",
       "\n",
       "   Lambda_p835_future4k  Delta_SW_p835_future4k  Lambda_SW_p835_future4k  \\\n",
       "0             -1.062144               -4.145157                -0.909099   \n",
       "1             -0.990399               -4.264198                -0.921554   \n",
       "2             -0.955138               -4.331843                -0.934758   \n",
       "\n",
       "   Delta_LW_p835_future4k  Lambda_LW_p835_future4k  \n",
       "0                8.988159                 1.971247  \n",
       "1                9.010521                 1.947302  \n",
       "2                8.975947                 1.936898  \n",
       "\n",
       "[3 rows x 42 columns]"
      ]
     },
     "execution_count": 39,
     "metadata": {},
     "output_type": "execute_result"
    }
   ],
   "source": [
    "# We want to compute the Deltas and the feedbacks of each perturbations (amip - amip-future4K)\n",
    "result= pd.DataFrame()\n",
    "\n",
    "n = len(amip_LHS500[\"p833_amip\"])\n",
    "\n",
    "for j in nb_p_list_LHS500:\n",
    "    df_CTL = amip_LHS500[j+\"_amip\"]\n",
    "    df = future4K_LHS500[j+\"_future4K\"]\n",
    "    expe_name=str(j+\"_future4k\")\n",
    "       \n",
    "    Lambda = Deltas_Lambda(result, df_CTL, df, expe_name, n)\n",
    "    Lambda_SW = Deltas_SW(result, df_CTL, df, expe_name, n)\n",
    "    Lambda_LW = Deltas_LW(result, df_CTL, df, expe_name, n)\n",
    "    \n",
    "#Lambda = Lambda[:-1]\n",
    "#Lambda_SW = Lambda_SW[:-1] # drop last n rows, because 2 years only future4K\n",
    "#Lambda_LW = Lambda_LW[:-1]\n",
    "\n",
    "Lambda"
   ]
  },
  {
   "cell_type": "code",
   "execution_count": 24,
   "metadata": {},
   "outputs": [
    {
     "data": {
      "text/html": [
       "<div>\n",
       "<style scoped>\n",
       "    .dataframe tbody tr th:only-of-type {\n",
       "        vertical-align: middle;\n",
       "    }\n",
       "\n",
       "    .dataframe tbody tr th {\n",
       "        vertical-align: top;\n",
       "    }\n",
       "\n",
       "    .dataframe thead th {\n",
       "        text-align: right;\n",
       "    }\n",
       "</style>\n",
       "<table border=\"1\" class=\"dataframe\">\n",
       "  <thead>\n",
       "    <tr style=\"text-align: right;\">\n",
       "      <th></th>\n",
       "      <th>rlut</th>\n",
       "      <th>rsut</th>\n",
       "      <th>rsdt</th>\n",
       "      <th>tas</th>\n",
       "      <th>F</th>\n",
       "      <th>H</th>\n",
       "      <th>N</th>\n",
       "    </tr>\n",
       "  </thead>\n",
       "  <tbody>\n",
       "    <tr>\n",
       "      <th>0</th>\n",
       "      <td>249.035446</td>\n",
       "      <td>103.729607</td>\n",
       "      <td>340.698730</td>\n",
       "      <td>291.261292</td>\n",
       "      <td>340.698730</td>\n",
       "      <td>352.765045</td>\n",
       "      <td>-12.066315</td>\n",
       "    </tr>\n",
       "    <tr>\n",
       "      <th>1</th>\n",
       "      <td>249.205338</td>\n",
       "      <td>103.589943</td>\n",
       "      <td>340.691254</td>\n",
       "      <td>291.392242</td>\n",
       "      <td>340.691254</td>\n",
       "      <td>352.795288</td>\n",
       "      <td>-12.104034</td>\n",
       "    </tr>\n",
       "    <tr>\n",
       "      <th>2</th>\n",
       "      <td>249.081375</td>\n",
       "      <td>103.365471</td>\n",
       "      <td>340.688416</td>\n",
       "      <td>291.392609</td>\n",
       "      <td>340.688416</td>\n",
       "      <td>352.446838</td>\n",
       "      <td>-11.758423</td>\n",
       "    </tr>\n",
       "  </tbody>\n",
       "</table>\n",
       "</div>"
      ],
      "text/plain": [
       "         rlut        rsut        rsdt         tas           F           H  \\\n",
       "0  249.035446  103.729607  340.698730  291.261292  340.698730  352.765045   \n",
       "1  249.205338  103.589943  340.691254  291.392242  340.691254  352.795288   \n",
       "2  249.081375  103.365471  340.688416  291.392609  340.688416  352.446838   \n",
       "\n",
       "           N  \n",
       "0 -12.066315  \n",
       "1 -12.104034  \n",
       "2 -11.758423  "
      ]
     },
     "execution_count": 24,
     "metadata": {},
     "output_type": "execute_result"
    }
   ],
   "source": [
    "df"
   ]
  },
  {
   "cell_type": "code",
   "execution_count": 25,
   "metadata": {},
   "outputs": [
    {
     "data": {
      "text/html": [
       "<div>\n",
       "<style scoped>\n",
       "    .dataframe tbody tr th:only-of-type {\n",
       "        vertical-align: middle;\n",
       "    }\n",
       "\n",
       "    .dataframe tbody tr th {\n",
       "        vertical-align: top;\n",
       "    }\n",
       "\n",
       "    .dataframe thead th {\n",
       "        text-align: right;\n",
       "    }\n",
       "</style>\n",
       "<table border=\"1\" class=\"dataframe\">\n",
       "  <thead>\n",
       "    <tr style=\"text-align: right;\">\n",
       "      <th></th>\n",
       "      <th>rlut</th>\n",
       "      <th>rsut</th>\n",
       "      <th>rsdt</th>\n",
       "      <th>tas</th>\n",
       "      <th>F</th>\n",
       "      <th>H</th>\n",
       "      <th>N</th>\n",
       "    </tr>\n",
       "  </thead>\n",
       "  <tbody>\n",
       "    <tr>\n",
       "      <th>0</th>\n",
       "      <td>240.047287</td>\n",
       "      <td>107.874763</td>\n",
       "      <td>340.698730</td>\n",
       "      <td>286.701660</td>\n",
       "      <td>340.698730</td>\n",
       "      <td>347.922058</td>\n",
       "      <td>-7.223328</td>\n",
       "    </tr>\n",
       "    <tr>\n",
       "      <th>1</th>\n",
       "      <td>240.172455</td>\n",
       "      <td>107.973183</td>\n",
       "      <td>340.691254</td>\n",
       "      <td>286.697510</td>\n",
       "      <td>340.691254</td>\n",
       "      <td>348.145630</td>\n",
       "      <td>-7.454376</td>\n",
       "    </tr>\n",
       "    <tr>\n",
       "      <th>2</th>\n",
       "      <td>240.174576</td>\n",
       "      <td>107.832603</td>\n",
       "      <td>340.688416</td>\n",
       "      <td>286.744415</td>\n",
       "      <td>340.688416</td>\n",
       "      <td>348.007172</td>\n",
       "      <td>-7.318756</td>\n",
       "    </tr>\n",
       "  </tbody>\n",
       "</table>\n",
       "</div>"
      ],
      "text/plain": [
       "         rlut        rsut        rsdt         tas           F           H  \\\n",
       "0  240.047287  107.874763  340.698730  286.701660  340.698730  347.922058   \n",
       "1  240.172455  107.973183  340.691254  286.697510  340.691254  348.145630   \n",
       "2  240.174576  107.832603  340.688416  286.744415  340.688416  348.007172   \n",
       "\n",
       "          N  \n",
       "0 -7.223328  \n",
       "1 -7.454376  \n",
       "2 -7.318756  "
      ]
     },
     "execution_count": 25,
     "metadata": {},
     "output_type": "execute_result"
    }
   ],
   "source": [
    "df_CTL"
   ]
  },
  {
   "cell_type": "markdown",
   "metadata": {},
   "source": [
    "## To store feedbacks and Delta T values in numpy arrays"
   ]
  },
  {
   "cell_type": "code",
   "execution_count": 19,
   "metadata": {},
   "outputs": [],
   "source": [
    "official_NetFdbck = official_result['Lambda_official_future4K'].mean()\n",
    "official_SW = official_result_SW['Lambda_SW_official_future4K'].mean()\n",
    "official_LW = official_result_LW['Lambda_LW_official_future4K'].mean()\n",
    "\n",
    "p1_NetFbck = p1_result['Lambda_p1_future4K'].mean()\n",
    "p1_SW = p1_result_SW['Lambda_SW_p1_future4K'].mean()\n",
    "p1_LW = p1_result_LW['Lambda_LW_p1_future4K'].mean()\n",
    "\n",
    "# Save the numpy array in a file   \n",
    "np.save('/data/home/globc/peatier/CNRMppe/PPE/'+ENSEMBLE+'files/npy/Net_feedbacks_official.npy', official_NetFdbck)\n",
    "np.save('/data/home/globc/peatier/CNRMppe/PPE/'+ENSEMBLE+'files/npy/SW_feedbacks_official.npy', official_SW)\n",
    "np.save('/data/home/globc/peatier/CNRMppe/PPE/'+ENSEMBLE+'files/npy/LW_feedbacks_official.npy', official_LW)\n",
    "\n",
    "np.save('/data/home/globc/peatier/CNRMppe/PPE/'+ENSEMBLE+'files/npy/Net_feedbacks_p1.npy', p1_NetFbck)\n",
    "np.save('/data/home/globc/peatier/CNRMppe/PPE/'+ENSEMBLE+'files/npy/SW_feedbacks_p1.npy', p1_SW)\n",
    "np.save('/data/home/globc/peatier/CNRMppe/PPE/'+ENSEMBLE+'files/npy/LW_feedbacks_p1.npy', p1_LW)"
   ]
  },
  {
   "cell_type": "code",
   "execution_count": 40,
   "metadata": {
    "scrolled": true
   },
   "outputs": [
    {
     "data": {
      "text/plain": [
       "[-1.6648834149042766,\n",
       " -1.6828059355417888,\n",
       " -1.6632171869277954,\n",
       " -1.5863710641860962,\n",
       " -1.3997870286305745,\n",
       " -1.0025604963302612]"
      ]
     },
     "execution_count": 40,
     "metadata": {},
     "output_type": "execute_result"
    }
   ],
   "source": [
    "N2=len(nb_p_list_LHS500) \n",
    "NetFdbck = [1]*(N2)\n",
    "Fdbck_SW = [1]*(N2)\n",
    "Fdbck_LW = [1]*(N2)\n",
    "i=0\n",
    "while i<N2:\n",
    "    nb_p = nb_p_list_LHS500[i]\n",
    "    #print(nb_p)\n",
    "    NetFdbck[i] = Lambda['Lambda_'+str(nb_p)+'_future4k'].mean()\n",
    "    Fdbck_SW[i] = Lambda_SW['Lambda_SW_'+str(nb_p)+'_future4k'].mean()\n",
    "    Fdbck_LW[i] = Lambda_LW['Lambda_LW_'+str(nb_p)+'_future4k'].mean()\n",
    "    i=(i+1)\n",
    "\n",
    "NetFdbck"
   ]
  },
  {
   "cell_type": "code",
   "execution_count": 41,
   "metadata": {},
   "outputs": [],
   "source": [
    "# Save the numpy array in a file   \n",
    "np.save('/data/home/globc/peatier/CNRMppe/PPE/'+ENSEMBLE+'files/npy/Net_feedbacks_optimN.npy', NetFdbck)\n",
    "np.save('/data/home/globc/peatier/CNRMppe/PPE/'+ENSEMBLE+'files/npy/SW_feedbacks_optimN.npy', Fdbck_SW)\n",
    "np.save('/data/home/globc/peatier/CNRMppe/PPE/'+ENSEMBLE+'files/npy/LW_feedbacks_optimN.npy', Fdbck_LW)"
   ]
  },
  {
   "cell_type": "code",
   "execution_count": 22,
   "metadata": {},
   "outputs": [],
   "source": [
    "# List nouvel ensemble LHS500\n",
    "\n",
    "N2=len(nb_p_list_LHS500)\n",
    "DeltaT_global_mean = [1]*(N2)\n",
    "\n",
    "j=0\n",
    "while j<N2:\n",
    "    nb_p = nb_p_list_LHS500[j]\n",
    "    #print(nb_p)\n",
    "    DeltaT_global_mean[j] = result['Delta_tas_'+str(nb_p)+'_future4k'].mean()\n",
    "    j=(j+1)\n",
    "    \n",
    "#DeltaT_global_mean"
   ]
  },
  {
   "cell_type": "code",
   "execution_count": 23,
   "metadata": {},
   "outputs": [],
   "source": [
    "# Save the numpy array in a file\n",
    "np.save('/data/home/globc/peatier/CNRMppe/PPE/'+ENSEMBLE+'files/npy/DeltaT_global_mean.npy', DeltaT_global_mean)"
   ]
  },
  {
   "cell_type": "markdown",
   "metadata": {},
   "source": [
    "# Create plot"
   ]
  },
  {
   "cell_type": "code",
   "execution_count": 24,
   "metadata": {
    "scrolled": false
   },
   "outputs": [
    {
     "data": {
      "image/png": "[encoded data removed]",
      "text/plain": [
       "<Figure size 576x720 with 3 Axes>"
      ]
     },
     "metadata": {
      "needs_background": "light"
     },
     "output_type": "display_data"
    }
   ],
   "source": [
    "# PARAMETERS\n",
    "df = result\n",
    "cmap1 = plt.get_cmap('ocean')\n",
    "xlabel='years'\n",
    "xmin = 0\n",
    "xmax = 2\n",
    "legend=['PPE members']\n",
    "linewidth = [1.5]\n",
    "\n",
    "N=len(amip_LHS500)+1\n",
    "j=0\n",
    "while j<N:\n",
    "    linewidth.append(1.5)\n",
    "    j=j+1\n",
    "#--------------------------- Plot result : future4K --------------------------------------\n",
    "plt.subplots(figsize=(8,10))\n",
    "\n",
    "#########################\n",
    "plt.subplot(311)\n",
    "title=\"CRM-CM6-1 PPE amip-future4K / amip : Feedbacks\"\n",
    "ymin = -2.5\n",
    "ymax = 0.5\n",
    "\n",
    "n=len(amip_LHS500)\n",
    "colors = [cmap1(0)]*(n+len(amip_LHS500))\n",
    "y=[None]*N\n",
    "y[:] = ['Lambda_'+j+'_future4k' for j in nb_p_list_LHS500]\n",
    "colors[:] = [cmap1(i) for i in np.linspace(0, 1, len(amip_LHS500))]\n",
    "\n",
    "plotlines_1df(df, y, title, colors, linewidth, xlabel, xmin, xmax, ymin, ymax, legend)\n",
    "plt.ylabel('Feedbacks (W.m^-2 / K)')\n",
    "plt.xlim(0, 2)\n",
    "plt.xticks([0, 1, 2])\n",
    "\n",
    "#########################\n",
    "plt.subplot(312)\n",
    "title='CRM-CM6-1 PPE amip-future4K / amip : Delta T'\n",
    "ymin = 4.0\n",
    "ymax = 5.0\n",
    "\n",
    "\n",
    "y[:] = ['Delta_tas_'+i+'_future4k' for i in nb_p_list_LHS500]\n",
    "colors[:] = [cmap1(j) for j in np.linspace(0, 1, len(amip_LHS500))]\n",
    "\n",
    "plotlines_1df(df, y, title, colors, linewidth, xlabel, xmin, xmax, ymin, ymax, legend)\n",
    "plt.ylabel('Delta T (K)')\n",
    "plt.xlim(0, 2)\n",
    "plt.xticks([0, 1, 2])\n",
    "\n",
    "#########################\n",
    "plt.subplot(313)\n",
    "title='CRM-CM6-1 PPE amip-future4K / amip : Delta N'\n",
    "ymin = -9.0\n",
    "ymax = -2.0\n",
    "\n",
    "y[:] = ['Delta_N_'+i+'_future4k' for i in nb_p_list_LHS500]\n",
    "colors[:] = [cmap1(i) for i in np.linspace(0, 1, len(amip_LHS500))]\n",
    "\n",
    "plotlines_1df(df, y, title, colors, linewidth, xlabel, xmin, xmax, ymin, ymax, legend)\n",
    "plt.ylabel('Delta N (W.m^-2)')\n",
    "plt.xlim(0, 2)\n",
    "plt.xticks([0, 1, 2])\n",
    "\n",
    "#Ajustement des subplots\n",
    "plt.tight_layout()\n",
    "plt.subplots_adjust(hspace = 0.30)\n",
    "\n",
    "# Enregistrer la figure ...........\n",
    "\n",
    "plt.savefig(\"/data/home/globc/peatier/figures/PPE_feedbacks_DT_DN.png\", \n",
    "        orientation='portrait', bbox_inches='tight', pad_inches=0.1)\n",
    "\n",
    "# Display the figure \n",
    "plt.show()"
   ]
  },
  {
   "cell_type": "code",
   "execution_count": 27,
   "metadata": {},
   "outputs": [],
   "source": [
    "# Data from Rostron et al. (2020)\n",
    "Fdbck_min_UK = -1.8\n",
    "Fdbck_max_UK = -0.93\n",
    "\n",
    "# Default model feedbacks\n",
    "p1_feedbacks = np.load('/data/home/globc/peatier/CNRMppe/PPE/'+ENSEMBLE+'files/npy/Net_feedbacks_p1.npy')"
   ]
  },
  {
   "cell_type": "code",
   "execution_count": 28,
   "metadata": {},
   "outputs": [
    {
     "data": {
      "text/plain": [
       "[-1.6828059355417888,\n",
       " -1.6632171869277954,\n",
       " -1.5863710641860962,\n",
       " -1.3997870286305745,\n",
       " -1.0025604963302612]"
      ]
     },
     "execution_count": 28,
     "metadata": {},
     "output_type": "execute_result"
    }
   ],
   "source": [
    "NetFdbck"
   ]
  },
  {
   "cell_type": "code",
   "execution_count": 29,
   "metadata": {
    "scrolled": false
   },
   "outputs": [
    {
     "data": {
      "image/png": "[encoded data removed]",
      "text/plain": [
       "<Figure size 1080x720 with 1 Axes>"
      ]
     },
     "metadata": {
      "needs_background": "light"
     },
     "output_type": "display_data"
    }
   ],
   "source": [
    "CMIP6 = np.load(file=\"/data/home/globc/peatier/CNRMppe/PPE/ENSEMBLE2/files/npy/CMIP6_NetFeedbcks.npy\") \n",
    "emulated = np.load(file=\"/data/home/globc/peatier/CNRMppe/PPE/ENSEMBLE2/files/npy/emulated_NetFdbck.npy\")\n",
    "\n",
    "# Create plot of PDF of net feedbacks emulated by neural network \n",
    "\n",
    "Bins = [-2.6,-2.5,-2.4, -2.3,-2.2,-2.0,-1.9,-1.8,-1.7,-1.6,-1.5,-1.4,-1.3,-1.2,-1.1,-1.0,-0.9,-0.8,-0.7,-0.6,-0.5, -0.4,-0.3, -0.2, -0.1, 0.0, 0.1, 0.2, 0.3]\n",
    "new_Bins = [-2.6,-2.5,-2.4, -2.3,-2.2,-2.0,-1.9,-1.8,-1.7,-1.6,-1.5,-1.4,-1.3,-1.2,-1.1,-1.0,-0.9,-0.8,-0.7,-0.6,-0.5, -0.4,-0.3, -0.2, -0.1, 0.0, 0.1, 0.2, 0.3]\n",
    "\n",
    "fig, ax = plt.subplots(figsize=(15,10))\n",
    "ax = sns.distplot(NetFdbck, norm_hist= False, bins = Bins, kde = False, \n",
    "                  hist_kws={\"alpha\": 1.0, \"color\" : 'royalblue', \"edgecolor\" : \"black\"}, label = 'PPE', ax=ax)\n",
    "#ax = sns.distplot(CMIP6, norm_hist=False, bins = new_Bins, kde = False,\n",
    "#                  hist_kws={\"alpha\": 1.0, \"color\" : 'darkred', \"edgecolor\" : \"black\"}, label= 'CFMIP6', ax=ax)\n",
    "#ax = sns.distplot(emulated, norm_hist=False, kde = False, \n",
    "#                 hist_kws={\"alpha\": 0.2, \"color\" : 'darkred'}, label= 'random forest', ax=ax)\n",
    "\n",
    "plt.vlines(p1_feedbacks,ymin = 0,ymax = 25,label='CNRM default model', colors='black', \n",
    "           linestyles='dashed')\n",
    "\n",
    "plt.hlines(30.0,xmin = CMIP6.min(),xmax = CMIP6.max(),\n",
    "           colors='darkred', linewidth=4.0, linestyles='solid')\n",
    "plt.text(-1.9, 30.5, 'CFMIP', color = 'darkred', fontsize=15)\n",
    "\n",
    "plt.hlines(28.0,xmin = Fdbck_min_UK,xmax = Fdbck_max_UK,\n",
    "           colors='orange', linewidth=4.0, linestyles='solid')\n",
    "plt.text(-1.8, 28.5, 'HadGEM3 [Rostron et al. (2020)] ', color = 'orange', fontsize=15)\n",
    "\n",
    "plt.hlines(26.0,xmin = min(NetFdbck),xmax = max(NetFdbck),\n",
    "           colors='royalblue', linewidth=4.0, linestyles='solid')\n",
    "plt.text(-1.75, 26.5, 'PPE ARPEGE Climat', color = 'royalblue', fontsize=15)\n",
    "\n",
    "ax.tick_params(axis='both', which='major', labelsize=15)\n",
    "plt.legend(fontsize=18, bbox_to_anchor=(0,0,1,0.6))\n",
    "#plt.title(title, fontsize = 22)\n",
    "plt.xlabel('Global Net Feedbacks [$W.m^{-2}.K^{-1}$]',fontsize=20)\n",
    "plt.ylabel('Number of models',fontsize=20)\n",
    "plt.xlim(-2.0, -0.6)\n",
    "#plt.ylim(0,5)\n",
    "\n",
    "# Enregistrer la figure ...........\n",
    "\n",
    "#plt.savefig(\"/data/home/globc/peatier/figures/PDF_feedbacks.png\", \n",
    "#        orientation='portrait', bbox_inches='tight', pad_inches=0.1)\n",
    "\n",
    "# Display the figure \n",
    "plt.show()"
   ]
  },
  {
   "cell_type": "code",
   "execution_count": null,
   "metadata": {},
   "outputs": [],
   "source": []
  }
 ],
 "metadata": {
  "kernelspec": {
   "display_name": "Python 3",
   "language": "python",
   "name": "python3"
  },
  "language_info": {
   "codemirror_mode": {
    "name": "ipython",
    "version": 3
   },
   "file_extension": ".py",
   "mimetype": "text/x-python",
   "name": "python",
   "nbconvert_exporter": "python",
   "pygments_lexer": "ipython3",
   "version": "3.7.6"
  }
 },
 "nbformat": 4,
 "nbformat_minor": 2
}
