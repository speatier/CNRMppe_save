{
 "cells": [
  {
   "cell_type": "markdown",
   "metadata": {},
   "source": [
    "# Crash emulator processing \n",
    "\n",
    "We want to create an emulator capable of predicting if a parameter dataset will lead to successful or crashed simulation, based on a previous 300 perturbed physics ensemble ran at CNRM. This Notebook creates the inputdata and outputdata array readable by the emulator. \n",
    "\n",
    "#### Emulator equation : Y = f(X) \n",
    "* Y is a 1x300 binary matrice Y={0:failed,1:succeeded} containing the list of failed/successed simulations.\n",
    "* X is a 30X300 matrice containing the 3à values of the hysical parameters, for the 300 perturbations."
   ]
  },
  {
   "cell_type": "markdown",
   "metadata": {},
   "source": [
    "## Import modules"
   ]
  },
  {
   "cell_type": "code",
   "execution_count": null,
   "metadata": {},
   "outputs": [
    {
     "name": "stderr",
     "output_type": "stream",
     "text": [
      "Using TensorFlow backend.\n"
     ]
    }
   ],
   "source": [
    "# Computational modules \n",
    "%matplotlib inline\n",
    "import xarray as xr\n",
    "import glob\n",
    "import os\n",
    "import numpy as np\n",
    "import netCDF4\n",
    "from netCDF4 import Dataset\n",
    "import pandas as pd\n",
    "import re\n",
    "from array import array\n",
    "from pylab import *\n",
    "\n",
    "# Plotting modules \n",
    "import matplotlib.pyplot as plt\n",
    "#from mpl_toolkits.basemap import Basemap\n",
    "import pandas.plotting\n",
    "import matplotlib.ticker as ticker\n",
    "# scatter plot matrix des variables quantitatives\n",
    "from pandas.plotting import scatter_matrix\n",
    "import seaborn as sns; sns.set()\n",
    "\n",
    "# Keras modules \n",
    "from keras.models import Sequential\n",
    "from keras.layers import Dense\n",
    "from keras.optimizers import SGD, Adam\n",
    "from keras.regularizers import l2\n",
    "import keras.backend as K\n",
    "from scipy import stats\n",
    "from keras import layers\n",
    "from keras.optimizers import RMSprop\n",
    "\n",
    "# Scikit-learn\n",
    "from sklearn.tree import DecisionTreeRegressor"
   ]
  },
  {
   "cell_type": "markdown",
   "metadata": {},
   "source": [
    "## Read the input.csv file and create inputdata array"
   ]
  },
  {
   "cell_type": "code",
   "execution_count": null,
   "metadata": {
    "scrolled": false
   },
   "outputs": [],
   "source": [
    "# Read data from file 'input.csv' \n",
    "# Then arrange nicely the data in dataframe and change data type of the values\n",
    "data = pd.read_csv(\"./input.csv\",sep=' ')\n",
    "inputdata=data.drop(['t_IDs'],axis=1)\n",
    "#INP = inputdata.transpose()\n",
    "inputdata"
   ]
  },
  {
   "cell_type": "code",
   "execution_count": null,
   "metadata": {},
   "outputs": [],
   "source": [
    "# Save the parameters names in a list \n",
    "param_names=list(inputdata.columns.values)\n",
    "param_names\n",
    "\n",
    "# Save the numpy array in a file   \n",
    "inp=inputdata.values\n",
    "np.save('/data/home/globc/peatier/CNRMppe/crash_emulator/inputdata_file.npy', inp)"
   ]
  },
  {
   "cell_type": "code",
   "execution_count": null,
   "metadata": {},
   "outputs": [],
   "source": [
    "#inputdata[param_names[0]].hist()\n",
    "#plt.show()"
   ]
  },
  {
   "cell_type": "code",
   "execution_count": null,
   "metadata": {},
   "outputs": [],
   "source": [
    "#inputdata[param_names[1]].hist()\n",
    "#plt.show()"
   ]
  },
  {
   "cell_type": "code",
   "execution_count": null,
   "metadata": {
    "scrolled": false
   },
   "outputs": [],
   "source": [
    "#Create plot\n",
    "\n",
    "\n",
    "scatter_matrix(inputdata[param_names[0:9]], alpha=0.2, figsize=(15, 15), diagonal='hist')\n",
    "plt.show()\n",
    "\n",
    "\n",
    "scatter_matrix(inputdata[param_names[10:19]], alpha=0.2, figsize=(15, 15), diagonal='hist')\n",
    "plt.show()\n",
    "\n",
    "\n",
    "scatter_matrix(inputdata[param_names[20:29]], alpha=0.2, figsize=(15, 15), diagonal='hist')\n",
    "plt.show()"
   ]
  },
  {
   "cell_type": "markdown",
   "metadata": {},
   "source": [
    "## Read output.csv and create outputdata array"
   ]
  },
  {
   "cell_type": "code",
   "execution_count": null,
   "metadata": {
    "scrolled": false
   },
   "outputs": [],
   "source": [
    "# Read data from file 'output.csv' \n",
    "# Then arrange nicely the data in dataframe and change data type of the values\n",
    "data_out = pd.read_csv(\"./output.csv\",sep=' ', header=None)\n",
    "#data_out "
   ]
  },
  {
   "cell_type": "code",
   "execution_count": null,
   "metadata": {},
   "outputs": [],
   "source": [
    "#Replace the ID by the line nmber\n",
    "dfindex=data_out.replace('TUNINGV631.', ' ', regex=True)\n",
    "#dfindex"
   ]
  },
  {
   "cell_type": "code",
   "execution_count": null,
   "metadata": {},
   "outputs": [],
   "source": [
    "# Create a dataframe 300x1 full of '1'\n",
    "inputdata['Y']=1\n",
    "Y = inputdata['Y'].to_frame()\n",
    "#Y "
   ]
  },
  {
   "cell_type": "code",
   "execution_count": null,
   "metadata": {
    "scrolled": false
   },
   "outputs": [],
   "source": [
    "# Loop to update Y based on dfindex\n",
    "\n",
    "list_line=[]\n",
    "\n",
    "N=len(dfindex)\n",
    "i=0\n",
    "while i<N:\n",
    "    nb = dfindex.iloc[i].astype(int)\n",
    "    line_nb = ( nb - 1 )\n",
    "    list_line.append(line_nb)\n",
    "    i=i+1\n",
    "\n",
    "Y.iloc[list_line] = 0\n",
    "Y # 1=succeeded, 0=failed"
   ]
  },
  {
   "cell_type": "code",
   "execution_count": null,
   "metadata": {},
   "outputs": [],
   "source": [
    "# Save the numpy array in a file   \n",
    "out=Y.values\n",
    "np.save('/data/home/globc/peatier/CNRMppe/crash_emulator/outputdata_file.npy', out)"
   ]
  }
 ],
 "metadata": {
  "kernelspec": {
   "display_name": "Python 3",
   "language": "python",
   "name": "python3"
  },
  "language_info": {
   "codemirror_mode": {
    "name": "ipython",
    "version": 3
   },
   "file_extension": ".py",
   "mimetype": "text/x-python",
   "name": "python",
   "nbconvert_exporter": "python",
   "pygments_lexer": "ipython3",
   "version": "3.7.5"
  }
 },
 "nbformat": 4,
 "nbformat_minor": 2
}
