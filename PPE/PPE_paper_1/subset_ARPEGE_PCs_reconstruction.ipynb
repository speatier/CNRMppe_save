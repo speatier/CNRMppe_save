{
 "cells": [
  {
   "cell_type": "markdown",
   "metadata": {},
   "source": [
    "# Importe modules"
   ]
  },
  {
   "cell_type": "code",
   "execution_count": 1,
   "metadata": {},
   "outputs": [],
   "source": [
    "# Computational modules \n",
    "%matplotlib inline\n",
    "import xarray as xr\n",
    "import glob\n",
    "import os\n",
    "import numpy as np\n",
    "import netCDF4\n",
    "from netCDF4 import Dataset\n",
    "import pandas as pd\n",
    "import re\n",
    "from array import array\n",
    "from pylab import *\n",
    "#import geopandas\n",
    "from eofs.xarray import Eof\n",
    "from eofs.multivariate.standard import MultivariateEof\n",
    "\n",
    "# Plotting modules \n",
    "import matplotlib.pyplot as plt\n",
    "from mpl_toolkits.basemap import Basemap\n",
    "import pandas.plotting\n",
    "import matplotlib.ticker as ticker\n",
    "import seaborn as sns\n",
    "import cartopy.crs as ccrs\n",
    "import cartopy.feature as cfeature\n",
    "from matplotlib.colors import BoundaryNorm\n",
    "\n",
    "# Scikit-learn\n",
    "from sklearn import linear_model\n",
    "from sklearn.linear_model import LassoCV, LassoLarsCV, LassoLarsIC\n",
    "from sklearn.linear_model import Lasso\n",
    "from sklearn.metrics import r2_score\n",
    "from sklearn import preprocessing\n",
    "from sklearn import tree\n",
    "from sklearn.ensemble import RandomForestClassifier\n",
    "from sklearn.metrics import confusion_matrix\n",
    "from sklearn import metrics\n",
    "from sklearn.neural_network import MLPRegressor"
   ]
  },
  {
   "cell_type": "markdown",
   "metadata": {},
   "source": [
    "# Functions definition"
   ]
  },
  {
   "cell_type": "code",
   "execution_count": 29,
   "metadata": {},
   "outputs": [],
   "source": [
    "import sys\n",
    "sys.path.append('/data/home/globc/peatier/CNRMppe')\n",
    "import Fonctions\n",
    "from Fonctions import get_wavg_budget_df\n",
    "from Fonctions import wavg \n",
    "from Fonctions import plotlines_Xdf\n",
    "from Fonctions import plotlines_1df\n",
    "from Fonctions import Deltas_Lambda"
   ]
  },
  {
   "cell_type": "markdown",
   "metadata": {},
   "source": [
    "# Settings"
   ]
  },
  {
   "cell_type": "code",
   "execution_count": 30,
   "metadata": {},
   "outputs": [],
   "source": [
    "ENSEMBLE = 'ENSEMBLE4_selection/'\n",
    "path_official = '/data/scratch/globc/peatier/CMIP6/CNRM-CM6-1/CFMIP/amip/'\n",
    "path_PPE_short = '/data/scratch/globc/peatier/CNRM-CM6-1_PPE/'\n",
    "variable = 'pr'\n",
    "variables = ['pr']"
   ]
  },
  {
   "cell_type": "code",
   "execution_count": 31,
   "metadata": {},
   "outputs": [],
   "source": [
    "path_official='/data/scratch/globc/peatier/CMIP6/CNRM-CM6-1/CFMIP/amip/'\n",
    "path_PPE='/data/scratch/globc/peatier/CNRM-CM6-1_PPE/'"
   ]
  },
  {
   "cell_type": "code",
   "execution_count": 32,
   "metadata": {},
   "outputs": [
    {
     "data": {
      "text/plain": [
       "102"
      ]
     },
     "execution_count": 32,
     "metadata": {},
     "output_type": "execute_result"
    }
   ],
   "source": [
    "nb_p_list = ['p311', 'p312', 'p314', 'p316',\n",
    "                    'p317', 'p319', 'p320', 'p321', 'p322', 'p324', 'p325', 'p326', \n",
    "                    'p329', 'p330', 'p331', 'p332', 'p335', 'p336', 'p337' ,'p338', \n",
    "                    'p340', 'p341', 'p343', 'p344', 'p346', 'p347', 'p348', 'p349', \n",
    "                    'p350', 'p353', 'p355', 'p357', 'p359', 'p360', \n",
    "                    'p361', 'p363', 'p365', 'p367', 'p368', 'p369', \n",
    "                    'p372', 'p373', 'p374', 'p375', 'p376', 'p378', 'p381', 'p382', \n",
    "                    'p384', 'p386', 'p388', 'p389', 'p391', 'p392', 'p393', \n",
    "                    'p394', 'p395', 'p396', 'p398', 'p399', 'p400', 'p404', \n",
    "                    'p406', 'p407', 'p409', 'p410', 'p411', 'p412',\n",
    "                    'p414','p416',\n",
    "                    'p413','p419','p424','p426','p428','p421','p423',\n",
    "                    'p425','p427','p429','p430','p436','p438','p431','p433',\n",
    "                    'p442','p446','p443','p445','p447',\n",
    "                    'p452','p454','p456','p458','p457','p459',\n",
    "                    'p460','p465','p467','p469',\n",
    "                    'p470','p471']\n",
    "\n",
    "len(nb_p_list)"
   ]
  },
  {
   "cell_type": "code",
   "execution_count": 33,
   "metadata": {},
   "outputs": [
    {
     "data": {
      "text/plain": [
       "8"
      ]
     },
     "execution_count": 33,
     "metadata": {},
     "output_type": "execute_result"
    }
   ],
   "source": [
    "nb_p_select = ['p840', 'p841', 'p842', 'p843', 'p844', 'p845', 'p846', 'p847'] \n",
    "len(nb_p_select)"
   ]
  },
  {
   "cell_type": "markdown",
   "metadata": {},
   "source": [
    "# Functions"
   ]
  },
  {
   "cell_type": "code",
   "execution_count": 34,
   "metadata": {},
   "outputs": [],
   "source": [
    "def get_3D_tas_xarr(path, filename, variables):\n",
    "\n",
    "    # First step : download the data into dataframe\n",
    "    file = xr.open_mfdataset(path+filename,combine='by_coords')\n",
    "    \n",
    "    # Second step : compute the annual average \n",
    "    df = file[variables].mean('time', keep_attrs=True)\n",
    "    tas = df['tas']\n",
    "    \n",
    "    return tas"
   ]
  },
  {
   "cell_type": "code",
   "execution_count": 35,
   "metadata": {},
   "outputs": [],
   "source": [
    "def get_3D_LW_xarr(path, filename, variables):\n",
    "\n",
    "    # First step : download the data into dataframe\n",
    "    file = xr.open_mfdataset(path+filename,combine='by_coords')\n",
    "    \n",
    "    # Second step : compute the annual average \n",
    "    df = file[variables].mean('time', keep_attrs=True)\n",
    "    LW = df['rlut']\n",
    "    \n",
    "    return LW"
   ]
  },
  {
   "cell_type": "code",
   "execution_count": 36,
   "metadata": {},
   "outputs": [],
   "source": [
    "def get_3D_pr_xarr(path, filename, variables):\n",
    "\n",
    "    # First step : download the data into dataframe\n",
    "    file = xr.open_mfdataset(path+filename,combine='by_coords')\n",
    "    #\n",
    "    # Second step : compute the annual average \n",
    "    df = file[variables].mean('time', keep_attrs=True)\n",
    "    pr = df['pr']*86400 \n",
    "    #\n",
    "    return pr"
   ]
  },
  {
   "cell_type": "code",
   "execution_count": 37,
   "metadata": {},
   "outputs": [],
   "source": [
    "def get_3D_SW_xarr(path, filename, variables):\n",
    "\n",
    "    # First step : download the data into dataframe\n",
    "    file = xr.open_mfdataset(path+filename,combine='by_coords')\n",
    "    \n",
    "    # Second step : compute the annual average \n",
    "    df = file[variables].mean('time', keep_attrs=True)\n",
    "    SW = df['rsdt'] - df['rsut']\n",
    "    \n",
    "    return SW"
   ]
  },
  {
   "cell_type": "markdown",
   "metadata": {},
   "source": [
    "# EOF PPE"
   ]
  },
  {
   "cell_type": "code",
   "execution_count": 38,
   "metadata": {},
   "outputs": [],
   "source": [
    "# Official\n",
    "path = path_official\n",
    "filename = '*_CNRM-CM6-1_amip_*.nc'\n",
    "official_amip = get_3D_pr_xarr(path, filename, variables)\n",
    "\n",
    "# Default simulation\n",
    "path = path_PPE+'ENSEMBLE1/CNRM-CM6-1_amip_PPE/CNRM-CM6-1_amip_r1i1p1f2/'\n",
    "filename = '*_CNRM-CM6-1_amip_*.nc'\n",
    "p1_amip = get_3D_pr_xarr(path, filename, variables)"
   ]
  },
  {
   "cell_type": "code",
   "execution_count": 39,
   "metadata": {
    "scrolled": true
   },
   "outputs": [],
   "source": [
    "# PPE amip simulations \n",
    "filename='*_amip_*.nc'\n",
    "\n",
    "N=len(nb_p_list)\n",
    "amip={}\n",
    "\n",
    "for nb_p in nb_p_list :\n",
    "    path=path_PPE+'ENSEMBLE2/CNRM-CM6-1_amip_LHS500_PPE/CNRM-CM6-1_amip_r1i1'+str(nb_p)+'f2/'\n",
    "    amip[str(nb_p)] = get_3D_pr_xarr(path, filename, variables)"
   ]
  },
  {
   "cell_type": "code",
   "execution_count": 40,
   "metadata": {},
   "outputs": [
    {
     "data": {
      "text/html": [
       "<pre>&lt;xarray.DataArray &#x27;pr&#x27; (lat: 128, lon: 256)&gt;\n",
       "dask.array&lt;mul, shape=(128, 256), dtype=float64, chunksize=(128, 256), chunktype=numpy.ndarray&gt;\n",
       "Coordinates:\n",
       "  * lon      (lon) float64 0.0 1.406 2.812 4.219 ... 354.4 355.8 357.2 358.6\n",
       "  * lat      (lat) float64 -88.93 -87.54 -86.14 -84.74 ... 86.14 87.54 88.93\n",
       "    height   float64 ...</pre>"
      ],
      "text/plain": [
       "<xarray.DataArray 'pr' (lat: 128, lon: 256)>\n",
       "dask.array<mul, shape=(128, 256), dtype=float64, chunksize=(128, 256), chunktype=numpy.ndarray>\n",
       "Coordinates:\n",
       "  * lon      (lon) float64 0.0 1.406 2.812 4.219 ... 354.4 355.8 357.2 358.6\n",
       "  * lat      (lat) float64 -88.93 -87.54 -86.14 -84.74 ... 86.14 87.54 88.93\n",
       "    height   float64 ..."
      ]
     },
     "execution_count": 40,
     "metadata": {},
     "output_type": "execute_result"
    }
   ],
   "source": [
    "#amip['official'] = official_amip\n",
    "amip['p1'] = p1_amip\n",
    "amip['p1']"
   ]
  },
  {
   "cell_type": "code",
   "execution_count": 41,
   "metadata": {},
   "outputs": [],
   "source": [
    "amip_list=[]\n",
    "\n",
    "amip_list.append(amip['p1'])\n",
    "\n",
    "for nb_p in nb_p_list :\n",
    "    tmp = amip[str(nb_p)]\n",
    "    amip_list.append(tmp) "
   ]
  },
  {
   "cell_type": "code",
   "execution_count": 42,
   "metadata": {},
   "outputs": [
    {
     "data": {
      "text/html": [
       "<pre>&lt;xarray.DataArray &#x27;pr&#x27; (time: 103, lat: 128, lon: 256)&gt;\n",
       "dask.array&lt;concatenate, shape=(103, 128, 256), dtype=float64, chunksize=(1, 128, 256), chunktype=numpy.ndarray&gt;\n",
       "Coordinates:\n",
       "    height   float64 2.0\n",
       "  * lat      (lat) float64 -88.93 -87.54 -86.14 -84.74 ... 86.14 87.54 88.93\n",
       "  * lon      (lon) float64 0.0 1.406 2.812 4.219 ... 354.4 355.8 357.2 358.6\n",
       "Dimensions without coordinates: time</pre>"
      ],
      "text/plain": [
       "<xarray.DataArray 'pr' (time: 103, lat: 128, lon: 256)>\n",
       "dask.array<concatenate, shape=(103, 128, 256), dtype=float64, chunksize=(1, 128, 256), chunktype=numpy.ndarray>\n",
       "Coordinates:\n",
       "    height   float64 2.0\n",
       "  * lat      (lat) float64 -88.93 -87.54 -86.14 -84.74 ... 86.14 87.54 88.93\n",
       "  * lon      (lon) float64 0.0 1.406 2.812 4.219 ... 354.4 355.8 357.2 358.6\n",
       "Dimensions without coordinates: time"
      ]
     },
     "execution_count": 42,
     "metadata": {},
     "output_type": "execute_result"
    }
   ],
   "source": [
    "# essaie Aurélien \n",
    "matrix = xr.concat(amip_list, dim = 'time')\n",
    "matrix"
   ]
  },
  {
   "cell_type": "markdown",
   "metadata": {},
   "source": [
    "### EOF analysis"
   ]
  },
  {
   "cell_type": "code",
   "execution_count": 43,
   "metadata": {},
   "outputs": [],
   "source": [
    "# Mean wheigted with cos(lat) : \n",
    "lats = matrix['lat'][:]\n",
    "coslat = np.cos(np.deg2rad(lats)).clip(0., 1.)\n",
    "wgts = np.sqrt(coslat).drop(labels='height').values\n",
    "W =wgts[np.newaxis,:,np.newaxis]\n",
    "#W"
   ]
  },
  {
   "cell_type": "code",
   "execution_count": 44,
   "metadata": {},
   "outputs": [],
   "source": [
    "list_tmp = W[0,:,0]\n",
    "list_W = []\n",
    "list_lat = []\n",
    "list_lon = []\n",
    "list_mb = []\n",
    "\n",
    "for j in range(0,256,1) :\n",
    "    for i in range(0,128,1) :\n",
    "        list_W.append(list_tmp[i])\n",
    "        list_lat.append(float(amip['p1']['lat'][i]))\n",
    "        list_lon.append(float(amip['p1']['lon'][j]))\n",
    "        #list_mb.append(k)"
   ]
  },
  {
   "cell_type": "code",
   "execution_count": 45,
   "metadata": {},
   "outputs": [
    {
     "data": {
      "text/html": [
       "<pre>&lt;xarray.DataArray &#x27;W&#x27; (lat: 128, lon: 256)&gt;\n",
       "array([[0.13679714, 0.13679714, 0.13679714, ..., 0.13679714, 0.13679714,\n",
       "        0.13679714],\n",
       "       [0.20723052, 0.20723052, 0.20723052, ..., 0.20723052, 0.20723052,\n",
       "        0.20723052],\n",
       "       [0.25940918, 0.25940918, 0.25940918, ..., 0.25940918, 0.25940918,\n",
       "        0.25940918],\n",
       "       ...,\n",
       "       [0.25940918, 0.25940918, 0.25940918, ..., 0.25940918, 0.25940918,\n",
       "        0.25940918],\n",
       "       [0.20723052, 0.20723052, 0.20723052, ..., 0.20723052, 0.20723052,\n",
       "        0.20723052],\n",
       "       [0.13679714, 0.13679714, 0.13679714, ..., 0.13679714, 0.13679714,\n",
       "        0.13679714]])\n",
       "Coordinates:\n",
       "  * lat      (lat) float64 -88.93 -87.54 -86.14 -84.74 ... 86.14 87.54 88.93\n",
       "  * lon      (lon) float64 0.0 1.406 2.812 4.219 ... 354.4 355.8 357.2 358.6</pre>"
      ],
      "text/plain": [
       "<xarray.DataArray 'W' (lat: 128, lon: 256)>\n",
       "array([[0.13679714, 0.13679714, 0.13679714, ..., 0.13679714, 0.13679714,\n",
       "        0.13679714],\n",
       "       [0.20723052, 0.20723052, 0.20723052, ..., 0.20723052, 0.20723052,\n",
       "        0.20723052],\n",
       "       [0.25940918, 0.25940918, 0.25940918, ..., 0.25940918, 0.25940918,\n",
       "        0.25940918],\n",
       "       ...,\n",
       "       [0.25940918, 0.25940918, 0.25940918, ..., 0.25940918, 0.25940918,\n",
       "        0.25940918],\n",
       "       [0.20723052, 0.20723052, 0.20723052, ..., 0.20723052, 0.20723052,\n",
       "        0.20723052],\n",
       "       [0.13679714, 0.13679714, 0.13679714, ..., 0.13679714, 0.13679714,\n",
       "        0.13679714]])\n",
       "Coordinates:\n",
       "  * lat      (lat) float64 -88.93 -87.54 -86.14 -84.74 ... 86.14 87.54 88.93\n",
       "  * lon      (lon) float64 0.0 1.406 2.812 4.219 ... 354.4 355.8 357.2 358.6"
      ]
     },
     "execution_count": 45,
     "metadata": {},
     "output_type": "execute_result"
    }
   ],
   "source": [
    "df = pd.DataFrame(list_W, columns=['W'])#.transpose()\n",
    "df['lat'] = list_lat\n",
    "df['lon'] = list_lon\n",
    "#df['dummy'] = list_dummy\n",
    "df_W = df.groupby(['lat','lon']).mean().to_xarray()\n",
    "da_W = df_W.to_array(dim='time')\n",
    "#df_W = df.drop(dims='variable')\n",
    "df_W['W']"
   ]
  },
  {
   "cell_type": "code",
   "execution_count": 46,
   "metadata": {},
   "outputs": [
    {
     "data": {
      "text/html": [
       "<pre>&lt;xarray.DataArray &#x27;pr&#x27; (time: 103, lat: 128, lon: 256)&gt;\n",
       "dask.array&lt;sub, shape=(103, 128, 256), dtype=float64, chunksize=(1, 128, 256), chunktype=numpy.ndarray&gt;\n",
       "Coordinates:\n",
       "    height   float64 2.0\n",
       "  * lat      (lat) float64 -88.93 -87.54 -86.14 -84.74 ... 86.14 87.54 88.93\n",
       "  * lon      (lon) float64 0.0 1.406 2.812 4.219 ... 354.4 355.8 357.2 358.6\n",
       "Dimensions without coordinates: time</pre>"
      ],
      "text/plain": [
       "<xarray.DataArray 'pr' (time: 103, lat: 128, lon: 256)>\n",
       "dask.array<sub, shape=(103, 128, 256), dtype=float64, chunksize=(1, 128, 256), chunktype=numpy.ndarray>\n",
       "Coordinates:\n",
       "    height   float64 2.0\n",
       "  * lat      (lat) float64 -88.93 -87.54 -86.14 -84.74 ... 86.14 87.54 88.93\n",
       "  * lon      (lon) float64 0.0 1.406 2.812 4.219 ... 354.4 355.8 357.2 358.6\n",
       "Dimensions without coordinates: time"
      ]
     },
     "execution_count": 46,
     "metadata": {},
     "output_type": "execute_result"
    }
   ],
   "source": [
    "# Compute anomalies by removing the time-mean.\n",
    "mean = matrix.mean(axis=0)\n",
    "anom = matrix - mean\n",
    "anom"
   ]
  },
  {
   "cell_type": "code",
   "execution_count": 47,
   "metadata": {},
   "outputs": [
    {
     "data": {
      "text/html": [
       "<pre>&lt;xarray.DataArray &#x27;W&#x27; (time: 103, lat: 128, lon: 256)&gt;\n",
       "dask.array&lt;mul, shape=(103, 128, 256), dtype=float64, chunksize=(1, 128, 256), chunktype=numpy.ndarray&gt;\n",
       "Coordinates:\n",
       "  * lat      (lat) float64 -88.93 -87.54 -86.14 -84.74 ... 86.14 87.54 88.93\n",
       "  * lon      (lon) float64 0.0 1.406 2.812 4.219 ... 354.4 355.8 357.2 358.6\n",
       "    height   float64 2.0\n",
       "Dimensions without coordinates: time</pre>"
      ],
      "text/plain": [
       "<xarray.DataArray 'W' (time: 103, lat: 128, lon: 256)>\n",
       "dask.array<mul, shape=(103, 128, 256), dtype=float64, chunksize=(1, 128, 256), chunktype=numpy.ndarray>\n",
       "Coordinates:\n",
       "  * lat      (lat) float64 -88.93 -87.54 -86.14 -84.74 ... 86.14 87.54 88.93\n",
       "  * lon      (lon) float64 0.0 1.406 2.812 4.219 ... 354.4 355.8 357.2 358.6\n",
       "    height   float64 2.0\n",
       "Dimensions without coordinates: time"
      ]
     },
     "execution_count": 47,
     "metadata": {},
     "output_type": "execute_result"
    }
   ],
   "source": [
    "anom_w = (anom*df_W)#.to_array()\n",
    "anom_w['W']"
   ]
  },
  {
   "cell_type": "code",
   "execution_count": 48,
   "metadata": {},
   "outputs": [],
   "source": [
    "# Create an EOF solver to do the EOF analysis. \n",
    "solver = Eof(anom_w['W'], center=False, weights=None)\n",
    "\n",
    "eof = solver.eofsAsCovariance(neofs=100, pcscaling=0)\n",
    "pc = solver.pcs(npcs=5, pcscaling=0)"
   ]
  },
  {
   "cell_type": "markdown",
   "metadata": {},
   "source": [
    "# Get data selection"
   ]
  },
  {
   "cell_type": "code",
   "execution_count": 49,
   "metadata": {},
   "outputs": [],
   "source": [
    "filename='*_amip_*.nc'\n",
    "amip_select={}\n",
    "\n",
    "for nb_p in nb_p_select :\n",
    "    path=path_PPE+'ENSEMBLE4_selection/CNRM-CM6-1_amip_PPE_ENSEMBLE4_selection/CNRM-CM6-1_amip_r1i1'+str(nb_p)+'f2/'\n",
    "    tmp = get_3D_pr_xarr(path, filename, variables)\n",
    "    amip_select[str(nb_p)] = tmp.assign_coords(lat=amip_list[0]['lat'])"
   ]
  },
  {
   "cell_type": "code",
   "execution_count": 50,
   "metadata": {},
   "outputs": [],
   "source": [
    "amip_select_list=[]\n",
    "\n",
    "for p in nb_p_select :\n",
    "    tmp_select = amip_select[str(p)]\n",
    "    amip_select_list.append(tmp_select)"
   ]
  },
  {
   "cell_type": "code",
   "execution_count": 51,
   "metadata": {},
   "outputs": [
    {
     "data": {
      "text/html": [
       "<pre>&lt;xarray.DataArray &#x27;pr&#x27; (time: 8, lat: 128, lon: 256)&gt;\n",
       "dask.array&lt;concatenate, shape=(8, 128, 256), dtype=float64, chunksize=(1, 128, 256), chunktype=numpy.ndarray&gt;\n",
       "Coordinates:\n",
       "    height   float64 ...\n",
       "  * lat      (lat) float64 -88.93 -87.54 -86.14 -84.74 ... 86.14 87.54 88.93\n",
       "  * lon      (lon) float64 0.0 1.406 2.812 4.219 ... 354.4 355.8 357.2 358.6\n",
       "Dimensions without coordinates: time</pre>"
      ],
      "text/plain": [
       "<xarray.DataArray 'pr' (time: 8, lat: 128, lon: 256)>\n",
       "dask.array<concatenate, shape=(8, 128, 256), dtype=float64, chunksize=(1, 128, 256), chunktype=numpy.ndarray>\n",
       "Coordinates:\n",
       "    height   float64 ...\n",
       "  * lat      (lat) float64 -88.93 -87.54 -86.14 -84.74 ... 86.14 87.54 88.93\n",
       "  * lon      (lon) float64 0.0 1.406 2.812 4.219 ... 354.4 355.8 357.2 358.6\n",
       "Dimensions without coordinates: time"
      ]
     },
     "execution_count": 51,
     "metadata": {},
     "output_type": "execute_result"
    }
   ],
   "source": [
    "# essaie Aurélien \n",
    "matrix_select = xr.concat(amip_select_list, dim = 'time')\n",
    "matrix_select"
   ]
  },
  {
   "cell_type": "code",
   "execution_count": 52,
   "metadata": {},
   "outputs": [
    {
     "data": {
      "text/html": [
       "<pre>&lt;xarray.DataArray &#x27;pr&#x27; (time: 8, lat: 128, lon: 256)&gt;\n",
       "dask.array&lt;sub, shape=(8, 128, 256), dtype=float64, chunksize=(1, 128, 256), chunktype=numpy.ndarray&gt;\n",
       "Coordinates:\n",
       "    height   float64 2.0\n",
       "  * lat      (lat) float64 -88.93 -87.54 -86.14 -84.74 ... 86.14 87.54 88.93\n",
       "  * lon      (lon) float64 0.0 1.406 2.812 4.219 ... 354.4 355.8 357.2 358.6\n",
       "Dimensions without coordinates: time</pre>"
      ],
      "text/plain": [
       "<xarray.DataArray 'pr' (time: 8, lat: 128, lon: 256)>\n",
       "dask.array<sub, shape=(8, 128, 256), dtype=float64, chunksize=(1, 128, 256), chunktype=numpy.ndarray>\n",
       "Coordinates:\n",
       "    height   float64 2.0\n",
       "  * lat      (lat) float64 -88.93 -87.54 -86.14 -84.74 ... 86.14 87.54 88.93\n",
       "  * lon      (lon) float64 0.0 1.406 2.812 4.219 ... 354.4 355.8 357.2 358.6\n",
       "Dimensions without coordinates: time"
      ]
     },
     "execution_count": 52,
     "metadata": {},
     "output_type": "execute_result"
    }
   ],
   "source": [
    "anom_select = matrix_select - mean #_select\n",
    "anom_select"
   ]
  },
  {
   "cell_type": "code",
   "execution_count": 53,
   "metadata": {},
   "outputs": [
    {
     "data": {
      "text/html": [
       "<pre>&lt;xarray.DataArray &#x27;W&#x27; (lat: 128, lon: 256)&gt;\n",
       "dask.array&lt;getitem, shape=(128, 256), dtype=float64, chunksize=(128, 256), chunktype=numpy.ndarray&gt;\n",
       "Coordinates:\n",
       "  * lat      (lat) float64 -88.93 -87.54 -86.14 -84.74 ... 86.14 87.54 88.93\n",
       "  * lon      (lon) float64 0.0 1.406 2.812 4.219 ... 354.4 355.8 357.2 358.6\n",
       "    height   float64 2.0</pre>"
      ],
      "text/plain": [
       "<xarray.DataArray 'W' (lat: 128, lon: 256)>\n",
       "dask.array<getitem, shape=(128, 256), dtype=float64, chunksize=(128, 256), chunktype=numpy.ndarray>\n",
       "Coordinates:\n",
       "  * lat      (lat) float64 -88.93 -87.54 -86.14 -84.74 ... 86.14 87.54 88.93\n",
       "  * lon      (lon) float64 0.0 1.406 2.812 4.219 ... 354.4 355.8 357.2 358.6\n",
       "    height   float64 2.0"
      ]
     },
     "execution_count": 53,
     "metadata": {},
     "output_type": "execute_result"
    }
   ],
   "source": [
    "anom_select_w = (anom_select*df_W)#.to_array()\n",
    "anom_select_w['W'][0,:,:]"
   ]
  },
  {
   "cell_type": "markdown",
   "metadata": {},
   "source": [
    "# Trouver U_avg of the selection and save"
   ]
  },
  {
   "cell_type": "code",
   "execution_count": 54,
   "metadata": {},
   "outputs": [],
   "source": [
    "cpt=0\n",
    "for i in nb_p_select :\n",
    "    X = anom_select_w['W'][cpt,:,:]\n",
    "    U_avg = solver.projectField(X, neofs=5, weighted=False, eofscaling=0)#[0,:]\n",
    "    cpt+=1\n",
    "    \n",
    "    # Save the U_avg\n",
    "    np.save('/data/home/globc/peatier/CNRMppe/PPE/ENSEMBLE4_selection/files/npy/U_'+i+'_'+variable+'.npy', U_avg)"
   ]
  },
  {
   "cell_type": "code",
   "execution_count": 55,
   "metadata": {},
   "outputs": [
    {
     "data": {
      "text/html": [
       "<pre>&lt;xarray.DataArray &#x27;pseudo_pcs&#x27; (mode: 5)&gt;\n",
       "array([ 70.2055978 ,  -1.95519531,  73.62246445, -28.06079351,\n",
       "       -40.79706796])\n",
       "Coordinates:\n",
       "  * mode     (mode) int64 0 1 2 3 4\n",
       "Attributes:\n",
       "    long_name:  W_pseudo_pcs</pre>"
      ],
      "text/plain": [
       "<xarray.DataArray 'pseudo_pcs' (mode: 5)>\n",
       "array([ 70.2055978 ,  -1.95519531,  73.62246445, -28.06079351,\n",
       "       -40.79706796])\n",
       "Coordinates:\n",
       "  * mode     (mode) int64 0 1 2 3 4\n",
       "Attributes:\n",
       "    long_name:  W_pseudo_pcs"
      ]
     },
     "execution_count": 55,
     "metadata": {},
     "output_type": "execute_result"
    }
   ],
   "source": [
    "U_avg"
   ]
  },
  {
   "cell_type": "markdown",
   "metadata": {},
   "source": [
    "# Test"
   ]
  },
  {
   "cell_type": "code",
   "execution_count": null,
   "metadata": {},
   "outputs": [],
   "source": []
  },
  {
   "cell_type": "code",
   "execution_count": null,
   "metadata": {},
   "outputs": [],
   "source": []
  }
 ],
 "metadata": {
  "kernelspec": {
   "display_name": "Python 3",
   "language": "python",
   "name": "python3"
  },
  "language_info": {
   "codemirror_mode": {
    "name": "ipython",
    "version": 3
   },
   "file_extension": ".py",
   "mimetype": "text/x-python",
   "name": "python",
   "nbconvert_exporter": "python",
   "pygments_lexer": "ipython3",
   "version": "3.7.6"
  }
 },
 "nbformat": 4,
 "nbformat_minor": 2
}
