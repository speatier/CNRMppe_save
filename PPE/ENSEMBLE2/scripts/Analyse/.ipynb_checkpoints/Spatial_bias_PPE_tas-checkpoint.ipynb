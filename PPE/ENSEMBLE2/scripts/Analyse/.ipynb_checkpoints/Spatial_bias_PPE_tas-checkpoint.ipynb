{
 "cells": [
  {
   "cell_type": "markdown",
   "metadata": {},
   "source": [
    "# Importe modules"
   ]
  },
  {
   "cell_type": "code",
   "execution_count": 1,
   "metadata": {},
   "outputs": [],
   "source": [
    "# Computational modules \n",
    "%matplotlib inline\n",
    "import xarray as xr\n",
    "import glob\n",
    "import os\n",
    "import numpy as np\n",
    "import netCDF4\n",
    "from netCDF4 import Dataset\n",
    "import pandas as pd\n",
    "import re\n",
    "from array import array\n",
    "from pylab import *\n",
    "#import geopandas\n",
    "\n",
    "# Plotting modules \n",
    "import matplotlib.pyplot as plt\n",
    "from mpl_toolkits.basemap import Basemap\n",
    "import pandas.plotting\n",
    "import matplotlib.ticker as ticker\n",
    "import seaborn as sns"
   ]
  },
  {
   "cell_type": "markdown",
   "metadata": {},
   "source": [
    "# Functions definition"
   ]
  },
  {
   "cell_type": "code",
   "execution_count": 4,
   "metadata": {},
   "outputs": [],
   "source": [
    "import sys\n",
    "sys.path.append('/data/home/globc/peatier/CNRMppe')\n",
    "import Fonctions\n",
    "from Fonctions import get_wavg_budget_df\n",
    "from Fonctions import wavg \n",
    "from Fonctions import plotlines_Xdf\n",
    "from Fonctions import plotlines_1df\n",
    "from Fonctions import Deltas_Lambda\n",
    "from Fonctions import get_3D_xarr\n",
    "from Fonctions import get_3D_budget_xarr\n",
    "from Fonctions import get_3D_SW_xarr\n",
    "from Fonctions import get_3D_tas_xarr"
   ]
  },
  {
   "cell_type": "markdown",
   "metadata": {},
   "source": [
    "# Read files : tas"
   ]
  },
  {
   "cell_type": "markdown",
   "metadata": {},
   "source": [
    "## The ensemble mean"
   ]
  },
  {
   "cell_type": "code",
   "execution_count": 6,
   "metadata": {},
   "outputs": [
    {
     "name": "stdout",
     "output_type": "stream",
     "text": [
      "p311\n",
      "p312\n",
      "p314\n",
      "p316\n",
      "p317\n",
      "p319\n",
      "p320\n",
      "p321\n",
      "p322\n",
      "p324\n",
      "p325\n",
      "p326\n",
      "p329\n",
      "p330\n",
      "p331\n",
      "p332\n",
      "p335\n",
      "p336\n",
      "p337\n",
      "p338\n",
      "p340\n",
      "p341\n",
      "p343\n",
      "p344\n",
      "p346\n",
      "p347\n",
      "p348\n",
      "p349\n",
      "p350\n",
      "p353\n",
      "p355\n",
      "p357\n",
      "p359\n",
      "p360\n",
      "p361\n",
      "p363\n",
      "p365\n",
      "p367\n",
      "p368\n",
      "p369\n",
      "p372\n",
      "p373\n",
      "p374\n",
      "p375\n",
      "p376\n",
      "p378\n",
      "p381\n",
      "p382\n",
      "p384\n",
      "p386\n",
      "p388\n",
      "p389\n",
      "p391\n",
      "p392\n",
      "p393\n",
      "p394\n",
      "p395\n",
      "p396\n",
      "p398\n",
      "p399\n",
      "p400\n",
      "p404\n",
      "p406\n",
      "p407\n",
      "p409\n",
      "p410\n",
      "p411\n",
      "p412\n",
      "p414\n",
      "p416\n",
      "p413\n",
      "p419\n",
      "p424\n",
      "p426\n",
      "p428\n",
      "p421\n",
      "p423\n",
      "p425\n",
      "p427\n",
      "p429\n",
      "p430\n",
      "p436\n",
      "p438\n",
      "p431\n",
      "p433\n",
      "p442\n",
      "p446\n",
      "p443\n",
      "p445\n",
      "p447\n",
      "p452\n",
      "p454\n",
      "p456\n",
      "p458\n",
      "p457\n",
      "p459\n",
      "p460\n",
      "p465\n",
      "p467\n",
      "p469\n",
      "p470\n",
      "p471\n"
     ]
    }
   ],
   "source": [
    "path_official='/data/scratch/globc/peatier/CMIP6/CNRM-CM6-1/CFMIP/amip/'\n",
    "path_PPE='/data/scratch/globc/peatier/CNRM-CM6-1_PPE/ENSEMBLE2/'\n",
    "filename='*_amip_*.nc'\n",
    "variables=['tas']\n",
    "\n",
    "# List, à changer en fonction de ce que l'on veut regarder :\n",
    "nb_p_list = ['p311', 'p312', 'p314', 'p316',\n",
    "                    'p317', 'p319', 'p320', 'p321', 'p322', 'p324', 'p325', 'p326', \n",
    "                    'p329', 'p330', 'p331', 'p332', 'p335', 'p336', 'p337' ,'p338', \n",
    "                    'p340', 'p341', 'p343', 'p344', 'p346', 'p347', 'p348', 'p349', \n",
    "                    'p350', 'p353', 'p355', 'p357', 'p359', 'p360', \n",
    "                    'p361', 'p363', 'p365', 'p367', 'p368', 'p369', \n",
    "                    'p372', 'p373', 'p374', 'p375', 'p376', 'p378', 'p381', 'p382', \n",
    "                    'p384', 'p386', 'p388', 'p389', 'p391', 'p392', 'p393', \n",
    "                    'p394', 'p395', 'p396', 'p398', 'p399', 'p400', 'p404', \n",
    "                    'p406', 'p407', 'p409', 'p410', 'p411', 'p412',\n",
    "                    'p414','p416',\n",
    "                    'p413','p419','p424','p426','p428','p421','p423',\n",
    "                    'p425','p427','p429','p430','p436','p438','p431','p433',\n",
    "                    'p442','p446','p443','p445','p447',\n",
    "                    'p452','p454','p456','p458','p457','p459',\n",
    "                    'p460','p465','p467','p469',\n",
    "                    'p470','p471']\n",
    "\n",
    "\n",
    "N=len(nb_p_list)\n",
    "amip={}\n",
    "i = 0\n",
    "while i<N:\n",
    "    nb_p = nb_p_list[i]\n",
    "    print(nb_p)\n",
    "    path=path_PPE+'CNRM-CM6-1_amip_LHS500_PPE/CNRM-CM6-1_amip_r1i1'+str(nb_p)+'f2/'\n",
    "    amip[str(nb_p)] = get_3D_tas_xarr(path, filename, variables)\n",
    "    i=i+1   "
   ]
  },
  {
   "cell_type": "code",
   "execution_count": 8,
   "metadata": {},
   "outputs": [],
   "source": [
    "n=len(nb_p_list)\n",
    "amip_list=[0]*(n)\n",
    "\n",
    "\n",
    "\n",
    "i = 0\n",
    "while i<n:\n",
    "    nb_p = nb_p_list[i]\n",
    "    tmp = amip[str(nb_p)]\n",
    "    amip_list[i] = tmp\n",
    "    i+=1"
   ]
  },
  {
   "cell_type": "code",
   "execution_count": 10,
   "metadata": {},
   "outputs": [
    {
     "data": {
      "text/html": [
       "<pre>&lt;xarray.DataArray &#x27;tas&#x27; (time: 102, lat: 128, lon: 256)&gt;\n",
       "dask.array&lt;concatenate, shape=(102, 128, 256), dtype=float32, chunksize=(1, 128, 256), chunktype=numpy.ndarray&gt;\n",
       "Coordinates:\n",
       "    height   float64 2.0\n",
       "  * lat      (lat) float64 -88.93 -87.54 -86.14 -84.74 ... 86.14 87.54 88.93\n",
       "  * lon      (lon) float64 0.0 1.406 2.812 4.219 ... 354.4 355.8 357.2 358.6\n",
       "Dimensions without coordinates: time\n",
       "Attributes:\n",
       "    online_operation:    average\n",
       "    cell_methods:        area: time: mean\n",
       "    interval_operation:  900 s\n",
       "    interval_write:      1 month\n",
       "    standard_name:       air_temperature\n",
       "    description:         Near-Surface Air Temperature\n",
       "    long_name:           Near-Surface Air Temperature\n",
       "    history:             none\n",
       "    units:               K\n",
       "    cell_measures:       area: areacella</pre>"
      ],
      "text/plain": [
       "<xarray.DataArray 'tas' (time: 102, lat: 128, lon: 256)>\n",
       "dask.array<concatenate, shape=(102, 128, 256), dtype=float32, chunksize=(1, 128, 256), chunktype=numpy.ndarray>\n",
       "Coordinates:\n",
       "    height   float64 2.0\n",
       "  * lat      (lat) float64 -88.93 -87.54 -86.14 -84.74 ... 86.14 87.54 88.93\n",
       "  * lon      (lon) float64 0.0 1.406 2.812 4.219 ... 354.4 355.8 357.2 358.6\n",
       "Dimensions without coordinates: time\n",
       "Attributes:\n",
       "    online_operation:    average\n",
       "    cell_methods:        area: time: mean\n",
       "    interval_operation:  900 s\n",
       "    interval_write:      1 month\n",
       "    standard_name:       air_temperature\n",
       "    description:         Near-Surface Air Temperature\n",
       "    long_name:           Near-Surface Air Temperature\n",
       "    history:             none\n",
       "    units:               K\n",
       "    cell_measures:       area: areacella"
      ]
     },
     "execution_count": 10,
     "metadata": {},
     "output_type": "execute_result"
    }
   ],
   "source": [
    "matrix = xr.combine_nested(amip_list, concat_dim=['time'])\n",
    "matrix"
   ]
  },
  {
   "cell_type": "code",
   "execution_count": 15,
   "metadata": {},
   "outputs": [
    {
     "data": {
      "text/html": [
       "<pre>&lt;xarray.DataArray &#x27;tas&#x27; (lat: 128, lon: 256)&gt;\n",
       "dask.array&lt;mean_agg-aggregate, shape=(128, 256), dtype=float32, chunksize=(128, 256), chunktype=numpy.ndarray&gt;\n",
       "Coordinates:\n",
       "    height   float64 2.0\n",
       "  * lat      (lat) float64 -88.93 -87.54 -86.14 -84.74 ... 86.14 87.54 88.93\n",
       "  * lon      (lon) float64 0.0 1.406 2.812 4.219 ... 354.4 355.8 357.2 358.6</pre>"
      ],
      "text/plain": [
       "<xarray.DataArray 'tas' (lat: 128, lon: 256)>\n",
       "dask.array<mean_agg-aggregate, shape=(128, 256), dtype=float32, chunksize=(128, 256), chunktype=numpy.ndarray>\n",
       "Coordinates:\n",
       "    height   float64 2.0\n",
       "  * lat      (lat) float64 -88.93 -87.54 -86.14 -84.74 ... 86.14 87.54 88.93\n",
       "  * lon      (lon) float64 0.0 1.406 2.812 4.219 ... 354.4 355.8 357.2 358.6"
      ]
     },
     "execution_count": 15,
     "metadata": {},
     "output_type": "execute_result"
    }
   ],
   "source": [
    "ens_mean_PPE = matrix.mean(dim='time')\n",
    "ens_mean_PPE"
   ]
  },
  {
   "cell_type": "code",
   "execution_count": 16,
   "metadata": {},
   "outputs": [
    {
     "data": {
      "text/html": [
       "<pre>&lt;xarray.DataArray &#x27;tas&#x27; (lat: 128, lon: 256)&gt;\n",
       "dask.array&lt;sqrt, shape=(128, 256), dtype=float32, chunksize=(128, 256), chunktype=numpy.ndarray&gt;\n",
       "Coordinates:\n",
       "    height   float64 2.0\n",
       "  * lat      (lat) float64 -88.93 -87.54 -86.14 -84.74 ... 86.14 87.54 88.93\n",
       "  * lon      (lon) float64 0.0 1.406 2.812 4.219 ... 354.4 355.8 357.2 358.6</pre>"
      ],
      "text/plain": [
       "<xarray.DataArray 'tas' (lat: 128, lon: 256)>\n",
       "dask.array<sqrt, shape=(128, 256), dtype=float32, chunksize=(128, 256), chunktype=numpy.ndarray>\n",
       "Coordinates:\n",
       "    height   float64 2.0\n",
       "  * lat      (lat) float64 -88.93 -87.54 -86.14 -84.74 ... 86.14 87.54 88.93\n",
       "  * lon      (lon) float64 0.0 1.406 2.812 4.219 ... 354.4 355.8 357.2 358.6"
      ]
     },
     "execution_count": 16,
     "metadata": {},
     "output_type": "execute_result"
    }
   ],
   "source": [
    "std_PPE = matrix.std(dim='time')\n",
    "std_PPE"
   ]
  },
  {
   "cell_type": "markdown",
   "metadata": {},
   "source": [
    "## Get the CMIP6 datatset"
   ]
  },
  {
   "cell_type": "code",
   "execution_count": 17,
   "metadata": {},
   "outputs": [],
   "source": [
    "def load_monthly_clim(path, filename, variables) :\n",
    "    \n",
    "    file = xr.open_mfdataset(path+filename,combine='by_coords')\n",
    "    df=file[variables].to_dataframe()\n",
    "    \n",
    "    # Compute Climatological Annual Cycle :\n",
    "    df1=df.reset_index(level=['time', 'lat', 'lon'])\n",
    "    df1['month']=pd.DatetimeIndex(df1['time']).month # time in years\n",
    "    df_mean=df1.groupby(['month', 'lat', 'lon']).mean()\n",
    "    \n",
    "    return df_mean"
   ]
  },
  {
   "cell_type": "code",
   "execution_count": 25,
   "metadata": {},
   "outputs": [],
   "source": [
    "# Download the amip dataframes and compute the radiative budget  \n",
    "\n",
    "path = \"/data/scratch/globc/peatier/CMIP6/CNRM-CM6-1/CFMIP/amip/\"\n",
    "filename = \"*_amip_*.nc\"\n",
    "variables = ['tas']\n",
    "CNRM_df = load_monthly_clim(path, filename, variables)\n",
    "CNRM_tmp = CNRM_df.drop('height')\n",
    "CRM_amip = CNRM_tmp.groupby(['lat','lon']).mean().to_xarray()\n",
    "\n",
    "path = \"/data/scratch/globc/peatier/CMIP6/MRI-ESM2-0/amip/\"\n",
    "MRI_amip = load_monthly_clim(path, filename, variables)\n",
    "MRI_amip = MRI_amip.groupby(['lat','lon']).mean().to_xarray()\n",
    "\n",
    "path = \"/data/scratch/globc/peatier/CMIP6/CanESM5/amip/\"\n",
    "filename = \"standard_*_amip_*regrid.nc\"\n",
    "CAN_amip = load_monthly_clim(path, filename, variables)\n",
    "CAN_amip = CAN_amip.groupby(['lat','lon']).mean().to_xarray()\n",
    "\n",
    "path = \"/data/scratch/globc/peatier/CMIP6/MIROC6/\"\n",
    "filename = \"*_amip_*regrid.nc\"\n",
    "MIROC_amip = load_monthly_clim(path, filename, variables)\n",
    "MIROC_amip = MIROC_amip.groupby(['lat','lon']).mean().to_xarray()\n",
    "\n",
    "path = \"/data/scratch/globc/peatier/CMIP6/HadGEM3-GC31-LL/\"\n",
    "filename = \"standard_*_amip_*regrid.nc\"\n",
    "HadGEM3_amip = load_monthly_clim(path, filename, variables)\n",
    "HadGEM3_amip = HadGEM3_amip.groupby(['lat','lon']).mean().to_xarray()\n",
    "\n",
    "path = \"/data/scratch/globc/peatier/CMIP6/IPSL-CM6A-LR/\"\n",
    "filename = \"*_amip_*regrid.nc\"\n",
    "IPSL_amip = load_monthly_clim(path, filename, variables)\n",
    "IPSL_amip = IPSL_amip.groupby(['lat','lon']).mean().to_xarray()\n",
    "\n",
    "path = \"/data/scratch/globc/peatier/CMIP6/BCC-CSM2-MR/\"\n",
    "filename = \"standard_*_amip_*regrid.nc\"\n",
    "BCC_amip = load_monthly_clim(path, filename, variables)\n",
    "BCC_amip = BCC_amip.groupby(['lat','lon']).mean().to_xarray()"
   ]
  },
  {
   "cell_type": "code",
   "execution_count": 26,
   "metadata": {},
   "outputs": [],
   "source": [
    "CMIP6 = [0]*7\n",
    "CMIP6[0] = CNRM_amip\n",
    "CMIP6[1] = MRI_amip\n",
    "CMIP6[2] = CAN_amip\n",
    "CMIP6[3] = MIROC_amip\n",
    "CMIP6[4] = HadGEM3_amip\n",
    "CMIP6[5] = IPSL_amip\n",
    "CMIP6[6] = BCC_amip"
   ]
  },
  {
   "cell_type": "code",
   "execution_count": 27,
   "metadata": {},
   "outputs": [
    {
     "data": {
      "text/html": [
       "<pre>&lt;xarray.Dataset&gt;\n",
       "Dimensions:  (lat: 288, lon: 512, members: 7)\n",
       "Coordinates:\n",
       "  * lat      (lat) float64 -89.14 -88.93 -88.03 -87.54 ... 88.03 88.93 89.14\n",
       "  * lon      (lon) float64 0.0 1.125 1.406 2.25 ... 357.2 357.8 358.6 358.9\n",
       "Dimensions without coordinates: members\n",
       "Data variables:\n",
       "    tas      (members, lat, lon) float32 nan nan nan nan nan ... nan nan nan nan\n",
       "    height   (members, lat, lon) float64 nan nan nan nan nan ... nan nan nan nan</pre>"
      ],
      "text/plain": [
       "<xarray.Dataset>\n",
       "Dimensions:  (lat: 288, lon: 512, members: 7)\n",
       "Coordinates:\n",
       "  * lat      (lat) float64 -89.14 -88.93 -88.03 -87.54 ... 88.03 88.93 89.14\n",
       "  * lon      (lon) float64 0.0 1.125 1.406 2.25 ... 357.2 357.8 358.6 358.9\n",
       "Dimensions without coordinates: members\n",
       "Data variables:\n",
       "    tas      (members, lat, lon) float32 nan nan nan nan nan ... nan nan nan nan\n",
       "    height   (members, lat, lon) float64 nan nan nan nan nan ... nan nan nan nan"
      ]
     },
     "execution_count": 27,
     "metadata": {},
     "output_type": "execute_result"
    }
   ],
   "source": [
    "matrix_CMIP6 = xr.combine_nested(CMIP6, concat_dim=['members'])\n",
    "matrix_CMIP6"
   ]
  },
  {
   "cell_type": "code",
   "execution_count": null,
   "metadata": {},
   "outputs": [],
   "source": [
    "ens_mean_CMIP6 = matrix_CMIP6.mean(dim='time')\n",
    "ens_mean_CMIP6"
   ]
  },
  {
   "cell_type": "code",
   "execution_count": null,
   "metadata": {},
   "outputs": [],
   "source": [
    "std_CMIP6 = matrix.std(dim='time')\n",
    "std_PPE"
   ]
  },
  {
   "cell_type": "markdown",
   "metadata": {},
   "source": [
    "## Get the BEST datatset"
   ]
  },
  {
   "cell_type": "code",
   "execution_count": 12,
   "metadata": {},
   "outputs": [],
   "source": [
    "def load_monthly_clim(path, filename, variables) :\n",
    "    \n",
    "    file = xr.open_mfdataset(path+filename,combine='by_coords')\n",
    "    df=file[variables].to_dataframe()\n",
    "    \n",
    "    # Compute Climatological Annual Cycle :\n",
    "    df1=df.reset_index(level=['time', 'lat', 'lon'])\n",
    "    df1['month']=pd.DatetimeIndex(df1['time']).month # time in years\n",
    "    df_mean=df1.groupby(['month', 'lat', 'lon']).mean()\n",
    "    \n",
    "    return df_mean"
   ]
  },
  {
   "cell_type": "code",
   "execution_count": 13,
   "metadata": {},
   "outputs": [
    {
     "data": {
      "text/html": [
       "<div>\n",
       "<style scoped>\n",
       "    .dataframe tbody tr th:only-of-type {\n",
       "        vertical-align: middle;\n",
       "    }\n",
       "\n",
       "    .dataframe tbody tr th {\n",
       "        vertical-align: top;\n",
       "    }\n",
       "\n",
       "    .dataframe thead th {\n",
       "        text-align: right;\n",
       "    }\n",
       "</style>\n",
       "<table border=\"1\" class=\"dataframe\">\n",
       "  <thead>\n",
       "    <tr style=\"text-align: right;\">\n",
       "      <th></th>\n",
       "      <th></th>\n",
       "      <th></th>\n",
       "      <th>climatology</th>\n",
       "    </tr>\n",
       "    <tr>\n",
       "      <th>lat</th>\n",
       "      <th>lon</th>\n",
       "      <th>month_number</th>\n",
       "      <th></th>\n",
       "    </tr>\n",
       "  </thead>\n",
       "  <tbody>\n",
       "    <tr>\n",
       "      <th rowspan=\"5\" valign=\"top\">-88.927735</th>\n",
       "      <th rowspan=\"5\" valign=\"top\">0.00000</th>\n",
       "      <th>0</th>\n",
       "      <td>247.956879</td>\n",
       "    </tr>\n",
       "    <tr>\n",
       "      <th>1</th>\n",
       "      <td>235.258011</td>\n",
       "    </tr>\n",
       "    <tr>\n",
       "      <th>2</th>\n",
       "      <td>221.776474</td>\n",
       "    </tr>\n",
       "    <tr>\n",
       "      <th>3</th>\n",
       "      <td>217.698456</td>\n",
       "    </tr>\n",
       "    <tr>\n",
       "      <th>4</th>\n",
       "      <td>217.145950</td>\n",
       "    </tr>\n",
       "    <tr>\n",
       "      <th>...</th>\n",
       "      <th>...</th>\n",
       "      <th>...</th>\n",
       "      <td>...</td>\n",
       "    </tr>\n",
       "    <tr>\n",
       "      <th rowspan=\"5\" valign=\"top\">88.927735</th>\n",
       "      <th rowspan=\"5\" valign=\"top\">358.59375</th>\n",
       "      <th>7</th>\n",
       "      <td>270.000000</td>\n",
       "    </tr>\n",
       "    <tr>\n",
       "      <th>8</th>\n",
       "      <td>262.666046</td>\n",
       "    </tr>\n",
       "    <tr>\n",
       "      <th>9</th>\n",
       "      <td>252.675369</td>\n",
       "    </tr>\n",
       "    <tr>\n",
       "      <th>10</th>\n",
       "      <td>246.107239</td>\n",
       "    </tr>\n",
       "    <tr>\n",
       "      <th>11</th>\n",
       "      <td>242.496857</td>\n",
       "    </tr>\n",
       "  </tbody>\n",
       "</table>\n",
       "<p>393216 rows × 1 columns</p>\n",
       "</div>"
      ],
      "text/plain": [
       "                                   climatology\n",
       "lat        lon       month_number             \n",
       "-88.927735 0.00000   0              247.956879\n",
       "                     1              235.258011\n",
       "                     2              221.776474\n",
       "                     3              217.698456\n",
       "                     4              217.145950\n",
       "...                                        ...\n",
       " 88.927735 358.59375 7              270.000000\n",
       "                     8              262.666046\n",
       "                     9              252.675369\n",
       "                     10             246.107239\n",
       "                     11             242.496857\n",
       "\n",
       "[393216 rows x 1 columns]"
      ]
     },
     "execution_count": 13,
     "metadata": {},
     "output_type": "execute_result"
    }
   ],
   "source": [
    "path_observation = '/data/home/globc/peatier/obs_data/BEST/'\n",
    "filename = 'Land_and_Ocean_LatLong1_regrid.nc'\n",
    "    \n",
    "# Load data and compute Annual Cycle :\n",
    "file = xr.open_mfdataset(path_observation+filename,combine='by_coords')\n",
    "#file\n",
    "variables = ['climatology']\n",
    "df_obs = file[variables].to_dataframe()\n",
    "df_obs['climatology'] = df_obs['climatology'] + 273.15 # To convert Celsius into Kelvin\n",
    "df_obs"
   ]
  },
  {
   "cell_type": "code",
   "execution_count": 14,
   "metadata": {},
   "outputs": [
    {
     "data": {
      "text/html": [
       "<pre>&lt;xarray.Dataset&gt;\n",
       "Dimensions:      (lat: 128, lon: 256)\n",
       "Coordinates:\n",
       "  * lat          (lat) float64 -88.93 -87.54 -86.14 -84.74 ... 86.14 87.54 88.93\n",
       "  * lon          (lon) float64 0.0 1.406 2.812 4.219 ... 354.4 355.8 357.2 358.6\n",
       "Data variables:\n",
       "    climatology  (lat, lon) float32 226.26932 226.22813 ... 253.36414 253.36504</pre>"
      ],
      "text/plain": [
       "<xarray.Dataset>\n",
       "Dimensions:      (lat: 128, lon: 256)\n",
       "Coordinates:\n",
       "  * lat          (lat) float64 -88.93 -87.54 -86.14 -84.74 ... 86.14 87.54 88.93\n",
       "  * lon          (lon) float64 0.0 1.406 2.812 4.219 ... 354.4 355.8 357.2 358.6\n",
       "Data variables:\n",
       "    climatology  (lat, lon) float32 226.26932 226.22813 ... 253.36414 253.36504"
      ]
     },
     "execution_count": 14,
     "metadata": {},
     "output_type": "execute_result"
    }
   ],
   "source": [
    "obs = df_obs.groupby(['lat','lon']).mean().to_xarray()\n",
    "obs"
   ]
  },
  {
   "cell_type": "markdown",
   "metadata": {},
   "source": [
    "# Estimate bases [model - obs]"
   ]
  },
  {
   "cell_type": "code",
   "execution_count": null,
   "metadata": {},
   "outputs": [],
   "source": []
  }
 ],
 "metadata": {
  "kernelspec": {
   "display_name": "Python 3",
   "language": "python",
   "name": "python3"
  },
  "language_info": {
   "codemirror_mode": {
    "name": "ipython",
    "version": 3
   },
   "file_extension": ".py",
   "mimetype": "text/x-python",
   "name": "python",
   "nbconvert_exporter": "python",
   "pygments_lexer": "ipython3",
   "version": "3.7.6"
  }
 },
 "nbformat": 4,
 "nbformat_minor": 2
}
