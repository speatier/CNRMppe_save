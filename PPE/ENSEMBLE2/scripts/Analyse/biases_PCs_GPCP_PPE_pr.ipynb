{
 "cells": [
  {
   "cell_type": "markdown",
   "metadata": {},
   "source": [
    "# Importe modules"
   ]
  },
  {
   "cell_type": "code",
   "execution_count": 14,
   "metadata": {},
   "outputs": [],
   "source": [
    "# Computational modules \n",
    "%matplotlib inline\n",
    "import xarray as xr\n",
    "import glob\n",
    "import os\n",
    "import numpy as np\n",
    "import netCDF4\n",
    "from netCDF4 import Dataset\n",
    "import pandas as pd\n",
    "import re\n",
    "from array import array\n",
    "from pylab import *\n",
    "#import geopandas\n",
    "from eofs.xarray import Eof\n",
    "from eofs.multivariate.standard import MultivariateEof\n",
    "\n",
    "# Plotting modules \n",
    "import matplotlib.pyplot as plt\n",
    "from mpl_toolkits.basemap import Basemap\n",
    "import pandas.plotting\n",
    "import matplotlib.ticker as ticker\n",
    "import seaborn as sns\n",
    "import cartopy.crs as ccrs\n",
    "import cartopy.feature as cfeature\n",
    "from matplotlib.colors import BoundaryNorm\n",
    "\n",
    "# Scikit-learn\n",
    "from sklearn import linear_model\n",
    "from sklearn.linear_model import LassoCV, LassoLarsCV, LassoLarsIC\n",
    "from sklearn.linear_model import Lasso\n",
    "from sklearn.metrics import r2_score\n",
    "from sklearn import preprocessing\n",
    "from sklearn import tree\n",
    "from sklearn.ensemble import RandomForestClassifier\n",
    "from sklearn.metrics import confusion_matrix\n",
    "from sklearn import metrics\n",
    "from sklearn.neural_network import MLPRegressor"
   ]
  },
  {
   "cell_type": "markdown",
   "metadata": {},
   "source": [
    "# Functions definition"
   ]
  },
  {
   "cell_type": "code",
   "execution_count": 15,
   "metadata": {},
   "outputs": [],
   "source": [
    "import sys\n",
    "sys.path.append('/data/home/globc/peatier/CNRMppe')\n",
    "import Fonctions\n",
    "from Fonctions import get_wavg_budget_df\n",
    "from Fonctions import wavg \n",
    "from Fonctions import plotlines_Xdf\n",
    "from Fonctions import plotlines_1df\n",
    "from Fonctions import Deltas_Lambda\n",
    "from Fonctions import get_3D_budget_xarr\n",
    "from Fonctions import get_3D_xarr\n",
    "from Fonctions import get_3D_SW_xarr\n",
    "from Fonctions import get_3D_LW_xarr"
   ]
  },
  {
   "cell_type": "code",
   "execution_count": 16,
   "metadata": {},
   "outputs": [],
   "source": [
    "def Error(path, filename, U_obs):\n",
    "    \n",
    "    U = np.load(path+filename)\n",
    "\n",
    "    pc1 = U[0]\n",
    "    pc2 = U[1]\n",
    "    pc3 = U[2]\n",
    "    pc4 = U[3]\n",
    "    pc5 = U[4]\n",
    "\n",
    "    E_tmp = (pc1-U_obs[0])**2 + (pc2-U_obs[1])**2 + (pc3-U_obs[2])**2 + (pc4-U_obs[3])**2 + (pc5-U_obs[4])**2\n",
    "    E = sqrt(E_tmp/5)\n",
    "    return E"
   ]
  },
  {
   "cell_type": "code",
   "execution_count": 17,
   "metadata": {},
   "outputs": [],
   "source": [
    "def RMSE_emulator(pc1, pc2, pc3, pc4, pc5) : \n",
    "    \n",
    "    U_obs = np.load('/data/home/globc/peatier/CNRMppe/PPE/ENSEMBLE2/files/npy/U_obs_pr.npy')\n",
    "    \n",
    "    E_pc1 = []\n",
    "    E_pc2 = []\n",
    "    E_pc3 = []\n",
    "    E_pc4 = []\n",
    "    E_pc5 = []\n",
    "    E_tmp = []\n",
    "\n",
    "    for i in pc1:\n",
    "        tmp = (i-U_obs[0])**2\n",
    "        E_pc1.append(tmp)\n",
    "    \n",
    "    for j in pc2:\n",
    "        tmp = (j-U_obs[1])**2\n",
    "        E_pc2.append(tmp)\n",
    "\n",
    "    for k in pc3:\n",
    "        tmp = (k-U_obs[2])**2\n",
    "        E_pc3.append(tmp)\n",
    "    \n",
    "    for l in pc4:\n",
    "        tmp = (l-U_obs[3])**2\n",
    "        E_pc4.append(tmp)\n",
    "    \n",
    "    for m in pc5:\n",
    "        tmp = (m-U_obs[4])**2\n",
    "        E_pc5.append(tmp)\n",
    "\n",
    "    for n in range(0,len(E_pc1),1) :    \n",
    "        tmp = E_pc1[n]+E_pc2[n]+E_pc3[n]+E_pc4[n]+E_pc5[n]\n",
    "        E_tmp.append(tmp/5)\n",
    "\n",
    "    \n",
    "    E = sqrt(E_tmp)\n",
    "    \n",
    "    \n",
    "    return E"
   ]
  },
  {
   "cell_type": "code",
   "execution_count": 18,
   "metadata": {},
   "outputs": [],
   "source": [
    "def Error_emulator(pc1, pc2, pc3, pc4, pc5):\n",
    "    U_obs = np.load('/data/home/globc/peatier/CNRMppe/PPE/ENSEMBLE2/files/npy/U_obs_pr.npy')\n",
    "    E_tmp = (pc1-U_obs[0])**2 + (pc2-U_obs[1])**2 + (pc3-U_obs[2])**2 + (pc4-U_obs[3])**2 + (pc5-U_obs[4])**2\n",
    "    E = sqrt(E_tmp/5)\n",
    "    return E"
   ]
  },
  {
   "cell_type": "code",
   "execution_count": 19,
   "metadata": {},
   "outputs": [],
   "source": [
    "def MultiLinReg_pred_eof1(x) :\n",
    "\n",
    "    X = np.load(file=\"/data/home/globc/peatier/CNRMppe/PPE/ENSEMBLE2/files/npy/X_EmulateurFeedbacksN.npy\")\n",
    "    y = np.load(file=\"/data/home/globc/peatier/CNRMppe/PPE/ENSEMBLE2/files/npy/PPE2_EOF1pc_pr.npy\")\n",
    "    param_names = np.load(file=\"/data/home/globc/peatier/CNRMppe/PPE/ENSEMBLE2/files/npy/LHS_paramNames.npy\")\n",
    "    \n",
    "    # Let's use the model equation : \n",
    "\n",
    "    X_df = pd.DataFrame(data=X)\n",
    "    regr = linear_model.LinearRegression()\n",
    "    regr.fit(X, y)\n",
    "    R = regr.intercept_\n",
    "    Coeffs = pd.DataFrame([regr.coef_]*30, columns=param_names).iloc[0]\n",
    "\n",
    "    tmp = Coeffs.values*x\n",
    "    y_pred = tmp.sum()+R\n",
    "    \n",
    "    return y_pred\n",
    "\n",
    "def MultiLinReg_pred_eof2(x) :\n",
    "\n",
    "    X = np.load(file=\"/data/home/globc/peatier/CNRMppe/PPE/ENSEMBLE2/files/npy/X_EmulateurFeedbacksN.npy\")\n",
    "    y = np.load(file=\"/data/home/globc/peatier/CNRMppe/PPE/ENSEMBLE2/files/npy/PPE2_EOF2pc_pr.npy\")\n",
    "    param_names = np.load(file=\"/data/home/globc/peatier/CNRMppe/PPE/ENSEMBLE2/files/npy/LHS_paramNames.npy\")\n",
    "    \n",
    "    # Let's use the model equation : \n",
    "\n",
    "    X_df = pd.DataFrame(data=X)\n",
    "    regr = linear_model.LinearRegression()\n",
    "    regr.fit(X, y)\n",
    "    R = regr.intercept_\n",
    "    Coeffs = pd.DataFrame([regr.coef_]*30, columns=param_names).iloc[0]\n",
    "\n",
    "    tmp = Coeffs.values*x\n",
    "    y_pred = tmp.sum()+R\n",
    "    \n",
    "    return y_pred\n",
    "\n",
    "def MultiLinReg_pred_eof3(x) :\n",
    "\n",
    "    X = np.load(file=\"/data/home/globc/peatier/CNRMppe/PPE/ENSEMBLE2/files/npy/X_EmulateurFeedbacksN.npy\")\n",
    "    y = np.load(file=\"/data/home/globc/peatier/CNRMppe/PPE/ENSEMBLE2/files/npy/PPE2_EOF3pc_pr.npy\")\n",
    "    param_names = np.load(file=\"/data/home/globc/peatier/CNRMppe/PPE/ENSEMBLE2/files/npy/LHS_paramNames.npy\")\n",
    "\n",
    "    # Let's use the model equation : \n",
    "\n",
    "    X_df = pd.DataFrame(data=X)\n",
    "    regr = linear_model.LinearRegression()\n",
    "    regr.fit(X, y)\n",
    "    R = regr.intercept_\n",
    "    Coeffs = pd.DataFrame([regr.coef_]*30, columns=param_names).iloc[0]\n",
    "\n",
    "    tmp = Coeffs.values*x\n",
    "    y_pred = tmp.sum()+R\n",
    "    \n",
    "    return y_pred\n",
    "\n",
    "def MultiLinReg_pred_eof4(x) :\n",
    "\n",
    "    X = np.load(file=\"/data/home/globc/peatier/CNRMppe/PPE/ENSEMBLE2/files/npy/X_EmulateurFeedbacksN.npy\")\n",
    "    y = np.load(file=\"/data/home/globc/peatier/CNRMppe/PPE/ENSEMBLE2/files/npy/PPE2_EOF4pc_pr.npy\")\n",
    "    param_names = np.load(file=\"/data/home/globc/peatier/CNRMppe/PPE/ENSEMBLE2/files/npy/LHS_paramNames.npy\")\n",
    "    \n",
    "    # Let's use the model equation : \n",
    "\n",
    "    X_df = pd.DataFrame(data=X)\n",
    "    regr = linear_model.LinearRegression()\n",
    "    regr.fit(X, y)\n",
    "    R = regr.intercept_\n",
    "    Coeffs = pd.DataFrame([regr.coef_]*30, columns=param_names).iloc[0]\n",
    "\n",
    "    tmp = Coeffs.values*x\n",
    "    y_pred = tmp.sum()+R\n",
    "    \n",
    "    return y_pred\n",
    "\n",
    "def MultiLinReg_pred_eof5(x) :\n",
    "\n",
    "    X = np.load(file=\"/data/home/globc/peatier/CNRMppe/PPE/ENSEMBLE2/files/npy/X_EmulateurFeedbacksN.npy\")\n",
    "    y = np.load(file=\"/data/home/globc/peatier/CNRMppe/PPE/ENSEMBLE2/files/npy/PPE2_EOF5pc_pr.npy\")\n",
    "    param_names = np.load(file=\"/data/home/globc/peatier/CNRMppe/PPE/ENSEMBLE2/files/npy/LHS_paramNames.npy\")\n",
    "    \n",
    "    # Let's use the model equation : \n",
    "\n",
    "    X_df = pd.DataFrame(data=X)\n",
    "    regr = linear_model.LinearRegression()\n",
    "    regr.fit(X, y)\n",
    "    R = regr.intercept_\n",
    "    Coeffs = pd.DataFrame([regr.coef_]*30, columns=param_names).iloc[0]\n",
    "\n",
    "    tmp = Coeffs.values*x\n",
    "    y_pred = tmp.sum()+R\n",
    "    \n",
    "    return y_pred"
   ]
  },
  {
   "cell_type": "markdown",
   "metadata": {},
   "source": [
    "# Récupérer U_obs"
   ]
  },
  {
   "cell_type": "code",
   "execution_count": 22,
   "metadata": {},
   "outputs": [
    {
     "data": {
      "text/plain": [
       "array([-0.16117209,  1.36888651, -1.34538163, -3.79295765,  2.96219278])"
      ]
     },
     "execution_count": 22,
     "metadata": {},
     "output_type": "execute_result"
    }
   ],
   "source": [
    "U_obs = np.load('/data/home/globc/peatier/CNRMppe/PPE/ENSEMBLE2/files/npy/U_obs_pr.npy')\n",
    "U_obs"
   ]
  },
  {
   "cell_type": "code",
   "execution_count": 23,
   "metadata": {},
   "outputs": [],
   "source": [
    "pc1_obs = U_obs[0]\n",
    "pc2_obs = U_obs[1]\n",
    "pc3_obs = U_obs[2]\n",
    "pc4_obs = U_obs[3]\n",
    "pc5_obs = U_obs[4]"
   ]
  },
  {
   "cell_type": "markdown",
   "metadata": {},
   "source": [
    "# official, membre p1"
   ]
  },
  {
   "cell_type": "code",
   "execution_count": 24,
   "metadata": {},
   "outputs": [],
   "source": [
    "pc1_p1 = np.load('/data/home/globc/peatier/CNRMppe/PPE/ENSEMBLE2/files/npy/p1_EOF1pc_pr.npy')\n",
    "pc2_p1 = np.load('/data/home/globc/peatier/CNRMppe/PPE/ENSEMBLE2/files/npy/p1_EOF2pc_pr.npy')\n",
    "pc3_p1 = np.load('/data/home/globc/peatier/CNRMppe/PPE/ENSEMBLE2/files/npy/p1_EOF3pc_pr.npy')\n",
    "pc4_p1 = np.load('/data/home/globc/peatier/CNRMppe/PPE/ENSEMBLE2/files/npy/p1_EOF4pc_pr.npy')\n",
    "pc5_p1 = np.load('/data/home/globc/peatier/CNRMppe/PPE/ENSEMBLE2/files/npy/p1_EOF5pc_pr.npy')\n",
    "\n",
    "p1_feedbacks = np.load('/data/home/globc/peatier/CNRMppe/PPE/ENSEMBLE2/files/npy/Net_feedbacks_p1.npy')"
   ]
  },
  {
   "cell_type": "code",
   "execution_count": 25,
   "metadata": {},
   "outputs": [
    {
     "name": "stdout",
     "output_type": "stream",
     "text": [
      "1.9930007441751763\n"
     ]
    }
   ],
   "source": [
    "E_p1_tmp = (pc1_p1-pc1_obs)**2 + (pc2_p1-pc2_obs)**2 + (pc3_p1-pc3_obs)**2 + (pc4_p1-pc4_obs)**2 + (pc5_p1-pc5_obs)**2\n",
    "E_p1 = sqrt(E_p1_tmp/5)\n",
    "        \n",
    "print(E_p1)"
   ]
  },
  {
   "cell_type": "code",
   "execution_count": 26,
   "metadata": {},
   "outputs": [],
   "source": [
    "np.save('/data/home/globc/peatier/CNRMppe/PPE/ENSEMBLE2/files/npy/E_p1_pr.npy', E_p1)"
   ]
  },
  {
   "cell_type": "markdown",
   "metadata": {},
   "source": [
    "# CFMIP6 models"
   ]
  },
  {
   "cell_type": "code",
   "execution_count": 27,
   "metadata": {},
   "outputs": [],
   "source": [
    "path = '/data/home/globc/peatier/CNRMppe/PPE/ENSEMBLE2/files/npy/'\n",
    "\n",
    "filename = 'U_MRI_pr.npy'\n",
    "E_MRI = Error(path, filename, U_obs)\n",
    "\n",
    "filename = 'U_CAN_pr.npy'\n",
    "E_CAN = Error(path, filename, U_obs)\n",
    "\n",
    "filename = 'U_MIROC_pr.npy'\n",
    "E_MIROC = Error(path, filename, U_obs)\n",
    "\n",
    "filename = 'U_HadGEM3_pr.npy'\n",
    "E_HadGEM3 = Error(path, filename, U_obs)\n",
    "\n",
    "filename = 'U_IPSL_pr.npy'\n",
    "E_IPSL = Error(path, filename, U_obs)\n",
    "\n",
    "filename = 'U_BCC_pr.npy'\n",
    "E_BCC = Error(path, filename, U_obs)"
   ]
  },
  {
   "cell_type": "markdown",
   "metadata": {},
   "source": [
    "# PPE"
   ]
  },
  {
   "cell_type": "code",
   "execution_count": 28,
   "metadata": {},
   "outputs": [],
   "source": [
    "eof1 = pd.read_pickle('/data/home/globc/peatier/CNRMppe/PPE/ENSEMBLE2/files/npy/PPE2_EOFmap1_pr.npy').to_xarray().to_array()\n",
    "eof2 = pd.read_pickle('/data/home/globc/peatier/CNRMppe/PPE/ENSEMBLE2/files/npy/PPE2_EOFmap2_pr.npy').to_xarray().to_array()\n",
    "eof3 = pd.read_pickle('/data/home/globc/peatier/CNRMppe/PPE/ENSEMBLE2/files/npy/PPE2_EOFmap3_pr.npy').to_xarray().to_array()\n",
    "eof4 = pd.read_pickle('/data/home/globc/peatier/CNRMppe/PPE/ENSEMBLE2/files/npy/PPE2_EOFmap4_pr.npy').to_xarray().to_array()\n",
    "eof5 = pd.read_pickle('/data/home/globc/peatier/CNRMppe/PPE/ENSEMBLE2/files/npy/PPE2_EOFmap5_pr.npy').to_xarray().to_array()\n",
    "\n",
    "eof1 = eof1[0,:,:].rename({'variable':'mode'})\n",
    "eof2 = eof2[0,:,:].rename({'variable':'mode'})\n",
    "eof3 = eof3[0,:,:].rename({'variable':'mode'})\n",
    "eof4 = eof4[0,:,:].rename({'variable':'mode'})\n",
    "eof5 = eof5[0,:,:].rename({'variable':'mode'})"
   ]
  },
  {
   "cell_type": "code",
   "execution_count": 29,
   "metadata": {},
   "outputs": [
    {
     "data": {
      "text/html": [
       "<div>\n",
       "<style scoped>\n",
       "    .dataframe tbody tr th:only-of-type {\n",
       "        vertical-align: middle;\n",
       "    }\n",
       "\n",
       "    .dataframe tbody tr th {\n",
       "        vertical-align: top;\n",
       "    }\n",
       "\n",
       "    .dataframe thead th {\n",
       "        text-align: right;\n",
       "    }\n",
       "</style>\n",
       "<table border=\"1\" class=\"dataframe\">\n",
       "  <thead>\n",
       "    <tr style=\"text-align: right;\">\n",
       "      <th></th>\n",
       "      <th>pc1</th>\n",
       "      <th>pc2</th>\n",
       "      <th>pc3</th>\n",
       "      <th>pc4</th>\n",
       "      <th>pc5</th>\n",
       "    </tr>\n",
       "  </thead>\n",
       "  <tbody>\n",
       "    <tr>\n",
       "      <th>0</th>\n",
       "      <td>-0.598905</td>\n",
       "      <td>-1.239455</td>\n",
       "      <td>0.711050</td>\n",
       "      <td>0.672013</td>\n",
       "      <td>-0.781647</td>\n",
       "    </tr>\n",
       "    <tr>\n",
       "      <th>1</th>\n",
       "      <td>-0.868254</td>\n",
       "      <td>0.334037</td>\n",
       "      <td>0.536939</td>\n",
       "      <td>0.301395</td>\n",
       "      <td>0.102373</td>\n",
       "    </tr>\n",
       "    <tr>\n",
       "      <th>2</th>\n",
       "      <td>-0.339239</td>\n",
       "      <td>0.149689</td>\n",
       "      <td>0.629823</td>\n",
       "      <td>0.710258</td>\n",
       "      <td>-1.728189</td>\n",
       "    </tr>\n",
       "    <tr>\n",
       "      <th>3</th>\n",
       "      <td>-1.861077</td>\n",
       "      <td>-0.140945</td>\n",
       "      <td>0.776714</td>\n",
       "      <td>0.095668</td>\n",
       "      <td>0.234242</td>\n",
       "    </tr>\n",
       "    <tr>\n",
       "      <th>4</th>\n",
       "      <td>1.066018</td>\n",
       "      <td>-0.033796</td>\n",
       "      <td>1.914352</td>\n",
       "      <td>-1.537650</td>\n",
       "      <td>-2.131536</td>\n",
       "    </tr>\n",
       "    <tr>\n",
       "      <th>...</th>\n",
       "      <td>...</td>\n",
       "      <td>...</td>\n",
       "      <td>...</td>\n",
       "      <td>...</td>\n",
       "      <td>...</td>\n",
       "    </tr>\n",
       "    <tr>\n",
       "      <th>97</th>\n",
       "      <td>-1.419109</td>\n",
       "      <td>0.407206</td>\n",
       "      <td>0.063974</td>\n",
       "      <td>-0.027483</td>\n",
       "      <td>-0.595296</td>\n",
       "    </tr>\n",
       "    <tr>\n",
       "      <th>98</th>\n",
       "      <td>0.875636</td>\n",
       "      <td>0.985097</td>\n",
       "      <td>-0.797016</td>\n",
       "      <td>0.825207</td>\n",
       "      <td>0.048749</td>\n",
       "    </tr>\n",
       "    <tr>\n",
       "      <th>99</th>\n",
       "      <td>0.340679</td>\n",
       "      <td>0.175393</td>\n",
       "      <td>0.029820</td>\n",
       "      <td>0.582113</td>\n",
       "      <td>0.224817</td>\n",
       "    </tr>\n",
       "    <tr>\n",
       "      <th>100</th>\n",
       "      <td>0.467961</td>\n",
       "      <td>0.220148</td>\n",
       "      <td>1.257663</td>\n",
       "      <td>0.345770</td>\n",
       "      <td>0.183680</td>\n",
       "    </tr>\n",
       "    <tr>\n",
       "      <th>101</th>\n",
       "      <td>0.954503</td>\n",
       "      <td>1.997408</td>\n",
       "      <td>-1.218922</td>\n",
       "      <td>-0.447825</td>\n",
       "      <td>1.106780</td>\n",
       "    </tr>\n",
       "  </tbody>\n",
       "</table>\n",
       "<p>102 rows × 5 columns</p>\n",
       "</div>"
      ],
      "text/plain": [
       "          pc1       pc2       pc3       pc4       pc5\n",
       "0   -0.598905 -1.239455  0.711050  0.672013 -0.781647\n",
       "1   -0.868254  0.334037  0.536939  0.301395  0.102373\n",
       "2   -0.339239  0.149689  0.629823  0.710258 -1.728189\n",
       "3   -1.861077 -0.140945  0.776714  0.095668  0.234242\n",
       "4    1.066018 -0.033796  1.914352 -1.537650 -2.131536\n",
       "..        ...       ...       ...       ...       ...\n",
       "97  -1.419109  0.407206  0.063974 -0.027483 -0.595296\n",
       "98   0.875636  0.985097 -0.797016  0.825207  0.048749\n",
       "99   0.340679  0.175393  0.029820  0.582113  0.224817\n",
       "100  0.467961  0.220148  1.257663  0.345770  0.183680\n",
       "101  0.954503  1.997408 -1.218922 -0.447825  1.106780\n",
       "\n",
       "[102 rows x 5 columns]"
      ]
     },
     "execution_count": 29,
     "metadata": {},
     "output_type": "execute_result"
    }
   ],
   "source": [
    "pc1_PPE = np.load('/data/home/globc/peatier/CNRMppe/PPE/ENSEMBLE2/files/npy/PPE2_EOF1pc_pr.npy')\n",
    "pc2_PPE = np.load('/data/home/globc/peatier/CNRMppe/PPE/ENSEMBLE2/files/npy/PPE2_EOF2pc_pr.npy')\n",
    "pc3_PPE = np.load('/data/home/globc/peatier/CNRMppe/PPE/ENSEMBLE2/files/npy/PPE2_EOF3pc_pr.npy')\n",
    "pc4_PPE = np.load('/data/home/globc/peatier/CNRMppe/PPE/ENSEMBLE2/files/npy/PPE2_EOF4pc_pr.npy')\n",
    "pc5_PPE = np.load('/data/home/globc/peatier/CNRMppe/PPE/ENSEMBLE2/files/npy/PPE2_EOF5pc_pr.npy')\n",
    "\n",
    "PC_df_PPE = pd.DataFrame(pc1_PPE)\n",
    "PC_df_PPE['pc1'] = pc1_PPE\n",
    "PC_df_PPE['pc2'] = pc2_PPE\n",
    "PC_df_PPE['pc3'] = pc3_PPE\n",
    "PC_df_PPE['pc4'] = pc4_PPE\n",
    "PC_df_PPE['pc5'] = pc5_PPE\n",
    "PC_df_PPE = PC_df_PPE.drop(labels = 0, axis=1)\n",
    "PC_df_PPE"
   ]
  },
  {
   "cell_type": "markdown",
   "metadata": {},
   "source": [
    "## Calcul de biais CERES"
   ]
  },
  {
   "cell_type": "code",
   "execution_count": 30,
   "metadata": {
    "scrolled": false
   },
   "outputs": [
    {
     "data": {
      "text/plain": [
       "array([3.00586953, 2.45178706, 3.08863128, 2.53912126, 3.0043922 ,\n",
       "       2.63586513, 3.07822837, 2.58317192, 2.00262293, 2.64726857,\n",
       "       2.71847428, 1.76722948, 2.05378227, 3.08705145, 2.51363256,\n",
       "       2.66357369, 2.43172315, 2.4584478 , 2.84422692, 2.75607519,\n",
       "       2.90132447, 2.74939409, 2.64432975, 2.08688108, 2.31935144,\n",
       "       2.12913076, 2.1401733 , 2.56070203, 2.96604373, 2.12022576,\n",
       "       2.3882923 , 3.1852179 , 2.12848256, 2.46307767, 2.30640973,\n",
       "       3.52258298, 2.52264898, 2.82824143, 2.71023611, 2.27522319,\n",
       "       2.45787882, 2.71391758, 3.05614625, 2.75194897, 2.17797214,\n",
       "       2.43957024, 2.73055906, 1.86209482, 2.64789848, 2.35332919,\n",
       "       2.77618168, 2.35850869, 2.66384389, 2.58399358, 2.58535595,\n",
       "       2.26539998, 3.09347402, 2.7694633 , 2.50363856, 2.57929683,\n",
       "       2.24861815, 2.57622592, 1.7899892 , 2.11586144, 2.70986482,\n",
       "       1.48511445, 2.08461459, 2.36121538, 2.2118908 , 2.59470766,\n",
       "       2.61945313, 2.30470321, 2.08083608, 2.70043368, 2.22085911,\n",
       "       2.79708682, 2.09148489, 2.81049404, 2.13958639, 2.76424519,\n",
       "       2.52666263, 2.6563208 , 2.83002615, 2.23814419, 1.64535511,\n",
       "       2.63533689, 2.73048764, 2.77006578, 2.4679182 , 3.07174185,\n",
       "       1.64845434, 2.75624331, 2.79903582, 2.51013487, 2.54602528,\n",
       "       2.46619803, 2.13335879, 2.5031198 , 2.50354047, 2.45771943,\n",
       "       2.58226439, 1.80489511])"
      ]
     },
     "execution_count": 30,
     "metadata": {},
     "output_type": "execute_result"
    }
   ],
   "source": [
    "E_PPE = RMSE_emulator(pc1_PPE, pc2_PPE, pc3_PPE, pc4_PPE, pc5_PPE)\n",
    "E_PPE"
   ]
  },
  {
   "cell_type": "markdown",
   "metadata": {},
   "source": [
    "# Multi-Linear Regression predictions"
   ]
  },
  {
   "cell_type": "markdown",
   "metadata": {},
   "source": [
    "## Import PCs and EOFs"
   ]
  },
  {
   "cell_type": "code",
   "execution_count": 31,
   "metadata": {},
   "outputs": [],
   "source": [
    "pc1_pred = np.load('/data/home/globc/peatier/CNRMppe/PPE/ENSEMBLE2/files/npy/MultiLinReg_prediction_eof1_pr.npy')\n",
    "pc2_pred = np.load('/data/home/globc/peatier/CNRMppe/PPE/ENSEMBLE2/files/npy/MultiLinReg_prediction_eof2_pr.npy')\n",
    "pc3_pred = np.load('/data/home/globc/peatier/CNRMppe/PPE/ENSEMBLE2/files/npy/MultiLinReg_prediction_eof3_pr.npy')\n",
    "pc4_pred = np.load('/data/home/globc/peatier/CNRMppe/PPE/ENSEMBLE2/files/npy/MultiLinReg_prediction_eof4_pr.npy')\n",
    "pc5_pred = np.load('/data/home/globc/peatier/CNRMppe/PPE/ENSEMBLE2/files/npy/MultiLinReg_prediction_eof5_pr.npy')\n",
    "\n",
    "PC_df = pd.DataFrame(pc1_pred)\n",
    "PC_df['pc1'] = pc1_pred\n",
    "PC_df['pc2'] = pc2_pred\n",
    "PC_df['pc3'] = pc3_pred\n",
    "PC_df['pc4'] = pc4_pred\n",
    "PC_df['pc5'] = pc5_pred\n",
    "PC_df = PC_df.drop(labels = 0, axis=1)\n",
    "#PC_df\n",
    "\n",
    "pc1_pred = PC_df['pc1'].to_xarray().rename({'index':'mode'})\n",
    "pc2_pred = PC_df['pc2'].to_xarray().rename({'index':'mode'})\n",
    "pc3_pred = PC_df['pc3'].to_xarray().rename({'index':'mode'})\n",
    "pc4_pred = PC_df['pc4'].to_xarray().rename({'index':'mode'})\n",
    "pc5_pred = PC_df['pc5'].to_xarray().rename({'index':'mode'})"
   ]
  },
  {
   "cell_type": "code",
   "execution_count": 32,
   "metadata": {},
   "outputs": [],
   "source": [
    "pc1_val = np.load('/data/home/globc/peatier/CNRMppe/PPE/ENSEMBLE2/files/npy/MultiLinReg_validation_eof1_pr.npy')\n",
    "pc2_val = np.load('/data/home/globc/peatier/CNRMppe/PPE/ENSEMBLE2/files/npy/MultiLinReg_validation_eof2_pr.npy')\n",
    "pc3_val = np.load('/data/home/globc/peatier/CNRMppe/PPE/ENSEMBLE2/files/npy/MultiLinReg_validation_eof3_pr.npy')\n",
    "pc4_val = np.load('/data/home/globc/peatier/CNRMppe/PPE/ENSEMBLE2/files/npy/MultiLinReg_validation_eof4_pr.npy')\n",
    "pc5_val = np.load('/data/home/globc/peatier/CNRMppe/PPE/ENSEMBLE2/files/npy/MultiLinReg_validation_eof5_pr.npy')\n",
    "\n",
    "PC_val_df = pd.DataFrame(pc1_val)\n",
    "PC_val_df['pc1'] = pc1_val\n",
    "PC_val_df['pc2'] = pc2_val\n",
    "PC_val_df['pc3'] = pc3_val\n",
    "PC_val_df['pc4'] = pc4_val\n",
    "PC_val_df['pc5'] = pc5_val\n",
    "PC_val_df = PC_val_df.drop(labels = 0, axis=1)\n",
    "#PC_df\n",
    "\n",
    "pc1_val = PC_val_df['pc1'].to_xarray().rename({'index':'mode'})\n",
    "pc2_val = PC_val_df['pc2'].to_xarray().rename({'index':'mode'})\n",
    "pc3_val = PC_val_df['pc3'].to_xarray().rename({'index':'mode'})\n",
    "pc4_val = PC_val_df['pc4'].to_xarray().rename({'index':'mode'})\n",
    "pc5_val = PC_val_df['pc5'].to_xarray().rename({'index':'mode'})"
   ]
  },
  {
   "cell_type": "markdown",
   "metadata": {},
   "source": [
    "## Calcul de biais CERES"
   ]
  },
  {
   "cell_type": "code",
   "execution_count": 33,
   "metadata": {
    "scrolled": false
   },
   "outputs": [
    {
     "data": {
      "text/plain": [
       "array([2.67408437, 2.64285698, 2.86192191, 2.58784829, 2.84995414,\n",
       "       2.46420391, 3.01134522, 2.47210885, 1.86371242, 2.26617357,\n",
       "       2.33182446, 2.33454087, 2.1905118 , 2.71482494, 2.74728644,\n",
       "       2.40895815, 2.37150509, 2.5948508 , 2.92447125, 2.35427665,\n",
       "       2.39571942, 2.35235005, 2.48846886, 2.32483526, 2.29870292,\n",
       "       2.06785914, 2.38500399, 2.70615352, 3.02844068, 2.28578389,\n",
       "       1.86205074, 2.95005032, 1.94533082, 2.30361131, 2.28573123,\n",
       "       3.03944495, 2.23592761, 2.52144341, 2.67411519, 2.47488766,\n",
       "       2.30904136, 2.78546954, 2.75408098, 2.97994187, 1.69622768,\n",
       "       2.20459767, 2.95522027, 1.86942124, 2.85163046, 2.83142034,\n",
       "       2.59799303, 2.38833511, 2.61513122, 2.38068595, 2.45875251,\n",
       "       2.74589007, 2.60125959, 2.5078858 , 2.20616249, 2.38091374,\n",
       "       2.69285838, 3.0695784 , 1.95350487, 1.98826362, 2.46575905,\n",
       "       1.76500856, 2.07688046, 2.17152296, 2.14218283, 2.5041599 ,\n",
       "       2.44704094, 2.59655558, 2.06005337, 2.44182537, 2.36123628,\n",
       "       2.96033887, 1.91706529, 2.50786717, 2.45543809, 2.87734358,\n",
       "       2.12049432, 2.53341078, 2.18702582, 2.11209625, 1.87472428,\n",
       "       2.70433117, 2.49189417, 2.72985494, 2.49122953, 2.78831517,\n",
       "       2.11542745, 2.36632956, 2.66317303, 2.50713385, 2.57264447,\n",
       "       2.50654524, 2.43215399, 2.4153358 , 2.43590668, 2.500003  ,\n",
       "       2.6315213 , 2.39826903])"
      ]
     },
     "execution_count": 33,
     "metadata": {},
     "output_type": "execute_result"
    }
   ],
   "source": [
    "E_multilinreg_val = RMSE_emulator(pc1_val, pc2_val, pc3_val, pc4_val, pc5_val)\n",
    "E_multilinreg_val"
   ]
  },
  {
   "cell_type": "code",
   "execution_count": 34,
   "metadata": {},
   "outputs": [
    {
     "data": {
      "text/plain": [
       "array([2.73568187, 2.61023099, 2.37689655, ..., 2.41701552, 2.59950841,\n",
       "       2.61545828])"
      ]
     },
     "execution_count": 34,
     "metadata": {},
     "output_type": "execute_result"
    }
   ],
   "source": [
    "E_multilinreg_pred = RMSE_emulator(pc1_pred, pc2_pred, pc3_pred, pc4_pred, pc5_pred)\n",
    "E_multilinreg_pred"
   ]
  },
  {
   "cell_type": "markdown",
   "metadata": {},
   "source": [
    "# LASSO predictions"
   ]
  },
  {
   "cell_type": "code",
   "execution_count": 35,
   "metadata": {},
   "outputs": [],
   "source": [
    "pc1 = np.load('/data/home/globc/peatier/CNRMppe/PPE/ENSEMBLE2/files/npy/LASSO_prediction_eof1_pr.npy')\n",
    "pc2 = np.load('/data/home/globc/peatier/CNRMppe/PPE/ENSEMBLE2/files/npy/LASSO_prediction_eof2_pr.npy')\n",
    "pc3 = np.load('/data/home/globc/peatier/CNRMppe/PPE/ENSEMBLE2/files/npy/LASSO_prediction_eof3_pr.npy')\n",
    "pc4 = np.load('/data/home/globc/peatier/CNRMppe/PPE/ENSEMBLE2/files/npy/LASSO_prediction_eof4_pr.npy')\n",
    "pc5 = np.load('/data/home/globc/peatier/CNRMppe/PPE/ENSEMBLE2/files/npy/LASSO_prediction_eof5_pr.npy')\n",
    "\n",
    "PC_df = pd.DataFrame(pc1)\n",
    "PC_df['pc1'] = pc1\n",
    "PC_df['pc2'] = pc2\n",
    "PC_df['pc3'] = pc3\n",
    "PC_df['pc4'] = pc4\n",
    "PC_df['pc5'] = pc5\n",
    "PC_df = PC_df.drop(labels = 0, axis=1)\n",
    "#PC_df\n",
    "\n",
    "pc1 = PC_df['pc1'].to_xarray().rename({'index':'mode'})\n",
    "pc2 = PC_df['pc2'].to_xarray().rename({'index':'mode'})\n",
    "pc3 = PC_df['pc3'].to_xarray().rename({'index':'mode'})\n",
    "pc4 = PC_df['pc4'].to_xarray().rename({'index':'mode'})\n",
    "pc5 = PC_df['pc5'].to_xarray().rename({'index':'mode'})"
   ]
  },
  {
   "cell_type": "code",
   "execution_count": 36,
   "metadata": {},
   "outputs": [],
   "source": [
    "pc1_val = np.load('/data/home/globc/peatier/CNRMppe/PPE/ENSEMBLE2/files/npy/LASSO_validation_eof1_pr.npy')\n",
    "pc2_val = np.load('/data/home/globc/peatier/CNRMppe/PPE/ENSEMBLE2/files/npy/LASSO_validation_eof2_pr.npy')\n",
    "pc3_val = np.load('/data/home/globc/peatier/CNRMppe/PPE/ENSEMBLE2/files/npy/LASSO_validation_eof3_pr.npy')\n",
    "pc4_val = np.load('/data/home/globc/peatier/CNRMppe/PPE/ENSEMBLE2/files/npy/LASSO_validation_eof4_pr.npy')\n",
    "pc5_val = np.load('/data/home/globc/peatier/CNRMppe/PPE/ENSEMBLE2/files/npy/LASSO_validation_eof5_pr.npy')\n",
    "\n",
    "PC_val_df_LASSO = pd.DataFrame(pc1_val)\n",
    "PC_val_df_LASSO['pc1'] = pc1_val\n",
    "PC_val_df_LASSO['pc2'] = pc2_val\n",
    "PC_val_df_LASSO['pc3'] = pc3_val\n",
    "PC_val_df_LASSO['pc4'] = pc4_val\n",
    "PC_val_df_LASSO['pc5'] = pc5_val\n",
    "PC_val_df_LASSO = PC_val_df_LASSO.drop(labels = 0, axis=1)\n",
    "#PC_df\n",
    "\n",
    "pc1_val = PC_val_df_LASSO['pc1'].to_xarray().rename({'index':'mode'})\n",
    "pc2_val = PC_val_df_LASSO['pc2'].to_xarray().rename({'index':'mode'})\n",
    "pc3_val = PC_val_df_LASSO['pc3'].to_xarray().rename({'index':'mode'})\n",
    "pc4_val = PC_val_df_LASSO['pc4'].to_xarray().rename({'index':'mode'})\n",
    "pc5_val = PC_val_df_LASSO['pc5'].to_xarray().rename({'index':'mode'})"
   ]
  },
  {
   "cell_type": "markdown",
   "metadata": {},
   "source": [
    "## Calcul de biais CERES"
   ]
  },
  {
   "cell_type": "code",
   "execution_count": 37,
   "metadata": {
    "scrolled": false
   },
   "outputs": [
    {
     "data": {
      "text/plain": [
       "array([2.57114905, 2.50864779, 2.68270648, 2.5200037 , 2.83339251,\n",
       "       2.40556128, 2.87843927, 2.48020627, 2.02449898, 2.31043423,\n",
       "       2.39577796, 2.3222043 , 2.17784117, 2.43692527, 2.67233456,\n",
       "       2.31863895, 2.43477036, 2.51581974, 2.67496513, 2.27851706,\n",
       "       2.33561737, 2.33035337, 2.50889502, 2.162468  , 2.26640737,\n",
       "       2.34859351, 2.36309214, 2.6786019 , 2.80319665, 2.2071721 ,\n",
       "       1.93615247, 2.80520054, 1.97889782, 2.30007441, 2.28540162,\n",
       "       2.87459443, 2.29326831, 2.491519  , 2.59314502, 2.32326686,\n",
       "       2.22753561, 2.69278545, 2.65529892, 2.63651006, 1.87523903,\n",
       "       2.34176401, 2.88528258, 1.88422443, 2.71013159, 2.64071418,\n",
       "       2.52529003, 2.38818173, 2.48194692, 2.42154264, 2.40174697,\n",
       "       2.4857059 , 2.52037977, 2.36084533, 2.1020212 , 2.285683  ,\n",
       "       2.50183279, 2.90236422, 2.06342354, 2.02466443, 2.39758631,\n",
       "       1.76229036, 2.10237323, 2.14134376, 2.15407585, 2.37381675,\n",
       "       2.42627918, 2.61834947, 2.11450112, 2.34379732, 2.42039001,\n",
       "       2.82920596, 2.02746184, 2.4910322 , 2.4237308 , 2.80429122,\n",
       "       2.19427897, 2.39565485, 2.24778835, 2.11463941, 1.92166556,\n",
       "       2.48840673, 2.40820178, 2.55313643, 2.4505578 , 2.65703138,\n",
       "       2.13987308, 2.32489764, 2.57117215, 2.40091558, 2.62554841,\n",
       "       2.5859155 , 2.43005235, 2.44725472, 2.36249498, 2.28185749,\n",
       "       2.51346605, 2.27401406])"
      ]
     },
     "execution_count": 37,
     "metadata": {},
     "output_type": "execute_result"
    }
   ],
   "source": [
    "E_lasso_val = RMSE_emulator(pc1_val, pc2_val, pc3_val, pc4_val, pc5_val)\n",
    "E_lasso_val"
   ]
  },
  {
   "cell_type": "code",
   "execution_count": 38,
   "metadata": {
    "scrolled": true
   },
   "outputs": [],
   "source": [
    "E_lasso_pred = RMSE_emulator(pc1, pc2, pc3, pc4, pc5)"
   ]
  },
  {
   "cell_type": "markdown",
   "metadata": {},
   "source": [
    "# Feedbacks + creation DataFrame"
   ]
  },
  {
   "cell_type": "code",
   "execution_count": 39,
   "metadata": {},
   "outputs": [],
   "source": [
    "Fdbck_PPE = np.load(file=\"/data/home/globc/peatier/CNRMppe/PPE/ENSEMBLE2/files/npy/Net_feedbacks.npy\")\n",
    "Fdbck_multilinreg_val = np.load(file=\"/data/home/globc/peatier/CNRMppe/PPE/ENSEMBLE2/files/npy/MultiLinReg_validation_FdbckN.npy\")\n",
    "Fdbck_multilinreg_pred = np.load(file=\"/data/home/globc/peatier/CNRMppe/PPE/ENSEMBLE2/files/npy/MultiLinReg_prediction_FdbckN.npy\")\n",
    "Fdbck_lasso_val = np.load(file=\"/data/home/globc/peatier/CNRMppe/PPE/ENSEMBLE2/files/npy/LASSO_validation_FdbckN.npy\")\n",
    "Fdbck_lasso_pred = np.load(file=\"/data/home/globc/peatier/CNRMppe/PPE/ENSEMBLE2/files/npy/LASSO_prediction_FdbckN.npy\")\n",
    "#Fdbck_NN_val = np.load(file=\"/data/home/globc/peatier/CNRMppe/PPE/ENSEMBLE2/files/npy/NN_validation_FdbckN.npy\")\n",
    "#Fdbck_NN_pred = np.load(file=\"/data/home/globc/peatier/CNRMppe/PPE/ENSEMBLE2/files/npy/NN_prediction_FdbckN.npy\")\n",
    "\n",
    "\n",
    "Fdbck_CFMIP = np.load(file='/data/home/globc/peatier/CNRMppe/PPE/ENSEMBLE2/files/npy/CMIP6_NetFeedbcks.npy')\n",
    "Fdbck_MRI = Fdbck_CFMIP[1]\n",
    "Fdbck_CAN = Fdbck_CFMIP[2]\n",
    "Fdbck_MIROC = Fdbck_CFMIP[3]\n",
    "Fdbck_HadGEM3 = Fdbck_CFMIP[4]\n",
    "Fdbck_IPSL = Fdbck_CFMIP[5]\n",
    "Fdbck_BCC = Fdbck_CFMIP[6]"
   ]
  },
  {
   "cell_type": "code",
   "execution_count": 40,
   "metadata": {},
   "outputs": [],
   "source": [
    "E_PPE_df = pd.DataFrame(E_PPE, columns=['E_PPE'])\n",
    "E_PPE_df['Fdbck'] = Fdbck_PPE\n",
    "#E_PPE_df"
   ]
  },
  {
   "cell_type": "code",
   "execution_count": 41,
   "metadata": {},
   "outputs": [],
   "source": [
    "#E_multilinreg_val_df = pd.DataFrame(E_multilinreg_val, columns=['E_multilinreg_val'])\n",
    "#E_multilinreg_val_df['Fdbck_val'] = Fdbck_multilinreg_val\n",
    "#E_multilinreg_val_df\n",
    "\n",
    "E_multilinreg_val_df = pd.DataFrame(E_multilinreg_val, columns=['E_multilinreg_val'])\n",
    "E_multilinreg_val_df['Fdbck_val'] = Fdbck_multilinreg_val\n",
    "\n",
    "E_multilinreg_pred_df = pd.DataFrame(E_multilinreg_pred[0:100000], columns=['E_multilinreg_pred'])\n",
    "E_multilinreg_pred_df['Fdbck_pred'] = Fdbck_multilinreg_pred\n",
    "#E_multilinreg_pred_df"
   ]
  },
  {
   "cell_type": "code",
   "execution_count": 42,
   "metadata": {},
   "outputs": [],
   "source": [
    "E_lasso_val_df = pd.DataFrame(E_lasso_val, columns=['E_lasso_val'])\n",
    "E_lasso_val_df['Fdbck_val'] = Fdbck_lasso_val\n",
    "#E_lasso_val_df\n",
    "\n",
    "E_lasso_pred_df = pd.DataFrame(E_lasso_pred, columns=['E_lasso_pred'])\n",
    "E_lasso_pred_df['Fdbck_pred'] = Fdbck_lasso_pred\n",
    "#E_lasso_pred_df"
   ]
  },
  {
   "cell_type": "code",
   "execution_count": 43,
   "metadata": {},
   "outputs": [],
   "source": [
    "#E_NN_val_df = pd.DataFrame(E_NN_val, columns=['E_NN_val'])\n",
    "#E_NN_val_df['Fdbck_val'] = Fdbck_NN_val\n",
    "#E_NN_val_df\n",
    "\n",
    "#E_NN_pred_df = pd.DataFrame(E_NN_pred, columns=['E_NN_pred'])\n",
    "#E_NN_pred_df['Fdbck_pred'] = Fdbck_NN_pred\n",
    "#E_NN_pred_df"
   ]
  },
  {
   "cell_type": "markdown",
   "metadata": {},
   "source": [
    "# Create Plot"
   ]
  },
  {
   "cell_type": "code",
   "execution_count": 44,
   "metadata": {
    "scrolled": false
   },
   "outputs": [
    {
     "data": {
      "image/png": "[encoded data removed]",
      "text/plain": [
       "<Figure size 1080x864 with 1 Axes>"
      ]
     },
     "metadata": {
      "needs_background": "light"
     },
     "output_type": "display_data"
    }
   ],
   "source": [
    "ax = plt.gca()\n",
    "\n",
    "E_PPE_df.plot(kind='scatter', x='Fdbck', y='E_PPE', color='black', figsize=(15, 12), \n",
    "                     marker=\"o\", ax = ax)\n",
    "plt.plot(Fdbck_MRI, E_MRI, color='orange', marker='^', linewidth=0, markersize=12)\n",
    "plt.plot(Fdbck_CAN, E_CAN, color='navy', marker='^', linewidth=0, markersize=12)\n",
    "plt.plot(Fdbck_MIROC, E_MIROC, color='darkred', marker='^', linewidth=0, markersize=12)\n",
    "plt.plot(Fdbck_HadGEM3, E_HadGEM3, color='darkgray', marker='^', linewidth=0, markersize=12)\n",
    "plt.plot(Fdbck_IPSL, E_IPSL, color='pink', marker='^', linewidth=0, markersize=12)\n",
    "plt.plot(Fdbck_BCC, E_BCC, color='blue', marker='^', linewidth=0, markersize=12)\n",
    "\n",
    "\n",
    "plt.hlines(E_p1,xmin = -2.0,xmax = 2.0,label='default simulation', colors='black', \n",
    "           linestyles='dashed')\n",
    "plt.vlines(p1_feedbacks,ymin = 0,ymax = 25,label='default simulation', colors='black', \n",
    "           linestyles='dashed')\n",
    "\n",
    "legend = ['MRI model', 'CAN model', 'MIROC model', 'HadGEM3 model', 'IPSL model',\n",
    "          'BCC model', 'CNRM PPE', 'CNRM default model']\n",
    "\n",
    "title = 'Precipitation ($mm/day$)'\n",
    "plt.xlabel('Global Net Feedbacks ($W.m^2.K^{-1}$)', fontsize=22)\n",
    "plt.ylabel('RMSE [PPE - GPCP]', fontsize=22)\n",
    "plt.legend(legend, fontsize=15)\n",
    "plt.title(title, fontsize=30)\n",
    "ax.tick_params(axis='both', which='major', labelsize=15)\n",
    "plt.ylim(0,4)\n",
    "plt.xlim(-2.0,-0.5)\n",
    "\n",
    "# Enregistrer la figure .....................\n",
    "\n",
    "plt.savefig(\"/data/home/globc/peatier/figures/RMSE_pr_PPE.png\", \n",
    "        orientation='portrait', bbox_inches='tight', pad_inches=0.1)\n",
    "\n",
    "# Show la figure .................\n",
    "plt.show()"
   ]
  },
  {
   "cell_type": "code",
   "execution_count": null,
   "metadata": {},
   "outputs": [],
   "source": [
    "ax = plt.gca()\n",
    "\n",
    "plt.plot(Fdbck_MRI, E_MRI, color='orange', marker='^', linewidth=0, markersize=12)\n",
    "plt.plot(Fdbck_CAN, E_CAN, color='navy', marker='^', linewidth=0, markersize=12)\n",
    "plt.plot(Fdbck_MIROC, E_MIROC, color='darkred', marker='^', linewidth=0, markersize=12)\n",
    "plt.plot(Fdbck_HadGEM3, E_HadGEM3, color='darkgray', marker='^', linewidth=0, markersize=12)\n",
    "plt.plot(Fdbck_IPSL, E_IPSL, color='pink', marker='^', linewidth=0, markersize=12)\n",
    "plt.plot(Fdbck_BCC, E_BCC, color='blue', marker='^', linewidth=0, markersize=12)\n",
    "\n",
    "#E_multilinreg_val_df.plot(kind='scatter', x='Fdbck_val', y='E_multilinreg_val', color='red', alpha=1, figsize=(15, 12), \n",
    "#                     marker='x', ax = ax)\n",
    "E_multilinreg_pred_df.plot(kind='scatter', x='Fdbck_pred', y='E_multilinreg_pred', \n",
    "                           color='coral', alpha=0.1, figsize=(15, 12), marker='.', ax = ax)\n",
    "\n",
    "\n",
    "E_PPE_df.plot(kind='scatter', x='Fdbck', y='E_PPE', color='black', figsize=(15, 12), \n",
    "                     marker=\"o\", ax = ax)\n",
    "\n",
    "plt.hlines(E_p1,xmin = -2.0,xmax = 2.0,label='default simulation', colors='black', \n",
    "           linestyles='dashed')\n",
    "plt.vlines(p1_feedbacks,ymin = 0,ymax = 25,label='default simulation', colors='black', \n",
    "           linestyles='dashed')\n",
    "\n",
    "legend = ['MRI model', 'CAN model', 'MIROC model', 'HadGEM3 model', 'IPSL model',\n",
    "          'BCC model', 'Emulator validation', 'Emulator prediction', 'CNRM PPE', 'CNRM default model']\n",
    "\n",
    "title = 'Precipitation ($mm/day$)'\n",
    "plt.xlabel('Global Net Feedbacks ($W.m^2.K^{-1}$)', fontsize=22)\n",
    "plt.ylabel('RMSE [PPE - GPCP]', fontsize=22)\n",
    "plt.legend(legend, fontsize=15)\n",
    "plt.title(title, fontsize=30)\n",
    "ax.tick_params(axis='both', which='major', labelsize=15)\n",
    "plt.ylim(0,4)\n",
    "plt.xlim(-2.0,-0.5)\n",
    "\n",
    "# Enregistrer la figure .....................\n",
    "\n",
    "plt.savefig(\"/data/home/globc/peatier/figures/RMSE_pr_PPE_pred.png\", \n",
    "        orientation='portrait', bbox_inches='tight', pad_inches=0.1)\n",
    "\n",
    "# Show la figure .................\n",
    "plt.show()"
   ]
  },
  {
   "cell_type": "code",
   "execution_count": 29,
   "metadata": {},
   "outputs": [
    {
     "data": {
      "text/html": [
       "<div>\n",
       "<style scoped>\n",
       "    .dataframe tbody tr th:only-of-type {\n",
       "        vertical-align: middle;\n",
       "    }\n",
       "\n",
       "    .dataframe tbody tr th {\n",
       "        vertical-align: top;\n",
       "    }\n",
       "\n",
       "    .dataframe thead th {\n",
       "        text-align: right;\n",
       "    }\n",
       "</style>\n",
       "<table border=\"1\" class=\"dataframe\">\n",
       "  <thead>\n",
       "    <tr style=\"text-align: right;\">\n",
       "      <th></th>\n",
       "      <th>E_PPE</th>\n",
       "      <th>Fdbck</th>\n",
       "      <th>E_lasso_val</th>\n",
       "      <th>E_multilinreg_val</th>\n",
       "      <th>OSE_multilinreg</th>\n",
       "      <th>OSE_lasso</th>\n",
       "    </tr>\n",
       "  </thead>\n",
       "  <tbody>\n",
       "    <tr>\n",
       "      <th>0</th>\n",
       "      <td>3.017001</td>\n",
       "      <td>-0.789073</td>\n",
       "      <td>2.580329</td>\n",
       "      <td>2.683984</td>\n",
       "      <td>0.333016</td>\n",
       "      <td>0.436672</td>\n",
       "    </tr>\n",
       "    <tr>\n",
       "      <th>1</th>\n",
       "      <td>2.442560</td>\n",
       "      <td>-1.666454</td>\n",
       "      <td>2.503582</td>\n",
       "      <td>2.635380</td>\n",
       "      <td>-0.192820</td>\n",
       "      <td>-0.061023</td>\n",
       "    </tr>\n",
       "    <tr>\n",
       "      <th>2</th>\n",
       "      <td>3.087427</td>\n",
       "      <td>-1.214114</td>\n",
       "      <td>2.682224</td>\n",
       "      <td>2.858973</td>\n",
       "      <td>0.228455</td>\n",
       "      <td>0.405203</td>\n",
       "    </tr>\n",
       "    <tr>\n",
       "      <th>3</th>\n",
       "      <td>2.531341</td>\n",
       "      <td>-1.292415</td>\n",
       "      <td>2.514908</td>\n",
       "      <td>2.582905</td>\n",
       "      <td>-0.051563</td>\n",
       "      <td>0.016434</td>\n",
       "    </tr>\n",
       "    <tr>\n",
       "      <th>4</th>\n",
       "      <td>2.996862</td>\n",
       "      <td>-0.756525</td>\n",
       "      <td>2.830794</td>\n",
       "      <td>2.847522</td>\n",
       "      <td>0.149340</td>\n",
       "      <td>0.166068</td>\n",
       "    </tr>\n",
       "    <tr>\n",
       "      <th>...</th>\n",
       "      <td>...</td>\n",
       "      <td>...</td>\n",
       "      <td>...</td>\n",
       "      <td>...</td>\n",
       "      <td>...</td>\n",
       "      <td>...</td>\n",
       "    </tr>\n",
       "    <tr>\n",
       "      <th>97</th>\n",
       "      <td>2.493090</td>\n",
       "      <td>-1.496774</td>\n",
       "      <td>2.441211</td>\n",
       "      <td>2.412530</td>\n",
       "      <td>0.080560</td>\n",
       "      <td>0.051879</td>\n",
       "    </tr>\n",
       "    <tr>\n",
       "      <th>98</th>\n",
       "      <td>2.493093</td>\n",
       "      <td>-1.571997</td>\n",
       "      <td>2.351526</td>\n",
       "      <td>2.426157</td>\n",
       "      <td>0.066936</td>\n",
       "      <td>0.141567</td>\n",
       "    </tr>\n",
       "    <tr>\n",
       "      <th>99</th>\n",
       "      <td>2.452885</td>\n",
       "      <td>-1.489540</td>\n",
       "      <td>2.278932</td>\n",
       "      <td>2.495547</td>\n",
       "      <td>-0.042662</td>\n",
       "      <td>0.173953</td>\n",
       "    </tr>\n",
       "    <tr>\n",
       "      <th>100</th>\n",
       "      <td>2.572920</td>\n",
       "      <td>-1.430751</td>\n",
       "      <td>2.503695</td>\n",
       "      <td>2.620134</td>\n",
       "      <td>-0.047214</td>\n",
       "      <td>0.069225</td>\n",
       "    </tr>\n",
       "    <tr>\n",
       "      <th>101</th>\n",
       "      <td>1.800922</td>\n",
       "      <td>-1.699042</td>\n",
       "      <td>2.265189</td>\n",
       "      <td>2.387066</td>\n",
       "      <td>-0.586144</td>\n",
       "      <td>-0.464267</td>\n",
       "    </tr>\n",
       "  </tbody>\n",
       "</table>\n",
       "<p>102 rows × 6 columns</p>\n",
       "</div>"
      ],
      "text/plain": [
       "        E_PPE     Fdbck  E_lasso_val  E_multilinreg_val  OSE_multilinreg  \\\n",
       "0    3.017001 -0.789073     2.580329           2.683984         0.333016   \n",
       "1    2.442560 -1.666454     2.503582           2.635380        -0.192820   \n",
       "2    3.087427 -1.214114     2.682224           2.858973         0.228455   \n",
       "3    2.531341 -1.292415     2.514908           2.582905        -0.051563   \n",
       "4    2.996862 -0.756525     2.830794           2.847522         0.149340   \n",
       "..        ...       ...          ...                ...              ...   \n",
       "97   2.493090 -1.496774     2.441211           2.412530         0.080560   \n",
       "98   2.493093 -1.571997     2.351526           2.426157         0.066936   \n",
       "99   2.452885 -1.489540     2.278932           2.495547        -0.042662   \n",
       "100  2.572920 -1.430751     2.503695           2.620134        -0.047214   \n",
       "101  1.800922 -1.699042     2.265189           2.387066        -0.586144   \n",
       "\n",
       "     OSE_lasso  \n",
       "0     0.436672  \n",
       "1    -0.061023  \n",
       "2     0.405203  \n",
       "3     0.016434  \n",
       "4     0.166068  \n",
       "..         ...  \n",
       "97    0.051879  \n",
       "98    0.141567  \n",
       "99    0.173953  \n",
       "100   0.069225  \n",
       "101  -0.464267  \n",
       "\n",
       "[102 rows x 6 columns]"
      ]
     },
     "execution_count": 29,
     "metadata": {},
     "output_type": "execute_result"
    }
   ],
   "source": [
    "fluxes_biases = E_PPE_df\n",
    "fluxes_biases['E_lasso_val'] = E_lasso_val_df['E_lasso_val']\n",
    "fluxes_biases['E_multilinreg_val'] = E_multilinreg_val_df['E_multilinreg_val']\n",
    "fluxes_biases['OSE_multilinreg'] = (fluxes_biases['E_PPE'] - fluxes_biases['E_multilinreg_val'])\n",
    "fluxes_biases['OSE_lasso'] = (fluxes_biases['E_PPE'] - fluxes_biases['E_lasso_val'])\n",
    "fluxes_biases"
   ]
  },
  {
   "cell_type": "code",
   "execution_count": 30,
   "metadata": {},
   "outputs": [
    {
     "data": {
      "text/plain": [
       "0.26523371824255426"
      ]
     },
     "execution_count": 30,
     "metadata": {},
     "output_type": "execute_result"
    }
   ],
   "source": [
    "tmp = sum(fluxes_biases['OSE_multilinreg']*fluxes_biases['OSE_multilinreg'])/len(fluxes_biases)\n",
    "OSE = sqrt(tmp)\n",
    "#OSE\n",
    "\n",
    "np.save('/data/home/globc/peatier/CNRMppe/PPE/ENSEMBLE2/files/npy/OSE_pr.npy', OSE)\n",
    "OSE"
   ]
  },
  {
   "cell_type": "code",
   "execution_count": 35,
   "metadata": {},
   "outputs": [],
   "source": [
    "RMSE_pr_val = fluxes_biases['E_multilinreg_val']\n",
    "np.save('/data/home/globc/peatier/CNRMppe/PPE/ENSEMBLE2/files/npy/RMSE_multilinreg_val_pr.npy', RMSE_pr_val)"
   ]
  },
  {
   "cell_type": "code",
   "execution_count": 32,
   "metadata": {},
   "outputs": [
    {
     "data": {
      "image/png": "[encoded data removed]",
      "text/plain": [
       "<Figure size 576x1440 with 1 Axes>"
      ]
     },
     "metadata": {
      "needs_background": "light"
     },
     "output_type": "display_data"
    }
   ],
   "source": [
    "plt.subplots(figsize=(8,20))\n",
    "\n",
    "#########################\n",
    "plt.subplot(311)\n",
    "ax = plt.gca()\n",
    "\n",
    "title=\"Precipitation Error\"\n",
    "fluxes_biases.plot(kind='scatter', x='E_PPE', y='E_multilinreg_val', color='blue',  \n",
    "                     marker=\"o\", ax = ax)\n",
    "#fluxes_biases.plot(kind='scatter', x='E_PPE', y='E_lasso_val', color='blue', alpha=0.6, \n",
    "#                     marker=\"o\", ax = ax)\n",
    "\n",
    "plt.xlabel('True RMSE', fontsize = 18)#, fontsize=18)\n",
    "plt.ylabel('Predicted RMSE', fontsize = 18)#, fontsize=18)\n",
    "plt.legend(['MultiLinreg', 'LASSO'], fontsize = 16)\n",
    "plt.title(title, fontsize = 22)#, fontsize=22)\n",
    "plt.ylim(0,3.5)\n",
    "plt.xlim(0,3.5)\n",
    "ax.plot((0, 4), (0, 4), linewidth=1.0, color='gray', alpha=0.2)\n",
    "\n",
    "# Enregistrer la figure ...........\n",
    "\n",
    "plt.savefig(\"/data/home/globc/peatier/figures/pr_emulator_skill.png\", \n",
    "        orientation='portrait', bbox_inches='tight', pad_inches=0.1)\n",
    "\n",
    "# Display the figure \n",
    "plt.show()"
   ]
  },
  {
   "cell_type": "markdown",
   "metadata": {},
   "source": [
    "# Select of lowest errors and feedbakcs histograms"
   ]
  },
  {
   "cell_type": "code",
   "execution_count": 42,
   "metadata": {},
   "outputs": [],
   "source": [
    "E_PPE_short = []\n",
    "tmp = []\n",
    "Fdbck_short = []\n",
    "cpt=0\n",
    "\n",
    "for i in fluxes_biases['E_PPE']:\n",
    "    if i <= E_p1:\n",
    "        E_PPE_short.append(i)\n",
    "        toto = fluxes_biases['Fdbck'][cpt]\n",
    "        Fdbck_short.append(toto)\n",
    "        cpt+=1\n",
    "        \n",
    "    else:\n",
    "        tmp.append(i)\n",
    "        cpt+=1\n",
    "\n",
    "PPE_short_df = pd.DataFrame()\n",
    "PPE_short_df['Fdbck'] = Fdbck_short\n",
    "PPE_short_df['E_PPE'] = E_PPE_short\n",
    "#PPE_short_df"
   ]
  },
  {
   "cell_type": "code",
   "execution_count": 43,
   "metadata": {},
   "outputs": [],
   "source": [
    "E_lasso_short = []\n",
    "tmp = []\n",
    "Fdbck_short = []\n",
    "cpt=0\n",
    "\n",
    "for i in E_lasso_pred_df['E_lasso_pred']:\n",
    "    if i <= E_p1:\n",
    "        E_lasso_short.append(i)\n",
    "        toto = E_lasso_pred_df['Fdbck_pred'][cpt]\n",
    "        Fdbck_short.append(toto)\n",
    "        cpt+=1\n",
    "        \n",
    "    else:\n",
    "        tmp.append(i)\n",
    "        cpt+=1\n",
    "\n",
    "lasso_short_df = pd.DataFrame()\n",
    "lasso_short_df['Fdbck'] = Fdbck_short\n",
    "lasso_short_df['E_lasso'] = E_lasso_short\n",
    "#PPE_short_df"
   ]
  },
  {
   "cell_type": "code",
   "execution_count": 44,
   "metadata": {},
   "outputs": [],
   "source": [
    "E_multilinreg_short = []\n",
    "tmp = []\n",
    "Fdbck_short = []\n",
    "cpt=0\n",
    "\n",
    "for i in E_multilinreg_pred_df['E_multilinreg_pred']:\n",
    "    if i <= E_p1:\n",
    "        E_multilinreg_short.append(i)\n",
    "        toto = E_multilinreg_pred_df['Fdbck_pred'][cpt]\n",
    "        Fdbck_short.append(toto)\n",
    "        cpt+=1\n",
    "        \n",
    "    else:\n",
    "        tmp.append(i)\n",
    "        cpt+=1\n",
    "\n",
    "multilinreg_short_df = pd.DataFrame()\n",
    "multilinreg_short_df['Fdbck'] = Fdbck_short\n",
    "multilinreg_short_df['E_multilinreg'] = E_multilinreg_short\n",
    "#PPE_short_df"
   ]
  },
  {
   "cell_type": "code",
   "execution_count": 45,
   "metadata": {},
   "outputs": [
    {
     "data": {
      "image/png": "[encoded data removed]",
      "text/plain": [
       "<Figure size 1080x720 with 1 Axes>"
      ]
     },
     "metadata": {
      "needs_background": "light"
     },
     "output_type": "display_data"
    }
   ],
   "source": [
    "# Create plot of PDF of net feedbacks emulated by neural network \n",
    "\n",
    "title = 'pr threshold'\n",
    "\n",
    "fig, ax = plt.subplots(figsize=(15,10))\n",
    "\n",
    "Bins = [-1.8,-1.7,-1.6,-1.5,-1.4,-1.3,-1.2,-1.1,-1.0,-0.9,-0.8,-0.7,-0.6]\n",
    "\n",
    "ax = sns.distplot(Fdbck_multilinreg_pred, norm_hist=False, bins = Bins, kde = False, \n",
    "                  hist_kws={\"alpha\": 0.5, \"color\" : 'darkgreen', \"edgecolor\" : \"black\"}, \n",
    "                  label = 'Emulator', ax=ax)\n",
    "\n",
    "ax = sns.distplot(multilinreg_short_df['Fdbck'], norm_hist=False, bins = Bins, kde = False, \n",
    "                 hist_kws={\"alpha\": 1.0, \"color\" : 'darkred', \"edgecolor\" : \"black\"}, \n",
    "                  label= 'Selected emulations', ax=ax)\n",
    "\n",
    "ax = sns.distplot(Fdbck_PPE, norm_hist= False, bins = Bins, kde = False, \n",
    "                  hist_kws={\"alpha\": 1.0, \"color\" : 'blue', \"edgecolor\" : \"black\"}, \n",
    "                  label = 'PPE', ax=ax)\n",
    "\n",
    "#ax = sns.distplot(PPE_short_df['Fdbck'], norm_hist= False, bins = Bins, kde = False, \n",
    "#                  hist_kws={\"alpha\": 0.8, \"color\" : 'navy', \"edgecolor\" : \"black\"}, \n",
    "#                  label = 'Best PPE members', ax=ax)\n",
    "\n",
    "plt.vlines(p1_feedbacks,ymin = 0,ymax = 250,label='CNRM default model', colors='black', \n",
    "           linestyles='dashed')\n",
    "\n",
    "plt.hlines(29300.0,xmin = Fdbck_CFMIP.min(),xmax = Fdbck_CFMIP.max(),\n",
    "           colors='black', linewidth=4.0, linestyles='solid')\n",
    "plt.text(-1.9, 29600.0, 'CFMIP', color = 'black', fontsize=15)\n",
    "\n",
    "plt.hlines(28000.0,xmin = Fdbck_PPE.min(),xmax = Fdbck_PPE.max(),\n",
    "           colors='blue', linewidth=4.0, linestyles='solid')\n",
    "plt.text(-0.77, 28300.0, 'PPE', color = 'blue', fontsize=15)\n",
    "\n",
    "plt.hlines(26800.0,xmin = Fdbck_multilinreg_pred.min(),xmax = Fdbck_multilinreg_pred.max(),\n",
    "           colors='darkgreen', linewidth=4.0, linestyles='solid')\n",
    "plt.text(-2.00, 27100.0, 'Emulator', color = 'darkgreen', fontsize=15)\n",
    "\n",
    "plt.hlines(25500.0,xmin = multilinreg_short_df['Fdbck'].min(),xmax = multilinreg_short_df['Fdbck'].max(),\n",
    "           colors='darkred', linewidth=4.0, linestyles='solid')\n",
    "plt.text(-1.45, 25800.0, 'Selected emulations', color = 'darkred', fontsize=15)\n",
    "\n",
    "ax.tick_params(axis='both', which='major', labelsize=15)\n",
    "plt.legend(fontsize=18, bbox_to_anchor=(0,0,1,0.6))\n",
    "plt.title(title, fontsize = 22)\n",
    "plt.xlabel('Global Net Feedbacks [$W.m^{-2}.K^{-1}$]',fontsize=20)\n",
    "plt.ylabel('Number of models',fontsize=20)\n",
    "\n",
    "# Enregistrer la figure ...........\n",
    "\n",
    "plt.savefig(\"/data/home/globc/peatier/figures/pr_threshold_feedbacks.png\", \n",
    "        orientation='portrait', bbox_inches='tight', pad_inches=0.1)\n",
    "\n",
    "# Display the figure \n",
    "plt.show()"
   ]
  },
  {
   "cell_type": "code",
   "execution_count": 46,
   "metadata": {},
   "outputs": [],
   "source": [
    "## SAVE \n",
    "E_multilinreg_pred = E_multilinreg_pred_df['E_multilinreg_pred'].values\n",
    "np.save('/data/home/globc/peatier/CNRMppe/PPE/ENSEMBLE2/files/npy/RMSE_multilinreg_pred_pr.npy', E_multilinreg_pred)\n",
    "\n",
    "E_lasso_pred = E_lasso_pred_df['E_lasso_pred'].values\n",
    "np.save('/data/home/globc/peatier/CNRMppe/PPE/ENSEMBLE2/files/npy/RMSE_lasso_pred_pr.npy', E_lasso_pred)\n",
    "\n",
    "E_PPE = E_PPE_df['E_PPE'].values\n",
    "np.save('/data/home/globc/peatier/CNRMppe/PPE/ENSEMBLE2/files/npy/RMSE_PPE_pr.npy', E_PPE)"
   ]
  },
  {
   "cell_type": "code",
   "execution_count": null,
   "metadata": {},
   "outputs": [],
   "source": []
  },
  {
   "cell_type": "code",
   "execution_count": null,
   "metadata": {},
   "outputs": [],
   "source": []
  },
  {
   "cell_type": "code",
   "execution_count": null,
   "metadata": {},
   "outputs": [],
   "source": []
  }
 ],
 "metadata": {
  "kernelspec": {
   "display_name": "Python 3",
   "language": "python",
   "name": "python3"
  },
  "language_info": {
   "codemirror_mode": {
    "name": "ipython",
    "version": 3
   },
   "file_extension": ".py",
   "mimetype": "text/x-python",
   "name": "python",
   "nbconvert_exporter": "python",
   "pygments_lexer": "ipython3",
   "version": "3.7.6"
  }
 },
 "nbformat": 4,
 "nbformat_minor": 2
}
