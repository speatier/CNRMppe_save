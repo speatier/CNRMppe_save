{
 "cells": [
  {
   "cell_type": "markdown",
   "metadata": {},
   "source": [
    "# Performance assessment with TEMPERATURE in ARPEGE-Climat PPE\n",
    "\n",
    "<a id=\"top\">This code</a> is assessing model performance based on Surface Air Temperature (tas) within the ARPEGE_Climat Perturbed Physics Ensemble. The metric is then used together with emulators (Multi Linear Regression) to constrain the feedback distribution in the ensemble, but also to study a subset of optimal parameter chosen with the total metric $E_{tot}$ and simulated with ARPEGE-Climat 6.3. <br> "
   ]
  },
  {
   "cell_type": "markdown",
   "metadata": {},
   "source": [
    "## It is a 6 steps method : \n",
    "### [Step 1 - EOF analysis](#EOF)\n",
    "### [Step 2 - MultiLinReg predictions](#emulator)\n",
    "### [Step 3 - Projection of observation dataset](#observation)\n",
    "### [Step 4 - RMSE estimate](#RMSE)\n",
    "### [Figure histograms](#histograms)\n",
    "### [Step 5 - Optimisation](#optim)\n",
    "### [Step 6 - Optimal subset of parameters](#selection)"
   ]
  },
  {
   "cell_type": "markdown",
   "metadata": {},
   "source": [
    "# Importe modules"
   ]
  },
  {
   "cell_type": "code",
   "execution_count": 1,
   "metadata": {},
   "outputs": [],
   "source": [
    "# Computational modules \n",
    "%matplotlib inline\n",
    "import xarray as xr\n",
    "import glob\n",
    "import os\n",
    "import numpy as np\n",
    "import netCDF4\n",
    "from netCDF4 import Dataset\n",
    "import pandas as pd\n",
    "import re\n",
    "from array import array\n",
    "from pylab import *\n",
    "#import geopandas\n",
    "from eofs.xarray import Eof\n",
    "from eofs.multivariate.standard import MultivariateEof\n",
    "\n",
    "# Plotting modules \n",
    "import matplotlib.pyplot as plt\n",
    "from mpl_toolkits.basemap import Basemap\n",
    "import pandas.plotting\n",
    "import matplotlib.ticker as ticker\n",
    "import seaborn as sns\n",
    "import cartopy.crs as ccrs\n",
    "import cartopy.feature as cfeature\n",
    "from matplotlib.colors import BoundaryNorm\n",
    "\n",
    "# Scikit-learn\n",
    "from sklearn import linear_model\n",
    "from sklearn.linear_model import LassoCV, LassoLarsCV, LassoLarsIC\n",
    "from sklearn.linear_model import Lasso\n",
    "from sklearn.metrics import r2_score\n",
    "from sklearn import preprocessing\n",
    "from sklearn import tree\n",
    "from sklearn.ensemble import RandomForestClassifier\n",
    "from sklearn.metrics import confusion_matrix\n",
    "from sklearn import metrics\n",
    "from sklearn.neural_network import MLPRegressor\n",
    "from scipy.optimize import minimize\n",
    "from scipy.optimize import dual_annealing"
   ]
  },
  {
   "cell_type": "markdown",
   "metadata": {},
   "source": [
    "# Settings"
   ]
  },
  {
   "cell_type": "markdown",
   "metadata": {},
   "source": [
    "### Variables"
   ]
  },
  {
   "cell_type": "code",
   "execution_count": 2,
   "metadata": {},
   "outputs": [],
   "source": [
    "variables = ['tas']\n",
    "variable = 'tas'\n",
    "TITLE = 'Surface Temperature'\n",
    "ylabel = '$E_{tas}$ (K)'"
   ]
  },
  {
   "cell_type": "markdown",
   "metadata": {},
   "source": [
    "### Paths"
   ]
  },
  {
   "cell_type": "code",
   "execution_count": 3,
   "metadata": {},
   "outputs": [],
   "source": [
    "path_official='/data/scratch/globc/peatier/CMIP6/CNRM-CM6-1/CFMIP/amip/'\n",
    "path_PPE='/data/scratch/globc/peatier/CNRM-CM6-1_PPE/'"
   ]
  },
  {
   "cell_type": "markdown",
   "metadata": {},
   "source": [
    "### List of members"
   ]
  },
  {
   "cell_type": "code",
   "execution_count": 4,
   "metadata": {},
   "outputs": [
    {
     "data": {
      "text/plain": [
       "102"
      ]
     },
     "execution_count": 4,
     "metadata": {},
     "output_type": "execute_result"
    }
   ],
   "source": [
    "nb_p_list = ['p311', 'p312', 'p314', 'p316',\n",
    "                    'p317', 'p319', 'p320', 'p321', 'p322', 'p324', 'p325', 'p326', \n",
    "                    'p329', 'p330', 'p331', 'p332', 'p335', 'p336', 'p337' ,'p338', \n",
    "                    'p340', 'p341', 'p343', 'p344', 'p346', 'p347', 'p348', 'p349', \n",
    "                    'p350', 'p353', 'p355', 'p357', 'p359', 'p360', \n",
    "                    'p361', 'p363', 'p365', 'p367', 'p368', 'p369', \n",
    "                    'p372', 'p373', 'p374', 'p375', 'p376', 'p378', 'p381', 'p382', \n",
    "                    'p384', 'p386', 'p388', 'p389', 'p391', 'p392', 'p393', \n",
    "                    'p394', 'p395', 'p396', 'p398', 'p399', 'p400', 'p404', \n",
    "                    'p406', 'p407', 'p409', 'p410', 'p411', 'p412',\n",
    "                    'p414','p416',\n",
    "                    'p413','p419','p424','p426','p428','p421','p423',\n",
    "                    'p425','p427','p429','p430','p436','p438','p431','p433',\n",
    "                    'p442','p446','p443','p445','p447',\n",
    "                    'p452','p454','p456','p458','p457','p459',\n",
    "                    'p460','p465','p467','p469',\n",
    "                    'p470','p471']\n",
    "\n",
    "len(nb_p_list)"
   ]
  },
  {
   "cell_type": "markdown",
   "metadata": {},
   "source": [
    "# <a id=\"EOF\">Step 1 - EOF analysis</a> </li>"
   ]
  },
  {
   "cell_type": "markdown",
   "metadata": {},
   "source": [
    "For each variable, we consider the climatological mean of the model outputs and we calculate empirical orthogonal functions (EOFs) of the control mean states of the ensemble. In contrast to conventional EOFs, the temporal dimension is replaced by the ensemble itself. This analysis provides a compact description of the spatial and temporal variability of the ensemble variance control climate in term of orthogonal functions, or statistical \"modes\". The resulting EOFs are spatial patterns, while their principal components ($PCs$) are the expansion coefficients showing the amplitude of the EOF in each ensemble member."
   ]
  },
  {
   "cell_type": "markdown",
   "metadata": {},
   "source": [
    "### Functions"
   ]
  },
  {
   "cell_type": "code",
   "execution_count": 5,
   "metadata": {},
   "outputs": [],
   "source": [
    "def get_3D_tas_xarr(path, filename, variables):\n",
    "\n",
    "    # First step : download the data into dataframe\n",
    "    file = xr.open_mfdataset(path+filename,combine='by_coords')\n",
    "    \n",
    "    # Second step : compute the annual average \n",
    "    df = file[variables].mean('time', keep_attrs=True)\n",
    "    tas = df['tas']\n",
    "    \n",
    "    return tas"
   ]
  },
  {
   "cell_type": "code",
   "execution_count": 6,
   "metadata": {},
   "outputs": [],
   "source": [
    "def eof_map_plot(data, eof_nb, title, label_min, label_max, name_figure):\n",
    "    # Plot the EOF map \n",
    "\n",
    "    lat = data['lat'][:]\n",
    "    lon = data['lon'][:]\n",
    "\n",
    "    fig = plt.figure(figsize=(10, 10))\n",
    "    ax=plt.gca()\n",
    "\n",
    "    eof = eof_nb-1\n",
    "    data = data[eof]\n",
    "    ax.set_title(title, fontsize=18, fontweight = 'bold')\n",
    "\n",
    "    m = Basemap(projection='robin',\n",
    "            lat_0=0.5*lat[-1], lon_0=-180.0, resolution='c')\n",
    "    x, y = m(*np.meshgrid(lon,lat))\n",
    "\n",
    "\n",
    "    cmap = plt.get_cmap('coolwarm',16)  # define the colormap, take the number of discrete colors you want\n",
    "\n",
    "    m.pcolormesh(x,y,data,shading='gouraud',cmap=cmap)\n",
    "    #m.colorbar()\n",
    "    cbar = m.colorbar(location='bottom', spacing = 'uniform', drawedges=True)\n",
    "    cbar.set_label(' ', size = 16, style = 'italic')\n",
    "\n",
    "    m.drawcoastlines()\n",
    "    m.drawmapboundary()\n",
    "    plt.clim(label_min, label_max)\n",
    "\n",
    "    # Enregistrer la figure .....................\n",
    "\n",
    "    plt.savefig(\"/data/home/globc/peatier/figures/\"+name_figure, \n",
    "        orientation='portrait', bbox_inches='tight', pad_inches=0.1)\n",
    "\n",
    "    # Show la figure .................\n",
    "    plt.show()"
   ]
  },
  {
   "cell_type": "code",
   "execution_count": 7,
   "metadata": {},
   "outputs": [],
   "source": [
    "def pc_plot(data, pc_nb, ymin, ymax, title, name_figure):\n",
    "    #pc = solver.pcs(pcscaling=1)\n",
    "    #pc = pc*-1\n",
    "\n",
    "    # Plot the leading PC time series.\n",
    "    plt.figure(figsize=(10, 5))\n",
    "    \n",
    "    pc = pc_nb - 1\n",
    "    data[:, pc].plot(color='black', linewidth=2)\n",
    "    ax = plt.gca()\n",
    "    ax.axhline(0, color='k', alpha=0.5)\n",
    "    #ax.axvline(x=(8+1), color='red', alpha=0.5)\n",
    "    #ax.axvline(x=(11+1), color='red', alpha=0.5)\n",
    "    #ax.axvline(x=(23+1), color='red', alpha=0.5)\n",
    "    ax.set_ylim(ymin, ymax)\n",
    "    ax.set_xlabel('Members', size = 16)\n",
    "    ax.set_ylabel('Normalized Units', size = 16)\n",
    "    ax.set_title(title, fontsize=18, \n",
    "             fontweight = 'bold')\n",
    "\n",
    "    # Enregistrer la figure .....................\n",
    "\n",
    "    plt.savefig(\"/data/home/globc/peatier/figures/\"+name_figure, \n",
    "        orientation='portrait', bbox_inches='tight', pad_inches=0.1)\n",
    "\n",
    "    # Show la figure .................\n",
    "    plt.show()"
   ]
  },
  {
   "cell_type": "markdown",
   "metadata": {},
   "source": [
    "### Get the data"
   ]
  },
  {
   "cell_type": "code",
   "execution_count": 8,
   "metadata": {},
   "outputs": [],
   "source": [
    "# Official\n",
    "path = path_official\n",
    "filename = '*_CNRM-CM6-1_amip_*.nc'\n",
    "official_amip = get_3D_tas_xarr(path, filename, variables)\n",
    "\n",
    "# Default simulation\n",
    "path = path_PPE+'ENSEMBLE1/CNRM-CM6-1_amip_PPE/CNRM-CM6-1_amip_r1i1p1f2/'\n",
    "filename = '*_CNRM-CM6-1_amip_*.nc'\n",
    "p1_amip = get_3D_tas_xarr(path, filename, variables)"
   ]
  },
  {
   "cell_type": "code",
   "execution_count": 9,
   "metadata": {
    "scrolled": true
   },
   "outputs": [
    {
     "name": "stdout",
     "output_type": "stream",
     "text": [
      "p311\n",
      "p312\n",
      "p314\n",
      "p316\n",
      "p317\n",
      "p319\n",
      "p320\n",
      "p321\n",
      "p322\n",
      "p324\n",
      "p325\n",
      "p326\n",
      "p329\n",
      "p330\n",
      "p331\n",
      "p332\n",
      "p335\n",
      "p336\n",
      "p337\n",
      "p338\n",
      "p340\n",
      "p341\n",
      "p343\n",
      "p344\n",
      "p346\n",
      "p347\n",
      "p348\n",
      "p349\n",
      "p350\n",
      "p353\n",
      "p355\n",
      "p357\n",
      "p359\n",
      "p360\n",
      "p361\n",
      "p363\n",
      "p365\n",
      "p367\n",
      "p368\n",
      "p369\n",
      "p372\n",
      "p373\n",
      "p374\n",
      "p375\n",
      "p376\n",
      "p378\n",
      "p381\n",
      "p382\n",
      "p384\n",
      "p386\n",
      "p388\n",
      "p389\n",
      "p391\n",
      "p392\n",
      "p393\n",
      "p394\n",
      "p395\n",
      "p396\n",
      "p398\n",
      "p399\n",
      "p400\n",
      "p404\n",
      "p406\n",
      "p407\n",
      "p409\n",
      "p410\n",
      "p411\n",
      "p412\n",
      "p414\n",
      "p416\n",
      "p413\n",
      "p419\n",
      "p424\n",
      "p426\n",
      "p428\n",
      "p421\n",
      "p423\n",
      "p425\n",
      "p427\n",
      "p429\n",
      "p430\n",
      "p436\n",
      "p438\n",
      "p431\n",
      "p433\n",
      "p442\n",
      "p446\n",
      "p443\n",
      "p445\n",
      "p447\n",
      "p452\n",
      "p454\n",
      "p456\n",
      "p458\n",
      "p457\n",
      "p459\n",
      "p460\n",
      "p465\n",
      "p467\n",
      "p469\n",
      "p470\n",
      "p471\n"
     ]
    }
   ],
   "source": [
    "# PPE amip simulations \n",
    "filename='*_amip_*.nc'\n",
    "\n",
    "N=len(nb_p_list)\n",
    "amip={}\n",
    "i = 0\n",
    "while i<N:\n",
    "    nb_p = nb_p_list[i]\n",
    "    print(nb_p)\n",
    "    path=path_PPE+'ENSEMBLE2/CNRM-CM6-1_amip_LHS500_PPE/CNRM-CM6-1_amip_r1i1'+str(nb_p)+'f2/'\n",
    "    amip[str(nb_p)] = get_3D_tas_xarr(path, filename, variables)\n",
    "    i=i+1  "
   ]
  },
  {
   "cell_type": "code",
   "execution_count": 10,
   "metadata": {},
   "outputs": [],
   "source": [
    "#amip['official'] = official_amip\n",
    "amip['p1'] = p1_amip"
   ]
  },
  {
   "cell_type": "markdown",
   "metadata": {},
   "source": [
    "### Create EOF input matrix"
   ]
  },
  {
   "cell_type": "code",
   "execution_count": 11,
   "metadata": {},
   "outputs": [],
   "source": [
    "n=len(nb_p_list)\n",
    "amip_list=[0]*(n+1)\n",
    "\n",
    "#amip_list[0] = amip['official']\n",
    "amip_list[0] = amip['p1']\n",
    "\n",
    "i = 0\n",
    "while i<n:\n",
    "    nb_p = nb_p_list[i]\n",
    "    #print(nb_p)\n",
    "    tmp = amip[str(nb_p)]\n",
    "    #j=i+1\n",
    "    amip_list[i+1] = tmp\n",
    "    i+=1"
   ]
  },
  {
   "cell_type": "code",
   "execution_count": 12,
   "metadata": {},
   "outputs": [
    {
     "data": {
      "text/html": [
       "<pre>&lt;xarray.DataArray &#x27;tas&#x27; (time: 103, lat: 128, lon: 256)&gt;\n",
       "dask.array&lt;concatenate, shape=(103, 128, 256), dtype=float32, chunksize=(1, 128, 256), chunktype=numpy.ndarray&gt;\n",
       "Coordinates:\n",
       "    height   float64 2.0\n",
       "  * lat      (lat) float64 -88.93 -87.54 -86.14 -84.74 ... 86.14 87.54 88.93\n",
       "  * lon      (lon) float64 0.0 1.406 2.812 4.219 ... 354.4 355.8 357.2 358.6\n",
       "Dimensions without coordinates: time\n",
       "Attributes:\n",
       "    online_operation:    average\n",
       "    cell_methods:        area: time: mean\n",
       "    interval_operation:  900 s\n",
       "    interval_write:      1 month\n",
       "    standard_name:       air_temperature\n",
       "    description:         Near-Surface Air Temperature\n",
       "    long_name:           Near-Surface Air Temperature\n",
       "    history:             none\n",
       "    units:               K\n",
       "    cell_measures:       area: areacella</pre>"
      ],
      "text/plain": [
       "<xarray.DataArray 'tas' (time: 103, lat: 128, lon: 256)>\n",
       "dask.array<concatenate, shape=(103, 128, 256), dtype=float32, chunksize=(1, 128, 256), chunktype=numpy.ndarray>\n",
       "Coordinates:\n",
       "    height   float64 2.0\n",
       "  * lat      (lat) float64 -88.93 -87.54 -86.14 -84.74 ... 86.14 87.54 88.93\n",
       "  * lon      (lon) float64 0.0 1.406 2.812 4.219 ... 354.4 355.8 357.2 358.6\n",
       "Dimensions without coordinates: time\n",
       "Attributes:\n",
       "    online_operation:    average\n",
       "    cell_methods:        area: time: mean\n",
       "    interval_operation:  900 s\n",
       "    interval_write:      1 month\n",
       "    standard_name:       air_temperature\n",
       "    description:         Near-Surface Air Temperature\n",
       "    long_name:           Near-Surface Air Temperature\n",
       "    history:             none\n",
       "    units:               K\n",
       "    cell_measures:       area: areacella"
      ]
     },
     "execution_count": 12,
     "metadata": {},
     "output_type": "execute_result"
    }
   ],
   "source": [
    "matrix = xr.combine_nested(amip_list, concat_dim=['time'])\n",
    "matrix"
   ]
  },
  {
   "cell_type": "markdown",
   "metadata": {},
   "source": [
    "### EOF analysis"
   ]
  },
  {
   "cell_type": "code",
   "execution_count": 13,
   "metadata": {},
   "outputs": [],
   "source": [
    "# Mean wheigted with cos(lat) : \n",
    "lats = matrix['lat'][:]\n",
    "coslat = np.cos(np.deg2rad(lats)).clip(0., 1.)\n",
    "wgts = np.sqrt(coslat).drop(labels='height').values\n",
    "W=wgts[np.newaxis,:,np.newaxis]"
   ]
  },
  {
   "cell_type": "code",
   "execution_count": 14,
   "metadata": {},
   "outputs": [],
   "source": [
    "list_tmp = W[0,:,0]\n",
    "list_W = []\n",
    "list_lat = []\n",
    "list_lon = []\n",
    "list_mb = []\n",
    "\n",
    "for j in range(0,256,1) :\n",
    "    for i in range(0,128,1) :\n",
    "        list_W.append(list_tmp[i])\n",
    "        list_lat.append(float(amip['p1']['lat'][i]))\n",
    "        list_lon.append(float(amip['p1']['lon'][j]))\n",
    "        #list_mb.append(k)"
   ]
  },
  {
   "cell_type": "code",
   "execution_count": 15,
   "metadata": {},
   "outputs": [
    {
     "data": {
      "text/html": [
       "<pre>&lt;xarray.DataArray &#x27;W&#x27; (lat: 128, lon: 256)&gt;\n",
       "array([[0.13679714, 0.13679714, 0.13679714, ..., 0.13679714, 0.13679714,\n",
       "        0.13679714],\n",
       "       [0.20723052, 0.20723052, 0.20723052, ..., 0.20723052, 0.20723052,\n",
       "        0.20723052],\n",
       "       [0.25940918, 0.25940918, 0.25940918, ..., 0.25940918, 0.25940918,\n",
       "        0.25940918],\n",
       "       ...,\n",
       "       [0.25940918, 0.25940918, 0.25940918, ..., 0.25940918, 0.25940918,\n",
       "        0.25940918],\n",
       "       [0.20723052, 0.20723052, 0.20723052, ..., 0.20723052, 0.20723052,\n",
       "        0.20723052],\n",
       "       [0.13679714, 0.13679714, 0.13679714, ..., 0.13679714, 0.13679714,\n",
       "        0.13679714]])\n",
       "Coordinates:\n",
       "  * lat      (lat) float64 -88.93 -87.54 -86.14 -84.74 ... 86.14 87.54 88.93\n",
       "  * lon      (lon) float64 0.0 1.406 2.812 4.219 ... 354.4 355.8 357.2 358.6</pre>"
      ],
      "text/plain": [
       "<xarray.DataArray 'W' (lat: 128, lon: 256)>\n",
       "array([[0.13679714, 0.13679714, 0.13679714, ..., 0.13679714, 0.13679714,\n",
       "        0.13679714],\n",
       "       [0.20723052, 0.20723052, 0.20723052, ..., 0.20723052, 0.20723052,\n",
       "        0.20723052],\n",
       "       [0.25940918, 0.25940918, 0.25940918, ..., 0.25940918, 0.25940918,\n",
       "        0.25940918],\n",
       "       ...,\n",
       "       [0.25940918, 0.25940918, 0.25940918, ..., 0.25940918, 0.25940918,\n",
       "        0.25940918],\n",
       "       [0.20723052, 0.20723052, 0.20723052, ..., 0.20723052, 0.20723052,\n",
       "        0.20723052],\n",
       "       [0.13679714, 0.13679714, 0.13679714, ..., 0.13679714, 0.13679714,\n",
       "        0.13679714]])\n",
       "Coordinates:\n",
       "  * lat      (lat) float64 -88.93 -87.54 -86.14 -84.74 ... 86.14 87.54 88.93\n",
       "  * lon      (lon) float64 0.0 1.406 2.812 4.219 ... 354.4 355.8 357.2 358.6"
      ]
     },
     "execution_count": 15,
     "metadata": {},
     "output_type": "execute_result"
    }
   ],
   "source": [
    "df = pd.DataFrame(list_W, columns=['W'])#.transpose()\n",
    "df['lat'] = list_lat\n",
    "df['lon'] = list_lon\n",
    "#df['dummy'] = list_dummy\n",
    "df_W = df.groupby(['lat','lon']).mean().to_xarray()\n",
    "da_W = df_W.to_array(dim='time')\n",
    "#df_W = df.drop(dims='variable')\n",
    "df_W['W']"
   ]
  },
  {
   "cell_type": "code",
   "execution_count": 16,
   "metadata": {},
   "outputs": [
    {
     "data": {
      "text/html": [
       "<pre>&lt;xarray.DataArray &#x27;tas&#x27; (time: 103, lat: 128, lon: 256)&gt;\n",
       "dask.array&lt;sub, shape=(103, 128, 256), dtype=float32, chunksize=(1, 128, 256), chunktype=numpy.ndarray&gt;\n",
       "Coordinates:\n",
       "    height   float64 2.0\n",
       "  * lat      (lat) float64 -88.93 -87.54 -86.14 -84.74 ... 86.14 87.54 88.93\n",
       "  * lon      (lon) float64 0.0 1.406 2.812 4.219 ... 354.4 355.8 357.2 358.6\n",
       "Dimensions without coordinates: time</pre>"
      ],
      "text/plain": [
       "<xarray.DataArray 'tas' (time: 103, lat: 128, lon: 256)>\n",
       "dask.array<sub, shape=(103, 128, 256), dtype=float32, chunksize=(1, 128, 256), chunktype=numpy.ndarray>\n",
       "Coordinates:\n",
       "    height   float64 2.0\n",
       "  * lat      (lat) float64 -88.93 -87.54 -86.14 -84.74 ... 86.14 87.54 88.93\n",
       "  * lon      (lon) float64 0.0 1.406 2.812 4.219 ... 354.4 355.8 357.2 358.6\n",
       "Dimensions without coordinates: time"
      ]
     },
     "execution_count": 16,
     "metadata": {},
     "output_type": "execute_result"
    }
   ],
   "source": [
    "# Compute anomalies by removing the time-mean.\n",
    "mean = matrix.mean(axis=0)\n",
    "anom = matrix - mean\n",
    "anom"
   ]
  },
  {
   "cell_type": "code",
   "execution_count": 17,
   "metadata": {},
   "outputs": [
    {
     "data": {
      "text/html": [
       "<pre>&lt;xarray.DataArray &#x27;W&#x27; (time: 103, lat: 128, lon: 256)&gt;\n",
       "dask.array&lt;mul, shape=(103, 128, 256), dtype=float64, chunksize=(1, 128, 256), chunktype=numpy.ndarray&gt;\n",
       "Coordinates:\n",
       "  * lat      (lat) float64 -88.93 -87.54 -86.14 -84.74 ... 86.14 87.54 88.93\n",
       "  * lon      (lon) float64 0.0 1.406 2.812 4.219 ... 354.4 355.8 357.2 358.6\n",
       "    height   float64 2.0\n",
       "Dimensions without coordinates: time</pre>"
      ],
      "text/plain": [
       "<xarray.DataArray 'W' (time: 103, lat: 128, lon: 256)>\n",
       "dask.array<mul, shape=(103, 128, 256), dtype=float64, chunksize=(1, 128, 256), chunktype=numpy.ndarray>\n",
       "Coordinates:\n",
       "  * lat      (lat) float64 -88.93 -87.54 -86.14 -84.74 ... 86.14 87.54 88.93\n",
       "  * lon      (lon) float64 0.0 1.406 2.812 4.219 ... 354.4 355.8 357.2 358.6\n",
       "    height   float64 2.0\n",
       "Dimensions without coordinates: time"
      ]
     },
     "execution_count": 17,
     "metadata": {},
     "output_type": "execute_result"
    }
   ],
   "source": [
    "anom_w = (anom*df_W)#.to_array()\n",
    "anom_w['W']"
   ]
  },
  {
   "cell_type": "code",
   "execution_count": 18,
   "metadata": {},
   "outputs": [],
   "source": [
    "# ORIGINALLY\n",
    "#solver = Eof(anom, weights=W)\n",
    "#eof = solver.eofsAsCovariance(neofs=100, pcscaling=1)\n",
    "#pc = solver.pcs(npcs=100, pcscaling=1)"
   ]
  },
  {
   "cell_type": "code",
   "execution_count": 110,
   "metadata": {},
   "outputs": [],
   "source": [
    "# Create an EOF solver to do the EOF analysis. \n",
    "solver = Eof(anom_w['W'], center=False, weights=None)\n",
    "\n",
    "eof = solver.eofsAsCovariance(neofs=100, pcscaling=0)\n",
    "pc = solver.pcs(npcs=100, pcscaling=1)"
   ]
  },
  {
   "cell_type": "markdown",
   "metadata": {},
   "source": [
    "### Save data"
   ]
  },
  {
   "cell_type": "markdown",
   "metadata": {},
   "source": [
    "#### EOFs"
   ]
  },
  {
   "cell_type": "code",
   "execution_count": 111,
   "metadata": {},
   "outputs": [],
   "source": [
    "EOF1_df = eof[0].to_dataframe().drop(labels = 'mode', axis=1)\n",
    "\n",
    "# Save the numpy array in a file  \n",
    "EOF1_df.to_pickle(\"/data/home/globc/peatier/CNRMppe/PPE/ENSEMBLE2/files/npy/PPE2_EOFmap1_\"+str(variable)+\".npy\")"
   ]
  },
  {
   "cell_type": "code",
   "execution_count": 112,
   "metadata": {},
   "outputs": [],
   "source": [
    "EOF2_df = eof[1].to_dataframe().drop(labels = 'mode', axis=1)\n",
    "\n",
    "# Save the numpy array in a file  \n",
    "EOF2_df.to_pickle('/data/home/globc/peatier/CNRMppe/PPE/ENSEMBLE2/files/npy/PPE2_EOFmap2_'+str(variable)+'.npy')"
   ]
  },
  {
   "cell_type": "code",
   "execution_count": 113,
   "metadata": {},
   "outputs": [],
   "source": [
    "EOF3_df = eof[2].to_dataframe().drop(labels = 'mode', axis=1)\n",
    "\n",
    "# Save the numpy array in a file  \n",
    "EOF3_df.to_pickle('/data/home/globc/peatier/CNRMppe/PPE/ENSEMBLE2/files/npy/PPE2_EOFmap3_'+str(variable)+'.npy')"
   ]
  },
  {
   "cell_type": "code",
   "execution_count": 114,
   "metadata": {},
   "outputs": [],
   "source": [
    "EOF4_df = eof[3].to_dataframe().drop(labels = 'mode', axis=1)\n",
    "\n",
    "# Save the numpy array in a file  \n",
    "EOF4_df.to_pickle('/data/home/globc/peatier/CNRMppe/PPE/ENSEMBLE2/files/npy/PPE2_EOFmap4_'+str(variable)+'.npy')"
   ]
  },
  {
   "cell_type": "code",
   "execution_count": 115,
   "metadata": {},
   "outputs": [],
   "source": [
    "EOF5_df = eof[4].to_dataframe().drop(labels = 'mode', axis=1)\n",
    "\n",
    "# Save the numpy array in a file  \n",
    "EOF5_df.to_pickle('/data/home/globc/peatier/CNRMppe/PPE/ENSEMBLE2/files/npy/PPE2_EOFmap5_'+str(variable)+'.npy')"
   ]
  },
  {
   "cell_type": "markdown",
   "metadata": {},
   "source": [
    "#### Principal Components"
   ]
  },
  {
   "cell_type": "code",
   "execution_count": 116,
   "metadata": {},
   "outputs": [],
   "source": [
    "#pc1_official = pc[0, 0]\n",
    "pc1_p1 = pc[0, 0]\n",
    "\n",
    "pc1 = pc[1:, 0]\n",
    "\n",
    "# Save the numpy array in a file   \n",
    "#np.save('/data/home/globc/peatier/CNRMppe/PPE/ENSEMBLE2/files/npy/official_EOF1pc_'+str(variable)+'.npy', pc1_official)\n",
    "np.save('/data/home/globc/peatier/CNRMppe/PPE/ENSEMBLE2/files/npy/p1_EOF1pc_'+str(variable)+'.npy', pc1_p1)\n",
    "np.save('/data/home/globc/peatier/CNRMppe/PPE/ENSEMBLE2/files/npy/PPE2_EOF1pc_'+str(variable)+'.npy', pc1)"
   ]
  },
  {
   "cell_type": "code",
   "execution_count": 117,
   "metadata": {},
   "outputs": [],
   "source": [
    "#pc2_official = pc[0,1]\n",
    "pc2_p1 = pc[0,1]\n",
    "pc2 = pc[1:, 1]\n",
    "\n",
    "# Save the numpy array in a file   \n",
    "#np.save('/data/home/globc/peatier/CNRMppe/PPE/ENSEMBLE2/files/npy/official_EOF2pc_'+str(variable)+'.npy', pc2_official)\n",
    "np.save('/data/home/globc/peatier/CNRMppe/PPE/ENSEMBLE2/files/npy/p1_EOF2pc_'+str(variable)+'.npy', pc2_p1)\n",
    "np.save('/data/home/globc/peatier/CNRMppe/PPE/ENSEMBLE2/files/npy/PPE2_EOF2pc_'+str(variable)+'.npy', pc2)"
   ]
  },
  {
   "cell_type": "code",
   "execution_count": 118,
   "metadata": {},
   "outputs": [],
   "source": [
    "#pc3_official = pc[0,2]\n",
    "pc3_p1 = pc[0,2]\n",
    "pc3 = pc[1:, 2]\n",
    "\n",
    "# Save the numpy array in a file   \n",
    "#np.save('/data/home/globc/peatier/CNRMppe/PPE/ENSEMBLE2/files/npy/official_EOF3pc_'+str(variable)+'.npy', pc3_official)\n",
    "np.save('/data/home/globc/peatier/CNRMppe/PPE/ENSEMBLE2/files/npy/p1_EOF3pc_'+str(variable)+'.npy', pc3_p1)\n",
    "np.save('/data/home/globc/peatier/CNRMppe/PPE/ENSEMBLE2/files/npy/PPE2_EOF3pc_'+str(variable)+'.npy', pc3)"
   ]
  },
  {
   "cell_type": "code",
   "execution_count": 119,
   "metadata": {},
   "outputs": [],
   "source": [
    "#pc4_official = pc[0, 3]\n",
    "pc4_p1 = pc[0, 3]\n",
    "pc4 = pc[1:, 3]\n",
    "\n",
    "# Save the numpy array in a file   \n",
    "#np.save('/data/home/globc/peatier/CNRMppe/PPE/ENSEMBLE2/files/npy/official_EOF4pc_'+str(variable)+'.npy', pc4_official)\n",
    "np.save('/data/home/globc/peatier/CNRMppe/PPE/ENSEMBLE2/files/npy/p1_EOF4pc_'+str(variable)+'.npy', pc4_p1)\n",
    "np.save('/data/home/globc/peatier/CNRMppe/PPE/ENSEMBLE2/files/npy/PPE2_EOF4pc_'+str(variable)+'.npy', pc4)"
   ]
  },
  {
   "cell_type": "code",
   "execution_count": 120,
   "metadata": {},
   "outputs": [],
   "source": [
    "#pc5_official = pc[0, 4]\n",
    "pc5_p1 = pc[0, 4]\n",
    "pc5 = pc[1:, 4]\n",
    "\n",
    "# Save the numpy array in a file   \n",
    "#np.save('/data/home/globc/peatier/CNRMppe/PPE/ENSEMBLE2/files/npy/official_EOF5pc_'+str(variable)+'.npy', pc5_official)\n",
    "np.save('/data/home/globc/peatier/CNRMppe/PPE/ENSEMBLE2/files/npy/p1_EOF5pc_'+str(variable)+'.npy', pc5_p1)\n",
    "np.save('/data/home/globc/peatier/CNRMppe/PPE/ENSEMBLE2/files/npy/PPE2_EOF5pc_'+str(variable)+'.npy', pc5)"
   ]
  },
  {
   "cell_type": "markdown",
   "metadata": {},
   "source": [
    "### [Back to the top](#top)"
   ]
  },
  {
   "cell_type": "markdown",
   "metadata": {},
   "source": [
    "# <a id=\"observation\">Step 3 - Projection of observation dataset</a> </li>\n",
    "\n",
    "In this section, we project the observations ($X_{obs}$) onto the EOFs calculated in [Step 1](#EOF). We call $U_{ens}$ the ensemble matrix of EOF amplitudes $w$ such as :  \n",
    "\n",
    "$U_{ens} = \\begin{pmatrix} \n",
    "                w_{1,1} & w_{2,1} & w_{3,1} & w_{4,1} & w_{5,1} \\\\ \n",
    "                ... & ... & ... & ... & ... \\\\\n",
    "                w_{1,102} & w_{2,102} & w_{3,102} & w_{4,102} & w_{5,102}\n",
    "           \\end{pmatrix}$ \n",
    "           \n",
    "           \n",
    "<br>\n",
    "<br>\n",
    "<br>\n",
    "The ensemble matrix of spatial patterns is called $v_{ens}$ and is expresses such as : \n",
    "\n",
    "$v_{ens} = \\begin{pmatrix} \n",
    "                eof1(lat,lon)  \\\\ \n",
    "                eof2(lat,lon)  \\\\ \n",
    "                eof3(lat,lon)  \\\\ \n",
    "                eof4(lat,lon)  \\\\ \n",
    "                eof5(lat,lon)  \\\\ \n",
    "           \\end{pmatrix}$ \n",
    "\n",
    "\n",
    "<br>\n",
    "\n",
    "The EOF analysis can be expresses as : \n",
    "$X_{ens} = U_{ens} \\cdot v_{ens}$\n",
    "\n",
    "And we want the EOF amplitudes of the observations within this basis such as : \n",
    "\n",
    "$X_{obs} = U_{obs} \\cdot v_{ens}$ \n",
    "\n",
    "$U_{obs} = X_{obs} \\cdot {v_{ens}}^{-1}$\n",
    "\n",
    "With : \n",
    "\n",
    "$U_{obs} = \\begin{pmatrix} \n",
    "                o_{1,1} & o_{2,1} & o_{3,1} & o_{4,1} & o_{5,1} \\\\ \n",
    "                ... & ... & ... & ... & ... \\\\\n",
    "                o_{1,102} & o_{2,102} & o_{3,102} & o_{4,102} & o_{5,102}\n",
    "           \\end{pmatrix}$ "
   ]
  },
  {
   "cell_type": "markdown",
   "metadata": {},
   "source": [
    "### Settings"
   ]
  },
  {
   "cell_type": "code",
   "execution_count": 121,
   "metadata": {},
   "outputs": [],
   "source": [
    "product = 'BEST'\n",
    "path_observation = '/data/scratch/globc/peatier/obs_data/BEST/'\n",
    "filename = 'Land_and_Ocean_LatLong1_regrid_1979-1981.nc'\n",
    "variable_obs = ['climatology', 'temperature']"
   ]
  },
  {
   "cell_type": "code",
   "execution_count": 122,
   "metadata": {},
   "outputs": [],
   "source": [
    "#product = 'ERAi'\n",
    "#path_observation = '/data/home/globc/peatier/obs_data/ERAI/'\n",
    "#filename = 'tas_1m_197901_201812_ERAI_regrid.nc'\n",
    "#variable_obs = 't2m'"
   ]
  },
  {
   "cell_type": "markdown",
   "metadata": {},
   "source": [
    "### Functions"
   ]
  },
  {
   "cell_type": "code",
   "execution_count": 123,
   "metadata": {},
   "outputs": [],
   "source": [
    "def load_monthly_clim(path, filename, variables) :\n",
    "    \n",
    "    file = xr.open_mfdataset(path+filename,combine='by_coords')\n",
    "    df=file[variables].to_dataframe()\n",
    "    \n",
    "    # Compute Climatological Annual Cycle :\n",
    "    df1=df.reset_index(level=['time', 'lat', 'lon'])\n",
    "    df1['year']=pd.DatetimeIndex(df1['time']).year\n",
    "    df1['month']=pd.DatetimeIndex(df1['time']).month\n",
    "    \n",
    "    list_ind = []\n",
    "    cpt=0\n",
    "    for i in df1['year'] : \n",
    "        if i>1981 :\n",
    "            list_ind.append(cpt)\n",
    "            cpt+=1\n",
    "        else : \n",
    "            cpt+=1\n",
    "            \n",
    "    df2 = df1.drop(list_ind)\n",
    "    df_mean=df1.groupby(['month', 'lat', 'lon']).mean()\n",
    "    df_mean=df_mean.drop(columns='year')\n",
    "    \n",
    "    return df_mean"
   ]
  },
  {
   "cell_type": "code",
   "execution_count": 124,
   "metadata": {},
   "outputs": [],
   "source": [
    "def load_monthly_clim_BEST(path, filename, variables, time_ind) :\n",
    "    \n",
    "    file = xr.open_mfdataset(path+filename,combine='by_coords')\n",
    "    df1=file[variables[0]].to_dataframe()\n",
    "    df1 = df1.reset_index(level=[time_ind[0]])\n",
    "    df1_long = pd.concat([df1, df1, df1])\n",
    "    \n",
    "    df2=file[variables[1]].to_dataframe()\n",
    "    df2 = df2.reset_index(level=[time_ind[1]])\n",
    "    \n",
    "    df2['ta'] = df2[variables[1]] + df1_long[variables[0]] +273.15\n",
    "    df_obs = df2.drop(columns=[variables[1], time_ind[1]])\n",
    "    \n",
    "    return df_obs"
   ]
  },
  {
   "cell_type": "code",
   "execution_count": 125,
   "metadata": {},
   "outputs": [],
   "source": [
    "def load_monthly_clim_BEST_clim(path, filename, variables) :\n",
    "    \n",
    "    file = xr.open_mfdataset(path+filename,combine='by_coords')\n",
    "    df1=file[variables].to_dataframe()\n",
    "    df2 = df1.reset_index(['time', 'lat', 'lon'])\n",
    "    df2[variables] = df2[variables] + 273.15\n",
    "    df3 = df2.drop(columns= 'time')\n",
    "    \n",
    "    return df3"
   ]
  },
  {
   "cell_type": "markdown",
   "metadata": {},
   "source": [
    "### Get the data "
   ]
  },
  {
   "cell_type": "code",
   "execution_count": 126,
   "metadata": {},
   "outputs": [],
   "source": [
    "Mean =  pd.read_pickle('/data/home/globc/peatier/CNRMppe/PPE/ENSEMBLE2/files/npy/PPE2_'+variable+'_mean.npy').to_xarray().to_array()\n",
    "Mean = Mean[0,:,:].rename({'variable':'mode'})\n",
    "#Mean"
   ]
  },
  {
   "cell_type": "code",
   "execution_count": 127,
   "metadata": {},
   "outputs": [],
   "source": [
    "eof1 = pd.read_pickle('/data/home/globc/peatier/CNRMppe/PPE/ENSEMBLE2/files/npy/PPE2_EOFmap1_'+variable+'.npy').to_xarray().to_array()\n",
    "eof2 = pd.read_pickle('/data/home/globc/peatier/CNRMppe/PPE/ENSEMBLE2/files/npy/PPE2_EOFmap2_'+variable+'.npy').to_xarray().to_array()\n",
    "eof3 = pd.read_pickle('/data/home/globc/peatier/CNRMppe/PPE/ENSEMBLE2/files/npy/PPE2_EOFmap3_'+variable+'.npy').to_xarray().to_array()\n",
    "eof4 = pd.read_pickle('/data/home/globc/peatier/CNRMppe/PPE/ENSEMBLE2/files/npy/PPE2_EOFmap4_'+variable+'.npy').to_xarray().to_array()\n",
    "eof5 = pd.read_pickle('/data/home/globc/peatier/CNRMppe/PPE/ENSEMBLE2/files/npy/PPE2_EOFmap5_'+variable+'.npy').to_xarray().to_array()\n",
    "\n",
    "eof1 = eof1[0,:,:].rename({'variable':'mode'})\n",
    "eof2 = eof2[0,:,:].rename({'variable':'mode'})\n",
    "eof3 = eof3[0,:,:].rename({'variable':'mode'})\n",
    "eof4 = eof4[0,:,:].rename({'variable':'mode'})\n",
    "eof5 = eof5[0,:,:].rename({'variable':'mode'})\n",
    "\n",
    "eofs = [eof1,eof2,eof3,eof4,eof5]\n",
    "\n",
    "eofs_combined = xr.combine_nested(eofs, concat_dim='eofs')"
   ]
  },
  {
   "cell_type": "code",
   "execution_count": 128,
   "metadata": {},
   "outputs": [],
   "source": [
    "pc1 = np.load('/data/home/globc/peatier/CNRMppe/PPE/ENSEMBLE2/files/npy/PPE2_EOF1pc_'+variable+'.npy')\n",
    "pc2 = np.load('/data/home/globc/peatier/CNRMppe/PPE/ENSEMBLE2/files/npy/PPE2_EOF2pc_'+variable+'.npy')\n",
    "pc3 = np.load('/data/home/globc/peatier/CNRMppe/PPE/ENSEMBLE2/files/npy/PPE2_EOF3pc_'+variable+'.npy')\n",
    "pc4 = np.load('/data/home/globc/peatier/CNRMppe/PPE/ENSEMBLE2/files/npy/PPE2_EOF4pc_'+variable+'.npy')\n",
    "pc5 = np.load('/data/home/globc/peatier/CNRMppe/PPE/ENSEMBLE2/files/npy/PPE2_EOF5pc_'+variable+'.npy')\n",
    "\n",
    "PC_df = pd.DataFrame(pc1)\n",
    "PC_df['pc1'] = pc1\n",
    "PC_df['pc2'] = pc2\n",
    "PC_df['pc3'] = pc3\n",
    "PC_df['pc4'] = pc4\n",
    "PC_df['pc5'] = pc5\n",
    "PC_df = PC_df.drop(labels = 0, axis=1)\n",
    "\n",
    "#PC_df"
   ]
  },
  {
   "cell_type": "code",
   "execution_count": 129,
   "metadata": {},
   "outputs": [],
   "source": [
    "# POUR LES OBSERVATIONS ERAI\n",
    "\n",
    "#path = path_observation\n",
    "#variables = [variable_obs]\n",
    "#df_obs = load_monthly_clim(path, filename, variables)\n",
    "#df_obs"
   ]
  },
  {
   "cell_type": "code",
   "execution_count": 130,
   "metadata": {},
   "outputs": [
    {
     "data": {
      "text/html": [
       "<div>\n",
       "<style scoped>\n",
       "    .dataframe tbody tr th:only-of-type {\n",
       "        vertical-align: middle;\n",
       "    }\n",
       "\n",
       "    .dataframe tbody tr th {\n",
       "        vertical-align: top;\n",
       "    }\n",
       "\n",
       "    .dataframe thead th {\n",
       "        text-align: right;\n",
       "    }\n",
       "</style>\n",
       "<table border=\"1\" class=\"dataframe\">\n",
       "  <thead>\n",
       "    <tr style=\"text-align: right;\">\n",
       "      <th></th>\n",
       "      <th></th>\n",
       "      <th>time</th>\n",
       "      <th>temperature</th>\n",
       "      <th>clim</th>\n",
       "      <th>ta</th>\n",
       "    </tr>\n",
       "    <tr>\n",
       "      <th>lat</th>\n",
       "      <th>lon</th>\n",
       "      <th></th>\n",
       "      <th></th>\n",
       "      <th></th>\n",
       "      <th></th>\n",
       "    </tr>\n",
       "  </thead>\n",
       "  <tbody>\n",
       "    <tr>\n",
       "      <th rowspan=\"5\" valign=\"top\">-88.927735</th>\n",
       "      <th>0.00000</th>\n",
       "      <td>1979.0</td>\n",
       "      <td>0.768801</td>\n",
       "      <td>-25.193111</td>\n",
       "      <td>248.725677</td>\n",
       "    </tr>\n",
       "    <tr>\n",
       "      <th>1.40625</th>\n",
       "      <td>1979.0</td>\n",
       "      <td>0.769734</td>\n",
       "      <td>-25.215549</td>\n",
       "      <td>248.704178</td>\n",
       "    </tr>\n",
       "    <tr>\n",
       "      <th>2.81250</th>\n",
       "      <td>1979.0</td>\n",
       "      <td>0.770550</td>\n",
       "      <td>-25.236740</td>\n",
       "      <td>248.683807</td>\n",
       "    </tr>\n",
       "    <tr>\n",
       "      <th>4.21875</th>\n",
       "      <td>1979.0</td>\n",
       "      <td>0.771259</td>\n",
       "      <td>-25.256731</td>\n",
       "      <td>248.664520</td>\n",
       "    </tr>\n",
       "    <tr>\n",
       "      <th>5.62500</th>\n",
       "      <td>1979.0</td>\n",
       "      <td>0.771860</td>\n",
       "      <td>-25.276089</td>\n",
       "      <td>248.645767</td>\n",
       "    </tr>\n",
       "    <tr>\n",
       "      <th>...</th>\n",
       "      <th>...</th>\n",
       "      <td>...</td>\n",
       "      <td>...</td>\n",
       "      <td>...</td>\n",
       "      <td>...</td>\n",
       "    </tr>\n",
       "    <tr>\n",
       "      <th rowspan=\"5\" valign=\"top\">88.927735</th>\n",
       "      <th>352.96875</th>\n",
       "      <td>1981.0</td>\n",
       "      <td>0.004460</td>\n",
       "      <td>-30.711264</td>\n",
       "      <td>242.443192</td>\n",
       "    </tr>\n",
       "    <tr>\n",
       "      <th>354.37500</th>\n",
       "      <td>1981.0</td>\n",
       "      <td>-0.004911</td>\n",
       "      <td>-30.734428</td>\n",
       "      <td>242.410660</td>\n",
       "    </tr>\n",
       "    <tr>\n",
       "      <th>355.78125</th>\n",
       "      <td>1981.0</td>\n",
       "      <td>-0.016334</td>\n",
       "      <td>-30.728228</td>\n",
       "      <td>242.405426</td>\n",
       "    </tr>\n",
       "    <tr>\n",
       "      <th>357.18750</th>\n",
       "      <td>1981.0</td>\n",
       "      <td>-0.024906</td>\n",
       "      <td>-30.703251</td>\n",
       "      <td>242.421844</td>\n",
       "    </tr>\n",
       "    <tr>\n",
       "      <th>358.59375</th>\n",
       "      <td>1981.0</td>\n",
       "      <td>-0.041427</td>\n",
       "      <td>-30.653141</td>\n",
       "      <td>242.455429</td>\n",
       "    </tr>\n",
       "  </tbody>\n",
       "</table>\n",
       "<p>1179648 rows × 4 columns</p>\n",
       "</div>"
      ],
      "text/plain": [
       "                        time  temperature       clim          ta\n",
       "lat        lon                                                  \n",
       "-88.927735 0.00000    1979.0     0.768801 -25.193111  248.725677\n",
       "           1.40625    1979.0     0.769734 -25.215549  248.704178\n",
       "           2.81250    1979.0     0.770550 -25.236740  248.683807\n",
       "           4.21875    1979.0     0.771259 -25.256731  248.664520\n",
       "           5.62500    1979.0     0.771860 -25.276089  248.645767\n",
       "...                      ...          ...        ...         ...\n",
       " 88.927735 352.96875  1981.0     0.004460 -30.711264  242.443192\n",
       "           354.37500  1981.0    -0.004911 -30.734428  242.410660\n",
       "           355.78125  1981.0    -0.016334 -30.728228  242.405426\n",
       "           357.18750  1981.0    -0.024906 -30.703251  242.421844\n",
       "           358.59375  1981.0    -0.041427 -30.653141  242.455429\n",
       "\n",
       "[1179648 rows x 4 columns]"
      ]
     },
     "execution_count": 130,
     "metadata": {},
     "output_type": "execute_result"
    }
   ],
   "source": [
    "# POUR LES OBSERVATIONS BEST\n",
    "\n",
    "path = path_observation\n",
    "\n",
    "file =  xr.open_mfdataset(path+filename,combine='by_coords')\n",
    "clim = file['climatology'].to_dataframe()#.drop(columns='month_number')\n",
    "clim = pd.concat([clim, clim, clim]).reset_index('month_number')\n",
    "\n",
    "df_obs=file['temperature'].to_dataframe().reset_index('time')\n",
    "df_obs['temperature'] = df_obs['temperature']\n",
    "df_obs['clim'] = clim['climatology']\n",
    "df_obs['ta'] = df_obs['temperature']+df_obs['clim']+273.15\n",
    "variable_obs = 'ta'\n",
    "df_obs"
   ]
  },
  {
   "cell_type": "code",
   "execution_count": 131,
   "metadata": {},
   "outputs": [
    {
     "data": {
      "text/html": [
       "<pre>&lt;xarray.Dataset&gt;\n",
       "Dimensions:      (lat: 128, lon: 256)\n",
       "Coordinates:\n",
       "  * lat          (lat) float64 -88.93 -87.54 -86.14 -84.74 ... 86.14 87.54 88.93\n",
       "  * lon          (lon) float64 0.0 1.406 2.812 4.219 ... 354.4 355.8 357.2 358.6\n",
       "Data variables:\n",
       "    time         (lat, lon) float64 1.98e+03 1.98e+03 ... 1.98e+03 1.98e+03\n",
       "    temperature  (lat, lon) float32 0.17527 0.17550375 ... -0.16200545\n",
       "    clim         (lat, lon) float32 -46.88067 -46.921864 ... -19.784966\n",
       "    ta           (lat, lon) float32 226.4446 226.40364 ... 253.20612 253.20302</pre>"
      ],
      "text/plain": [
       "<xarray.Dataset>\n",
       "Dimensions:      (lat: 128, lon: 256)\n",
       "Coordinates:\n",
       "  * lat          (lat) float64 -88.93 -87.54 -86.14 -84.74 ... 86.14 87.54 88.93\n",
       "  * lon          (lon) float64 0.0 1.406 2.812 4.219 ... 354.4 355.8 357.2 358.6\n",
       "Data variables:\n",
       "    time         (lat, lon) float64 1.98e+03 1.98e+03 ... 1.98e+03 1.98e+03\n",
       "    temperature  (lat, lon) float32 0.17527 0.17550375 ... -0.16200545\n",
       "    clim         (lat, lon) float32 -46.88067 -46.921864 ... -19.784966\n",
       "    ta           (lat, lon) float32 226.4446 226.40364 ... 253.20612 253.20302"
      ]
     },
     "execution_count": 131,
     "metadata": {},
     "output_type": "execute_result"
    }
   ],
   "source": [
    "obs = df_obs.groupby(['lat','lon']).mean().to_xarray()\n",
    "obs"
   ]
  },
  {
   "cell_type": "code",
   "execution_count": 132,
   "metadata": {},
   "outputs": [
    {
     "data": {
      "text/html": [
       "<pre>&lt;xarray.DataArray &#x27;pseudo_pcs&#x27; (mode: 5)&gt;\n",
       "array([-65.21640307, -33.88313518,  49.37722321, -11.60238743,\n",
       "        86.09918682])\n",
       "Coordinates:\n",
       "  * mode     (mode) int64 0 1 2 3 4\n",
       "Attributes:\n",
       "    long_name:  None_pseudo_pcs</pre>"
      ],
      "text/plain": [
       "<xarray.DataArray 'pseudo_pcs' (mode: 5)>\n",
       "array([-65.21640307, -33.88313518,  49.37722321, -11.60238743,\n",
       "        86.09918682])\n",
       "Coordinates:\n",
       "  * mode     (mode) int64 0 1 2 3 4\n",
       "Attributes:\n",
       "    long_name:  None_pseudo_pcs"
      ]
     },
     "execution_count": 132,
     "metadata": {},
     "output_type": "execute_result"
    }
   ],
   "source": [
    "## MODIFS essais 08/09/2021\n",
    "X_obs = obs[variable_obs] - Mean\n",
    "X_obs_bis = (X_obs*df_W)\n",
    "U_obs_avg = solver.projectField(X_obs, neofs=5, weighted=False, eofscaling=0)#[0,:]\n",
    "U_obs_avg"
   ]
  },
  {
   "cell_type": "markdown",
   "metadata": {},
   "source": [
    "### Compute anomalies "
   ]
  },
  {
   "cell_type": "code",
   "execution_count": 133,
   "metadata": {},
   "outputs": [],
   "source": [
    "X_obs = obs[variable_obs] - Mean\n",
    "X_obs_bis = X_obs.expand_dims(dim={'dummy':range(0,102,1)})\n",
    "#X_obs_bis = (X_obs_bis*df_W)['W']"
   ]
  },
  {
   "cell_type": "markdown",
   "metadata": {},
   "source": [
    "### Inverse the EOF matrix $v_{ens}$"
   ]
  },
  {
   "cell_type": "code",
   "execution_count": 134,
   "metadata": {},
   "outputs": [],
   "source": [
    "eofs_inv = np.linalg.pinv(eofs_combined.transpose('lat', 'lon','eofs'))\n",
    "#eofs_inv"
   ]
  },
  {
   "cell_type": "markdown",
   "metadata": {},
   "source": [
    "### Compute $U_{obs}$"
   ]
  },
  {
   "cell_type": "code",
   "execution_count": 94,
   "metadata": {},
   "outputs": [],
   "source": [
    "U_obs = np.dot(eofs_inv,X_obs.transpose('lon', 'lat'))\n",
    "#U_ens = U_ens.mean(dim=['lat','lon'])#.transpose()\n",
    "#U_obs"
   ]
  },
  {
   "cell_type": "code",
   "execution_count": 96,
   "metadata": {},
   "outputs": [
    {
     "data": {
      "text/html": [
       "<pre>&lt;xarray.DataArray (eofs: 5)&gt;\n",
       "array([ 1.38253174, -0.1366992 , -7.75901094, -0.8237327 ,  0.4156777 ])\n",
       "Dimensions without coordinates: eofs</pre>"
      ],
      "text/plain": [
       "<xarray.DataArray (eofs: 5)>\n",
       "array([ 1.38253174, -0.1366992 , -7.75901094, -0.8237327 ,  0.4156777 ])\n",
       "Dimensions without coordinates: eofs"
      ]
     },
     "execution_count": 96,
     "metadata": {},
     "output_type": "execute_result"
    }
   ],
   "source": [
    "U_obs = xr.DataArray(U_obs, dims=['lon','eofs','lat'])\n",
    "U_obs_avg = U_obs[0,:,0].transpose()\n",
    "U_obs_avg"
   ]
  },
  {
   "cell_type": "code",
   "execution_count": 68,
   "metadata": {},
   "outputs": [
    {
     "data": {
      "text/html": [
       "<pre>&lt;xarray.DataArray &#x27;eigenvalues&#x27; (mode: 5)&gt;\n",
       "array([9030.84555726, 2190.20209395,  897.12756653,  465.34736912,\n",
       "        425.78127807])\n",
       "Coordinates:\n",
       "  * mode     (mode) int64 0 1 2 3 4\n",
       "Attributes:\n",
       "    long_name:  eigenvalues</pre>"
      ],
      "text/plain": [
       "<xarray.DataArray 'eigenvalues' (mode: 5)>\n",
       "array([9030.84555726, 2190.20209395,  897.12756653,  465.34736912,\n",
       "        425.78127807])\n",
       "Coordinates:\n",
       "  * mode     (mode) int64 0 1 2 3 4\n",
       "Attributes:\n",
       "    long_name:  eigenvalues"
      ]
     },
     "execution_count": 68,
     "metadata": {},
     "output_type": "execute_result"
    }
   ],
   "source": [
    "eigen = solver.eigenvalues(neigs=5)\n",
    "eigen"
   ]
  },
  {
   "cell_type": "code",
   "execution_count": 72,
   "metadata": {},
   "outputs": [
    {
     "data": {
      "text/plain": [
       "[<xarray.DataArray ()>\n",
       " array(-6197.56442096)\n",
       " Coordinates:\n",
       "     mode     int64 0, <xarray.DataArray ()>\n",
       " array(-1585.71700452)\n",
       " Coordinates:\n",
       "     mode     int64 1, <xarray.DataArray ()>\n",
       " array(1478.95092744)\n",
       " Coordinates:\n",
       "     mode     int64 2, <xarray.DataArray ()>\n",
       " array(-250.28567564)\n",
       " Coordinates:\n",
       "     mode     int64 3, <xarray.DataArray ()>\n",
       " array(1776.61093282)\n",
       " Coordinates:\n",
       "     mode     int64 4]"
      ]
     },
     "execution_count": 72,
     "metadata": {},
     "output_type": "execute_result"
    }
   ],
   "source": [
    "test = []\n",
    "for i in range(0,5,1) :\n",
    "    tmp = U_obs_avg[i]*sqrt(eigen[i])\n",
    "    test.append(tmp)\n",
    "test"
   ]
  },
  {
   "cell_type": "markdown",
   "metadata": {},
   "source": [
    "### Save data"
   ]
  },
  {
   "cell_type": "code",
   "execution_count": 135,
   "metadata": {},
   "outputs": [],
   "source": [
    "#Save the U_obs_avg \n",
    "np.save('/data/home/globc/peatier/CNRMppe/PPE/ENSEMBLE2/files/npy/U_obs_'+variable+'_'+product+'.npy', U_obs_avg)"
   ]
  },
  {
   "cell_type": "markdown",
   "metadata": {},
   "source": [
    "### [Back to the top](#top)"
   ]
  },
  {
   "cell_type": "markdown",
   "metadata": {},
   "source": [
    "# <a id=\"RMSE\">Step 4 - RMSE estimate</a> </li>"
   ]
  },
  {
   "cell_type": "markdown",
   "metadata": {},
   "source": [
    "The model error as compared to observations is calculated by comparing the EOF amplitudes $w$ in each member with the projection of the observations $o$ on the model EOF basis through a Root Mean Square Error (RMSE). For a given member of the PPE, the error associated with the variable $s$ is : \n",
    "\n",
    "\\begin{equation}\n",
    "    E_{s} = \\sqrt{\\Sigma_i^N \\frac{(w_{is}-o_{is})^2}{N}}\n",
    "\\end{equation}\n",
    "\n",
    "with $i$ varying from $1$ to $N$, the number of modes considered. In the present study, we truncated the EOF after the 5th mode for each variable : $N=5$."
   ]
  },
  {
   "cell_type": "markdown",
   "metadata": {},
   "source": [
    "### Settings"
   ]
  },
  {
   "cell_type": "code",
   "execution_count": 43,
   "metadata": {},
   "outputs": [],
   "source": [
    "product = 'BEST'\n",
    "ylabel = '$E_{tas}$ (K)'"
   ]
  },
  {
   "cell_type": "markdown",
   "metadata": {},
   "source": [
    "### Functions"
   ]
  },
  {
   "cell_type": "code",
   "execution_count": 146,
   "metadata": {},
   "outputs": [],
   "source": [
    "N=(128*256)"
   ]
  },
  {
   "cell_type": "code",
   "execution_count": 137,
   "metadata": {},
   "outputs": [],
   "source": [
    "def Error_emulator(pc1, pc2, pc3, pc4, pc5, variable):\n",
    "    U_obs = np.load('/data/home/globc/peatier/CNRMppe/PPE/ENSEMBLE2/files/npy/U_obs_'+variable+'_'+product+'.npy')\n",
    "    E_tmp = (pc1-U_obs[0])**2 + (pc2-U_obs[1])**2 + (pc3-U_obs[2])**2 + (pc4-U_obs[3])**2 + (pc5-U_obs[4])**2\n",
    "    E = sqrt(E_tmp/N)\n",
    "    return E"
   ]
  },
  {
   "cell_type": "code",
   "execution_count": 138,
   "metadata": {},
   "outputs": [],
   "source": [
    "def Error(path, filename, U_obs):\n",
    "    \n",
    "    U = np.load(path+filename)\n",
    "\n",
    "    pc1 = U[0]\n",
    "    pc2 = U[1]\n",
    "    pc3 = U[2]\n",
    "    pc4 = U[3]\n",
    "    pc5 = U[4]\n",
    "\n",
    "    E_tmp = (pc1-U_obs[0])**2 + (pc2-U_obs[1])**2 + (pc3-U_obs[2])**2 + (pc4-U_obs[3])**2 + (pc5-U_obs[4])**2\n",
    "    E = sqrt(E_tmp/(N))\n",
    "    return E"
   ]
  },
  {
   "cell_type": "code",
   "execution_count": 139,
   "metadata": {},
   "outputs": [],
   "source": [
    "def RMSE_emulator(pc1, pc2, pc3, pc4, pc5, variable) : \n",
    "    \n",
    "    U_obs = np.load('/data/home/globc/peatier/CNRMppe/PPE/ENSEMBLE2/files/npy/U_obs_'+variable+'_'+product+'.npy')\n",
    "    \n",
    "    E_pc1 = []\n",
    "    E_pc2 = []\n",
    "    E_pc3 = []\n",
    "    E_pc4 = []\n",
    "    E_pc5 = []\n",
    "    E_tmp = []\n",
    "\n",
    "    for i in pc1:\n",
    "        tmp = (i-U_obs[0])**2\n",
    "        E_pc1.append(tmp)\n",
    "    \n",
    "    for j in pc2:\n",
    "        tmp = (j-U_obs[1])**2\n",
    "        E_pc2.append(tmp)\n",
    "\n",
    "    for k in pc3:\n",
    "        tmp = (k-U_obs[2])**2\n",
    "        E_pc3.append(tmp)\n",
    "    \n",
    "    for l in pc4:\n",
    "        tmp = (l-U_obs[3])**2\n",
    "        E_pc4.append(tmp)\n",
    "    \n",
    "    for m in pc5:\n",
    "        tmp = (m-U_obs[4])**2\n",
    "        E_pc5.append(tmp)\n",
    "\n",
    "    for n in range(0,len(E_pc1),1) :    \n",
    "        tmp = E_pc1[n]+E_pc2[n]+E_pc3[n]+E_pc4[n]+E_pc5[n]\n",
    "        E_tmp.append(tmp/(N))\n",
    "\n",
    "    \n",
    "    E = sqrt(E_tmp)\n",
    "    \n",
    "    \n",
    "    return E"
   ]
  },
  {
   "cell_type": "markdown",
   "metadata": {},
   "source": [
    "### Get the data "
   ]
  },
  {
   "cell_type": "code",
   "execution_count": 140,
   "metadata": {},
   "outputs": [],
   "source": [
    "U_obs = np.load('/data/home/globc/peatier/CNRMppe/PPE/ENSEMBLE2/files/npy/U_obs_'+variable+'_'+product+'.npy')\n",
    "\n",
    "pc1_obs = U_obs[0]\n",
    "pc2_obs = U_obs[1]\n",
    "pc3_obs = U_obs[2]\n",
    "pc4_obs = U_obs[3]\n",
    "pc5_obs = U_obs[4]"
   ]
  },
  {
   "cell_type": "markdown",
   "metadata": {},
   "source": [
    "### p1 default model"
   ]
  },
  {
   "cell_type": "code",
   "execution_count": 141,
   "metadata": {},
   "outputs": [],
   "source": [
    "pc1_p1 = np.load('/data/home/globc/peatier/CNRMppe/PPE/ENSEMBLE2/files/npy/p1_EOF1pc_'+variable+'.npy')\n",
    "pc2_p1 = np.load('/data/home/globc/peatier/CNRMppe/PPE/ENSEMBLE2/files/npy/p1_EOF2pc_'+variable+'.npy')\n",
    "pc3_p1 = np.load('/data/home/globc/peatier/CNRMppe/PPE/ENSEMBLE2/files/npy/p1_EOF3pc_'+variable+'.npy')\n",
    "pc4_p1 = np.load('/data/home/globc/peatier/CNRMppe/PPE/ENSEMBLE2/files/npy/p1_EOF4pc_'+variable+'.npy')\n",
    "pc5_p1 = np.load('/data/home/globc/peatier/CNRMppe/PPE/ENSEMBLE2/files/npy/p1_EOF5pc_'+variable+'.npy')\n",
    "\n",
    "p1_feedbacks = np.load('/data/home/globc/peatier/CNRMppe/PPE/ENSEMBLE2/files/npy/Net_feedbacks_p1.npy')"
   ]
  },
  {
   "cell_type": "code",
   "execution_count": 142,
   "metadata": {
    "scrolled": true
   },
   "outputs": [
    {
     "name": "stdout",
     "output_type": "stream",
     "text": [
      "12.262248621130372\n"
     ]
    }
   ],
   "source": [
    "E_p1_tmp = (pc1_p1-pc1_obs)**2 + (pc2_p1-pc2_obs)**2 + (pc3_p1-pc3_obs)**2 + (pc4_p1-pc4_obs)**2 + (pc5_p1-pc5_obs)**2\n",
    "E_p1 = sqrt(E_p1_tmp/n)\n",
    "        \n",
    "print(E_p1)"
   ]
  },
  {
   "cell_type": "markdown",
   "metadata": {},
   "source": [
    "### PPE"
   ]
  },
  {
   "cell_type": "code",
   "execution_count": 143,
   "metadata": {},
   "outputs": [],
   "source": [
    "eof1 = pd.read_pickle('/data/home/globc/peatier/CNRMppe/PPE/ENSEMBLE2/files/npy/PPE2_EOFmap1_'+variable+'.npy').to_xarray().to_array()\n",
    "eof2 = pd.read_pickle('/data/home/globc/peatier/CNRMppe/PPE/ENSEMBLE2/files/npy/PPE2_EOFmap2_'+variable+'.npy').to_xarray().to_array()\n",
    "eof3 = pd.read_pickle('/data/home/globc/peatier/CNRMppe/PPE/ENSEMBLE2/files/npy/PPE2_EOFmap3_'+variable+'.npy').to_xarray().to_array()\n",
    "eof4 = pd.read_pickle('/data/home/globc/peatier/CNRMppe/PPE/ENSEMBLE2/files/npy/PPE2_EOFmap4_'+variable+'.npy').to_xarray().to_array()\n",
    "eof5 = pd.read_pickle('/data/home/globc/peatier/CNRMppe/PPE/ENSEMBLE2/files/npy/PPE2_EOFmap5_'+variable+'.npy').to_xarray().to_array()\n",
    "\n",
    "eof1 = eof1[0,:,:].rename({'variable':'mode'})\n",
    "eof2 = eof2[0,:,:].rename({'variable':'mode'})\n",
    "eof3 = eof3[0,:,:].rename({'variable':'mode'})\n",
    "eof4 = eof4[0,:,:].rename({'variable':'mode'})\n",
    "eof5 = eof5[0,:,:].rename({'variable':'mode'})"
   ]
  },
  {
   "cell_type": "code",
   "execution_count": 144,
   "metadata": {},
   "outputs": [
    {
     "data": {
      "text/html": [
       "<div>\n",
       "<style scoped>\n",
       "    .dataframe tbody tr th:only-of-type {\n",
       "        vertical-align: middle;\n",
       "    }\n",
       "\n",
       "    .dataframe tbody tr th {\n",
       "        vertical-align: top;\n",
       "    }\n",
       "\n",
       "    .dataframe thead th {\n",
       "        text-align: right;\n",
       "    }\n",
       "</style>\n",
       "<table border=\"1\" class=\"dataframe\">\n",
       "  <thead>\n",
       "    <tr style=\"text-align: right;\">\n",
       "      <th></th>\n",
       "      <th>pc1</th>\n",
       "      <th>pc2</th>\n",
       "      <th>pc3</th>\n",
       "      <th>pc4</th>\n",
       "      <th>pc5</th>\n",
       "    </tr>\n",
       "  </thead>\n",
       "  <tbody>\n",
       "    <tr>\n",
       "      <th>0</th>\n",
       "      <td>-1.037732</td>\n",
       "      <td>-1.772081</td>\n",
       "      <td>0.099338</td>\n",
       "      <td>-0.586537</td>\n",
       "      <td>1.931625</td>\n",
       "    </tr>\n",
       "    <tr>\n",
       "      <th>1</th>\n",
       "      <td>0.500078</td>\n",
       "      <td>0.633004</td>\n",
       "      <td>-0.643879</td>\n",
       "      <td>0.070028</td>\n",
       "      <td>-1.880748</td>\n",
       "    </tr>\n",
       "    <tr>\n",
       "      <th>2</th>\n",
       "      <td>1.538930</td>\n",
       "      <td>-0.967792</td>\n",
       "      <td>0.192940</td>\n",
       "      <td>0.498433</td>\n",
       "      <td>1.072164</td>\n",
       "    </tr>\n",
       "    <tr>\n",
       "      <th>3</th>\n",
       "      <td>0.524819</td>\n",
       "      <td>-1.622346</td>\n",
       "      <td>-0.740827</td>\n",
       "      <td>1.025525</td>\n",
       "      <td>-1.134253</td>\n",
       "    </tr>\n",
       "    <tr>\n",
       "      <th>4</th>\n",
       "      <td>0.683105</td>\n",
       "      <td>0.110459</td>\n",
       "      <td>0.257606</td>\n",
       "      <td>-0.863911</td>\n",
       "      <td>0.866224</td>\n",
       "    </tr>\n",
       "    <tr>\n",
       "      <th>...</th>\n",
       "      <td>...</td>\n",
       "      <td>...</td>\n",
       "      <td>...</td>\n",
       "      <td>...</td>\n",
       "      <td>...</td>\n",
       "    </tr>\n",
       "    <tr>\n",
       "      <th>97</th>\n",
       "      <td>1.117563</td>\n",
       "      <td>-0.113455</td>\n",
       "      <td>-1.874182</td>\n",
       "      <td>1.371713</td>\n",
       "      <td>-0.314159</td>\n",
       "    </tr>\n",
       "    <tr>\n",
       "      <th>98</th>\n",
       "      <td>-0.847133</td>\n",
       "      <td>2.220053</td>\n",
       "      <td>-2.073222</td>\n",
       "      <td>0.161397</td>\n",
       "      <td>-0.380162</td>\n",
       "    </tr>\n",
       "    <tr>\n",
       "      <th>99</th>\n",
       "      <td>-0.200386</td>\n",
       "      <td>1.630405</td>\n",
       "      <td>-0.603054</td>\n",
       "      <td>1.124291</td>\n",
       "      <td>-0.793313</td>\n",
       "    </tr>\n",
       "    <tr>\n",
       "      <th>100</th>\n",
       "      <td>1.692824</td>\n",
       "      <td>0.389283</td>\n",
       "      <td>-1.014095</td>\n",
       "      <td>1.902702</td>\n",
       "      <td>0.029599</td>\n",
       "    </tr>\n",
       "    <tr>\n",
       "      <th>101</th>\n",
       "      <td>0.933678</td>\n",
       "      <td>1.233882</td>\n",
       "      <td>0.656814</td>\n",
       "      <td>-0.794935</td>\n",
       "      <td>-0.294266</td>\n",
       "    </tr>\n",
       "  </tbody>\n",
       "</table>\n",
       "<p>102 rows × 5 columns</p>\n",
       "</div>"
      ],
      "text/plain": [
       "          pc1       pc2       pc3       pc4       pc5\n",
       "0   -1.037732 -1.772081  0.099338 -0.586537  1.931625\n",
       "1    0.500078  0.633004 -0.643879  0.070028 -1.880748\n",
       "2    1.538930 -0.967792  0.192940  0.498433  1.072164\n",
       "3    0.524819 -1.622346 -0.740827  1.025525 -1.134253\n",
       "4    0.683105  0.110459  0.257606 -0.863911  0.866224\n",
       "..        ...       ...       ...       ...       ...\n",
       "97   1.117563 -0.113455 -1.874182  1.371713 -0.314159\n",
       "98  -0.847133  2.220053 -2.073222  0.161397 -0.380162\n",
       "99  -0.200386  1.630405 -0.603054  1.124291 -0.793313\n",
       "100  1.692824  0.389283 -1.014095  1.902702  0.029599\n",
       "101  0.933678  1.233882  0.656814 -0.794935 -0.294266\n",
       "\n",
       "[102 rows x 5 columns]"
      ]
     },
     "execution_count": 144,
     "metadata": {},
     "output_type": "execute_result"
    }
   ],
   "source": [
    "pc1_PPE = np.load('/data/home/globc/peatier/CNRMppe/PPE/ENSEMBLE2/files/npy/PPE2_EOF1pc_'+variable+'.npy')\n",
    "pc2_PPE = np.load('/data/home/globc/peatier/CNRMppe/PPE/ENSEMBLE2/files/npy/PPE2_EOF2pc_'+variable+'.npy')\n",
    "pc3_PPE = np.load('/data/home/globc/peatier/CNRMppe/PPE/ENSEMBLE2/files/npy/PPE2_EOF3pc_'+variable+'.npy')\n",
    "pc4_PPE = np.load('/data/home/globc/peatier/CNRMppe/PPE/ENSEMBLE2/files/npy/PPE2_EOF4pc_'+variable+'.npy')\n",
    "pc5_PPE = np.load('/data/home/globc/peatier/CNRMppe/PPE/ENSEMBLE2/files/npy/PPE2_EOF5pc_'+variable+'.npy')\n",
    "\n",
    "PC_df_PPE = pd.DataFrame(pc1_PPE)\n",
    "PC_df_PPE['pc1'] = pc1_PPE\n",
    "PC_df_PPE['pc2'] = pc2_PPE\n",
    "PC_df_PPE['pc3'] = pc3_PPE\n",
    "PC_df_PPE['pc4'] = pc4_PPE\n",
    "PC_df_PPE['pc5'] = pc5_PPE\n",
    "PC_df_PPE = PC_df_PPE.drop(labels = 0, axis=1)\n",
    "PC_df_PPE"
   ]
  },
  {
   "cell_type": "code",
   "execution_count": 147,
   "metadata": {
    "scrolled": false
   },
   "outputs": [
    {
     "data": {
      "text/plain": [
       "array([0.67169009, 0.69633976, 0.68409161, 0.69094536, 0.6831141 ,\n",
       "       0.68444332, 0.6760016 , 0.68119995, 0.68199287, 0.67877725,\n",
       "       0.68506283, 0.68389512, 0.69344041, 0.67970427, 0.68967743,\n",
       "       0.67981004, 0.68918592, 0.68978209, 0.68482075, 0.68670775,\n",
       "       0.67944905, 0.68291488, 0.68638617, 0.6860426 , 0.6785709 ,\n",
       "       0.68284438, 0.69634471, 0.68530805, 0.67983952, 0.6888795 ,\n",
       "       0.68152146, 0.6791243 , 0.69046501, 0.69500977, 0.68432218,\n",
       "       0.68041705, 0.68863438, 0.68511534, 0.67995634, 0.68112041,\n",
       "       0.67908372, 0.6878716 , 0.68925639, 0.6794903 , 0.67992676,\n",
       "       0.68275691, 0.68396304, 0.68555417, 0.68971605, 0.68363734,\n",
       "       0.68298532, 0.68661856, 0.68088108, 0.67090224, 0.67683355,\n",
       "       0.68222958, 0.67909001, 0.69558055, 0.68821702, 0.68421783,\n",
       "       0.68662249, 0.68359708, 0.68382093, 0.68377389, 0.69087586,\n",
       "       0.68345094, 0.68636673, 0.69624747, 0.69108124, 0.69436051,\n",
       "       0.68873229, 0.688332  , 0.69509405, 0.6890822 , 0.67316219,\n",
       "       0.68774415, 0.69038839, 0.68575252, 0.6884076 , 0.68212473,\n",
       "       0.68396201, 0.67895255, 0.68253391, 0.68085086, 0.67428473,\n",
       "       0.68492457, 0.69155347, 0.68138381, 0.68316988, 0.68210215,\n",
       "       0.68889606, 0.68566763, 0.69049418, 0.69316817, 0.68313761,\n",
       "       0.69224886, 0.68596519, 0.69445362, 0.69243294, 0.69215834,\n",
       "       0.69397452, 0.68917025])"
      ]
     },
     "execution_count": 147,
     "metadata": {},
     "output_type": "execute_result"
    }
   ],
   "source": [
    "E_PPE = RMSE_emulator(pc1_PPE, pc2_PPE, pc3_PPE, pc4_PPE, pc5_PPE, variable)\n",
    "E_PPE"
   ]
  },
  {
   "cell_type": "code",
   "execution_count": 148,
   "metadata": {},
   "outputs": [],
   "source": [
    "ej = {}\n",
    "ej_list = []\n",
    "#ej['p1'] = diff_p1\n",
    "\n",
    "for p in nb_p_list :\n",
    "    mod = amip[p]#*df_W\n",
    "    observation = obs[variable_obs]#*df_W\n",
    "    diff_tmp = (mod - observation)**2\n",
    "    diff = sqrt(diff_tmp.sum(['lat','lon'])/(128*256))\n",
    "    #print(float(diff_tmp))\n",
    "    ej[p] = diff\n",
    "    ej_list.append(float(diff))"
   ]
  },
  {
   "cell_type": "code",
   "execution_count": 149,
   "metadata": {},
   "outputs": [
    {
     "data": {
      "text/html": [
       "<div>\n",
       "<style scoped>\n",
       "    .dataframe tbody tr th:only-of-type {\n",
       "        vertical-align: middle;\n",
       "    }\n",
       "\n",
       "    .dataframe tbody tr th {\n",
       "        vertical-align: top;\n",
       "    }\n",
       "\n",
       "    .dataframe thead th {\n",
       "        text-align: right;\n",
       "    }\n",
       "</style>\n",
       "<table border=\"1\" class=\"dataframe\">\n",
       "  <thead>\n",
       "    <tr style=\"text-align: right;\">\n",
       "      <th></th>\n",
       "      <th>E_tas</th>\n",
       "      <th>RMSE</th>\n",
       "    </tr>\n",
       "  </thead>\n",
       "  <tbody>\n",
       "    <tr>\n",
       "      <th>0</th>\n",
       "      <td>0.671690</td>\n",
       "      <td>1.596653</td>\n",
       "    </tr>\n",
       "    <tr>\n",
       "      <th>1</th>\n",
       "      <td>0.696340</td>\n",
       "      <td>1.800415</td>\n",
       "    </tr>\n",
       "    <tr>\n",
       "      <th>2</th>\n",
       "      <td>0.684092</td>\n",
       "      <td>2.357326</td>\n",
       "    </tr>\n",
       "    <tr>\n",
       "      <th>3</th>\n",
       "      <td>0.690945</td>\n",
       "      <td>1.808246</td>\n",
       "    </tr>\n",
       "    <tr>\n",
       "      <th>4</th>\n",
       "      <td>0.683114</td>\n",
       "      <td>1.684001</td>\n",
       "    </tr>\n",
       "    <tr>\n",
       "      <th>...</th>\n",
       "      <td>...</td>\n",
       "      <td>...</td>\n",
       "    </tr>\n",
       "    <tr>\n",
       "      <th>97</th>\n",
       "      <td>0.694454</td>\n",
       "      <td>1.893827</td>\n",
       "    </tr>\n",
       "    <tr>\n",
       "      <th>98</th>\n",
       "      <td>0.692433</td>\n",
       "      <td>2.256450</td>\n",
       "    </tr>\n",
       "    <tr>\n",
       "      <th>99</th>\n",
       "      <td>0.692158</td>\n",
       "      <td>1.812770</td>\n",
       "    </tr>\n",
       "    <tr>\n",
       "      <th>100</th>\n",
       "      <td>0.693975</td>\n",
       "      <td>2.245847</td>\n",
       "    </tr>\n",
       "    <tr>\n",
       "      <th>101</th>\n",
       "      <td>0.689170</td>\n",
       "      <td>1.950817</td>\n",
       "    </tr>\n",
       "  </tbody>\n",
       "</table>\n",
       "<p>102 rows × 2 columns</p>\n",
       "</div>"
      ],
      "text/plain": [
       "        E_tas      RMSE\n",
       "0    0.671690  1.596653\n",
       "1    0.696340  1.800415\n",
       "2    0.684092  2.357326\n",
       "3    0.690945  1.808246\n",
       "4    0.683114  1.684001\n",
       "..        ...       ...\n",
       "97   0.694454  1.893827\n",
       "98   0.692433  2.256450\n",
       "99   0.692158  1.812770\n",
       "100  0.693975  2.245847\n",
       "101  0.689170  1.950817\n",
       "\n",
       "[102 rows x 2 columns]"
      ]
     },
     "execution_count": 149,
     "metadata": {},
     "output_type": "execute_result"
    }
   ],
   "source": [
    "df_fig = pd.DataFrame(E_PPE, columns=['E_tas'])\n",
    "df_fig['RMSE'] = ej_list\n",
    "df_fig"
   ]
  },
  {
   "cell_type": "code",
   "execution_count": 150,
   "metadata": {},
   "outputs": [
    {
     "data": {
      "image/png": "[encoded data removed]",
      "text/plain": [
       "<Figure size 360x360 with 1 Axes>"
      ]
     },
     "metadata": {
      "needs_background": "light"
     },
     "output_type": "display_data"
    }
   ],
   "source": [
    "plt.figure(figsize=(5, 5))\n",
    "    \n",
    "\n",
    "ax = plt.gca()\n",
    "#ax2 = ax.twinx()\n",
    "\n",
    "\n",
    "df_fig.plot(kind='scatter', x='E_tas', y='RMSE', color = 'black', alpha=1, ax=ax)\n",
    "\n",
    "#ax.axhline(0, color='k', alpha=0.5)\n",
    "#ax.set_ylim(0, 1.1)\n",
    "ax.set_xlabel('$E_{tas}$', size = 20)\n",
    "ax.set_ylabel('RMSE', size = 20)\n",
    "ax.set_title('Surface temperature - before', fontsize=20, \n",
    "             fontweight = 'bold')\n",
    "#ax.set_xscale('log')\n",
    "ax.tick_params(axis='y', which='major', labelsize=20)\n",
    "ax.tick_params(axis='x', which='major', labelsize=20)\n",
    "\n",
    "#plt.xlim([0, 2.5])\n",
    "#plt.ylim([0, 2.5])\n",
    "\n",
    "# Legend .................\n",
    "\n",
    "#legend = [ 'Correlation', 'Unresolved fraction']\n",
    "#ax.get_legend().remove()\n",
    "#ax.legend(legend, fontsize=25, bbox_to_anchor=(1.65, 0.83)) #bbox_to_anchor=(1.05, 1)\n",
    "#fig.subplots_adjust(right=0.8)\n",
    "\n",
    "# Grid .................\n",
    "#ax.grid(True, which=\"both\", axis='x')\n",
    "\n",
    "# Save la figure .................\n",
    "#plt.savefig(\"/data/home/globc/peatier/figures/Fig3_\"+variable+\"_\"+str(neofs)+\"modes.png\", \n",
    "#            orientation='portrait', bbox_inches='tight', pad_inches=0.1)\n",
    "\n",
    "# Show la figure .................\n",
    "plt.show()"
   ]
  },
  {
   "cell_type": "code",
   "execution_count": 432,
   "metadata": {},
   "outputs": [
    {
     "data": {
      "image/png": "[encoded data removed]",
      "text/plain": [
       "<Figure size 360x360 with 1 Axes>"
      ]
     },
     "metadata": {
      "needs_background": "light"
     },
     "output_type": "display_data"
    }
   ],
   "source": [
    "plt.figure(figsize=(5, 5))\n",
    "    \n",
    "\n",
    "ax = plt.gca()\n",
    "#ax2 = ax.twinx()\n",
    "\n",
    "\n",
    "df_fig.plot(kind='scatter', x='E_tas', y='RMSE', color = 'black', alpha=1, ax=ax)\n",
    "\n",
    "#ax.axhline(0, color='k', alpha=0.5)\n",
    "#ax.set_ylim(0, 1.1)\n",
    "ax.set_xlabel('$E_{tas}$', size = 20)\n",
    "ax.set_ylabel('RMSE', size = 20)\n",
    "ax.set_title('Surface Temperature - not weighted', fontsize=20, \n",
    "             fontweight = 'bold')\n",
    "#ax.set_xscale('log')\n",
    "ax.tick_params(axis='y', which='major', labelsize=20)\n",
    "ax.tick_params(axis='x', which='major', labelsize=20)\n",
    "\n",
    "#plt.xlim([0, 2])\n",
    "#plt.ylim([0, 2])\n",
    "\n",
    "# Legend .................\n",
    "\n",
    "#legend = [ 'Correlation', 'Unresolved fraction']\n",
    "#ax.get_legend().remove()\n",
    "#ax.legend(legend, fontsize=25, bbox_to_anchor=(1.65, 0.83)) #bbox_to_anchor=(1.05, 1)\n",
    "#fig.subplots_adjust(right=0.8)\n",
    "\n",
    "# Grid .................\n",
    "#ax.grid(True, which=\"both\", axis='x')\n",
    "\n",
    "# Save la figure .................\n",
    "#plt.savefig(\"/data/home/globc/peatier/figures/Fig3_\"+variable+\"_\"+str(neofs)+\"modes.png\", \n",
    "#            orientation='portrait', bbox_inches='tight', pad_inches=0.1)\n",
    "\n",
    "# Show la figure .................\n",
    "plt.show()"
   ]
  },
  {
   "cell_type": "code",
   "execution_count": 491,
   "metadata": {},
   "outputs": [
    {
     "data": {
      "image/png": "[encoded data removed]",
      "text/plain": [
       "<Figure size 360x360 with 1 Axes>"
      ]
     },
     "metadata": {
      "needs_background": "light"
     },
     "output_type": "display_data"
    }
   ],
   "source": [
    "plt.figure(figsize=(5, 5))\n",
    "    \n",
    "\n",
    "ax = plt.gca()\n",
    "#ax2 = ax.twinx()\n",
    "\n",
    "\n",
    "df_fig.plot(kind='scatter', x='E_tas', y='RMSE', color = 'black', alpha=1, ax=ax)\n",
    "\n",
    "#ax.axhline(0, color='k', alpha=0.5)\n",
    "#ax.set_ylim(0, 1.1)\n",
    "ax.set_xlabel('$E_{tas}$', size = 20)\n",
    "ax.set_ylabel('RMSE', size = 20)\n",
    "ax.set_title('Surface Temperature - EOF weighting only', fontsize=20, \n",
    "             fontweight = 'bold')\n",
    "#ax.set_xscale('log')\n",
    "ax.tick_params(axis='y', which='major', labelsize=20)\n",
    "ax.tick_params(axis='x', which='major', labelsize=20)\n",
    "\n",
    "#plt.xlim([0, 4])\n",
    "#plt.ylim([0, 4])\n",
    "\n",
    "# Legend .................\n",
    "\n",
    "#legend = [ 'Correlation', 'Unresolved fraction']\n",
    "#ax.get_legend().remove()\n",
    "#ax.legend(legend, fontsize=25, bbox_to_anchor=(1.65, 0.83)) #bbox_to_anchor=(1.05, 1)\n",
    "#fig.subplots_adjust(right=0.8)\n",
    "\n",
    "# Grid .................\n",
    "#ax.grid(True, which=\"both\", axis='x')\n",
    "\n",
    "# Save la figure .................\n",
    "#plt.savefig(\"/data/home/globc/peatier/figures/Fig3_\"+variable+\"_\"+str(neofs)+\"modes.png\", \n",
    "#            orientation='portrait', bbox_inches='tight', pad_inches=0.1)\n",
    "\n",
    "# Show la figure .................\n",
    "plt.show()"
   ]
  },
  {
   "cell_type": "code",
   "execution_count": 487,
   "metadata": {},
   "outputs": [
    {
     "data": {
      "image/png": "[encoded data removed]",
      "text/plain": [
       "<Figure size 360x360 with 1 Axes>"
      ]
     },
     "metadata": {
      "needs_background": "light"
     },
     "output_type": "display_data"
    }
   ],
   "source": [
    "plt.figure(figsize=(5, 5))\n",
    "    \n",
    "\n",
    "ax = plt.gca()\n",
    "#ax2 = ax.twinx()\n",
    "\n",
    "\n",
    "df_fig.plot(kind='scatter', x='E_tas', y='RMSE', color = 'black', alpha=1, ax=ax)\n",
    "\n",
    "#ax.axhline(0, color='k', alpha=0.5)\n",
    "#ax.set_ylim(0, 1.1)\n",
    "ax.set_xlabel('$E_{tas}$', size = 20)\n",
    "ax.set_ylabel('weighted RMSE', size = 20)\n",
    "ax.set_title('Surface Temperature - EOF weighting only', fontsize=20, \n",
    "             fontweight = 'bold')\n",
    "#ax.set_xscale('log')\n",
    "ax.tick_params(axis='y', which='major', labelsize=20)\n",
    "ax.tick_params(axis='x', which='major', labelsize=20)\n",
    "\n",
    "#plt.xlim([0, 2.5])\n",
    "#plt.ylim([0, 2.5])\n",
    "\n",
    "# Legend .................\n",
    "\n",
    "#legend = [ 'Correlation', 'Unresolved fraction']\n",
    "#ax.get_legend().remove()\n",
    "#ax.legend(legend, fontsize=25, bbox_to_anchor=(1.65, 0.83)) #bbox_to_anchor=(1.05, 1)\n",
    "#fig.subplots_adjust(right=0.8)\n",
    "\n",
    "# Grid .................\n",
    "#ax.grid(True, which=\"both\", axis='x')\n",
    "\n",
    "# Save la figure .................\n",
    "#plt.savefig(\"/data/home/globc/peatier/figures/Fig3_\"+variable+\"_\"+str(neofs)+\"modes.png\", \n",
    "#            orientation='portrait', bbox_inches='tight', pad_inches=0.1)\n",
    "\n",
    "# Show la figure .................\n",
    "plt.show()"
   ]
  },
  {
   "cell_type": "markdown",
   "metadata": {},
   "source": [
    "### [Back to the top](#top)"
   ]
  },
  {
   "cell_type": "code",
   "execution_count": null,
   "metadata": {},
   "outputs": [],
   "source": []
  }
 ],
 "metadata": {
  "kernelspec": {
   "display_name": "Python 3",
   "language": "python",
   "name": "python3"
  },
  "language_info": {
   "codemirror_mode": {
    "name": "ipython",
    "version": 3
   },
   "file_extension": ".py",
   "mimetype": "text/x-python",
   "name": "python",
   "nbconvert_exporter": "python",
   "pygments_lexer": "ipython3",
   "version": "3.7.6"
  }
 },
 "nbformat": 4,
 "nbformat_minor": 2
}
