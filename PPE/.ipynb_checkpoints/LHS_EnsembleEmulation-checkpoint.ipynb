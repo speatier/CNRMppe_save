{
 "cells": [
  {
   "cell_type": "markdown",
   "metadata": {},
   "source": [
    "# Multi linear regression \n",
    "\n",
    "We want to compute a multi linear regression between the parameter values for each perturbation and the PCs values of the first EOF analysis of radiative feedbacks (SW and LW multivariate analysis). \n",
    "\n",
    "#### Emulator equation : Y = f(X) \n",
    "* Y is a 1x50 matrix containing the PCs values of the first EOF analysis of radiative feedbacks (SW and LW multivariate analysis).\n",
    "* X is a 30X50 matrix containing the 30 values of the physical parameters, for the 50 perturbations."
   ]
  },
  {
   "cell_type": "markdown",
   "metadata": {},
   "source": [
    "## Import modules"
   ]
  },
  {
   "cell_type": "code",
   "execution_count": 1,
   "metadata": {},
   "outputs": [
    {
     "ename": "ModuleNotFoundError",
     "evalue": "No module named 'smt'",
     "output_type": "error",
     "traceback": [
      "\u001b[0;31m---------------------------------------------------------------------------\u001b[0m",
      "\u001b[0;31mModuleNotFoundError\u001b[0m                       Traceback (most recent call last)",
      "\u001b[0;32m<ipython-input-1-f7add738a4dc>\u001b[0m in \u001b[0;36m<module>\u001b[0;34m\u001b[0m\n\u001b[1;32m     11\u001b[0m \u001b[0;32mfrom\u001b[0m \u001b[0marray\u001b[0m \u001b[0;32mimport\u001b[0m \u001b[0marray\u001b[0m\u001b[0;34m\u001b[0m\u001b[0;34m\u001b[0m\u001b[0m\n\u001b[1;32m     12\u001b[0m \u001b[0;32mfrom\u001b[0m \u001b[0mpylab\u001b[0m \u001b[0;32mimport\u001b[0m \u001b[0;34m*\u001b[0m\u001b[0;34m\u001b[0m\u001b[0;34m\u001b[0m\u001b[0m\n\u001b[0;32m---> 13\u001b[0;31m \u001b[0;32mfrom\u001b[0m \u001b[0msmt\u001b[0m\u001b[0;34m.\u001b[0m\u001b[0msampling_methods\u001b[0m \u001b[0;32mimport\u001b[0m \u001b[0mLHS\u001b[0m\u001b[0;34m\u001b[0m\u001b[0;34m\u001b[0m\u001b[0m\n\u001b[0m\u001b[1;32m     14\u001b[0m \u001b[0;34m\u001b[0m\u001b[0m\n\u001b[1;32m     15\u001b[0m \u001b[0;31m# Plotting modules\u001b[0m\u001b[0;34m\u001b[0m\u001b[0;34m\u001b[0m\u001b[0;34m\u001b[0m\u001b[0m\n",
      "\u001b[0;31mModuleNotFoundError\u001b[0m: No module named 'smt'"
     ]
    }
   ],
   "source": [
    "# Computational modules \n",
    "%matplotlib inline\n",
    "import xarray as xr\n",
    "import glob\n",
    "import os\n",
    "import numpy as np\n",
    "import netCDF4\n",
    "from netCDF4 import Dataset\n",
    "import pandas as pd\n",
    "import re\n",
    "from array import array\n",
    "from pylab import *\n",
    "from smt.sampling_methods import LHS\n",
    "\n",
    "# Plotting modules \n",
    "import matplotlib.pyplot as plt\n",
    "#from mpl_toolkits.basemap import Basemap\n",
    "import pandas.plotting\n",
    "import matplotlib.ticker as ticker\n",
    "# scatter plot matrix des variables quantitatives\n",
    "from pandas.plotting import scatter_matrix\n",
    "import seaborn as sns; sns.set()\n",
    "\n",
    "# Scikit-learn\n",
    "from sklearn import linear_model\n",
    "from sklearn.linear_model import LassoCV, LassoLarsCV, LassoLarsIC\n",
    "from sklearn.linear_model import Lasso\n",
    "from sklearn.metrics import r2_score"
   ]
  },
  {
   "cell_type": "markdown",
   "metadata": {},
   "source": [
    "## Import functions"
   ]
  },
  {
   "cell_type": "code",
   "execution_count": 2,
   "metadata": {},
   "outputs": [],
   "source": [
    "import sys\n",
    "sys.path.append('/data/home/globc/peatier/CNRMppe')\n",
    "import Fonctions\n",
    "from Fonctions import get_wavg_budget_df\n",
    "from Fonctions import wavg \n",
    "from Fonctions import plotlines_Xdf\n",
    "from Fonctions import plotlines_1df\n",
    "from Fonctions import Deltas_Lambda\n",
    "from Fonctions import get_3D_budget_xarr\n",
    "from Fonctions import get_3D_xarr\n",
    "from Fonctions import get_3D_SW_xarr\n",
    "from Fonctions import get_3D_LW_xarr"
   ]
  },
  {
   "cell_type": "markdown",
   "metadata": {},
   "source": [
    "## Multi Linear Regression, without outliers"
   ]
  },
  {
   "cell_type": "code",
   "execution_count": 21,
   "metadata": {},
   "outputs": [],
   "source": [
    "# Set the X and Y : Y = f(X)\n",
    "X = np.load(file=\"X_NoOut_MultiLinReg.npy\")\n",
    "y = np.load(file=\"Net_NoOut_feedbacks.npy\")\n",
    "param_names = np.load(file=\"param_names.npy\")\n",
    "#X"
   ]
  },
  {
   "cell_type": "code",
   "execution_count": 22,
   "metadata": {},
   "outputs": [
    {
     "name": "stdout",
     "output_type": "stream",
     "text": [
      "Intercept: \n",
      " -1.2836841156747607\n",
      "Coefficients: \n",
      " [ 0.14241479  0.12366046  0.05425904 -0.04453203  0.01235736 -0.0693347\n",
      "  0.01862134  0.01839039  0.03076474 -0.07977533 -0.04558748  0.03206542\n",
      " -0.10236337 -0.06757549 -0.00613453 -0.03904601  0.00308239  0.00664265\n",
      " -0.01091451  0.02885358 -0.01607779  0.05846101 -0.02653914  0.02773268\n",
      " -0.05136533  0.01233162  0.00210203 -0.06876219 -0.01756905  0.00151517]\n",
      "Score: \n",
      " 0.7527221751190415\n"
     ]
    }
   ],
   "source": [
    "# with sklearn\n",
    "regr = linear_model.LinearRegression()\n",
    "regr.fit(X, y)\n",
    "\n",
    "print('Intercept: \\n', regr.intercept_)\n",
    "print('Coefficients: \\n', regr.coef_)\n",
    "print('Score: \\n', regr.score(X, y))"
   ]
  },
  {
   "cell_type": "code",
   "execution_count": 23,
   "metadata": {},
   "outputs": [],
   "source": [
    "Coeffs = pd.DataFrame([regr.coef_]*30, columns=param_names).iloc[0]\n",
    "Coeffs_sorted = Coeffs.sort_values()\n",
    "#Coeffs_sorted"
   ]
  },
  {
   "cell_type": "code",
   "execution_count": 24,
   "metadata": {},
   "outputs": [],
   "source": [
    "# Let's write the equation : \n",
    "X_df = pd.DataFrame(data=X)\n",
    "R = regr.intercept_\n",
    "\n",
    "i=0\n",
    "Ycpt=0\n",
    "N=len(Coeffs)\n",
    "while i<N:\n",
    "    Yeq_tmp = Ycpt+ Coeffs[i]*X_df[i]\n",
    "    Ycpt=Yeq_tmp\n",
    "    i+=1\n",
    "    \n",
    "Yeq=Yeq_tmp+R\n",
    "#Coeffs"
   ]
  },
  {
   "cell_type": "code",
   "execution_count": 25,
   "metadata": {},
   "outputs": [],
   "source": [
    "# List sans les outliers : \n",
    "nb_p_list = ['p105',  'p30',  'p65', 'p15', 'p109',  'p160',  'p34', 'p111', \\\n",
    "            'p122',  'p39', 'p123', 'p88', 'p184', 'p131',  'p49', \\\n",
    "            'p133',  'p193', 'p13',  'p195',  'p93', 'p140', 'p142',   'p58', \\\n",
    "            'p144', 'p148', 'p14', 'p209', 'p216', 'p218', 'p222', 'p227', 'p244', \\\n",
    "            'p245', 'p249', 'p254', 'p255', 'p262', 'p269', 'p279', 'p281', 'p287', 'p294', \\\n",
    "            'p297', 'p2', 'p4']\n",
    "\n",
    "Y_df = pd.DataFrame(data=y)\n",
    "N = Y_df[0]\n",
    "N\n",
    "\n",
    "DFYeq = pd.DataFrame([Yeq, N], index=[\"Yeq\", \"N\"]).transpose()\n",
    "DFYeq['members'] = nb_p_list\n",
    "DF=DFYeq.sort_values(by='N')\n",
    "#DF"
   ]
  },
  {
   "cell_type": "code",
   "execution_count": 26,
   "metadata": {},
   "outputs": [
    {
     "data": {
      "image/png": "[encoded data removed]",
      "text/plain": [
       "<Figure size 720x504 with 1 Axes>"
      ]
     },
     "metadata": {},
     "output_type": "display_data"
    }
   ],
   "source": [
    "import matplotlib.pyplot as plt\n",
    "import seaborn as sns; sns.set()\n",
    "import matplotlib.pyplot as plt\n",
    "\n",
    "ax = plt.gca()\n",
    "title = 'Y vs N : linear regression with all parameters'\n",
    "DF.plot(kind='scatter', x='N', y='Yeq', color='black', figsize=(10, 7), \n",
    "                     style='.', ax = ax)\n",
    "#plt.plot(X_test, y_pred, color='blue', linewidth=1.0)\n",
    "\n",
    "plt.xlabel('N')\n",
    "plt.ylabel('Y')\n",
    "plt.title(title)\n",
    "#plt.xlim(0.000001, 0.000011)\n",
    "#plt.ylim(-100, 100)\n",
    "\n",
    "# Enregistrer la figure .....................\n",
    "\n",
    "plt.savefig(\"/data/home/globc/peatier/figures/PPE_NoOut_MultiLinReg_all.png\", \n",
    "        orientation='portrait', bbox_inches='tight', pad_inches=0.1)\n",
    "\n",
    "# Show la figure .................\n",
    "plt.show()"
   ]
  },
  {
   "cell_type": "code",
   "execution_count": 27,
   "metadata": {},
   "outputs": [
    {
     "name": "stdout",
     "output_type": "stream",
     "text": [
      "Coefficients: \n",
      " [[0.74972493]]\n",
      "Coefficient of determination: 0.86\n"
     ]
    },
    {
     "data": {
      "image/png": "[encoded data removed]",
      "text/plain": [
       "<Figure size 432x288 with 1 Axes>"
      ]
     },
     "metadata": {},
     "output_type": "display_data"
    }
   ],
   "source": [
    "from sklearn import datasets, linear_model\n",
    "from sklearn.metrics import mean_squared_error, r2_score\n",
    "\n",
    "# Split the data into training/testing sets\n",
    "X_train = N[:30].values.reshape(-1, 1)\n",
    "X_test = N[31:].values.reshape(-1, 1)\n",
    "\n",
    "# Split the targets into training/testing sets\n",
    "y_train = Yeq[:30].values.reshape(-1, 1) \n",
    "y_test = Yeq[31:].values.reshape(-1, 1)\n",
    "#y_train\n",
    "\n",
    "# Create linear regression object\n",
    "regr = linear_model.LinearRegression()\n",
    "\n",
    "# Train the model using the training sets\n",
    "regr.fit(X_train, y_train)\n",
    "\n",
    "# Make predictions using the testing set\n",
    "y_pred = regr.predict(X_test)\n",
    "\n",
    "# The coefficients\n",
    "print('Coefficients: \\n', regr.coef_)\n",
    "# The mean squared error\n",
    "#print('Mean squared error: %.2f'\n",
    "#      % mean_squared_error(diabetes_y_test, diabetes_y_pred))\n",
    "# The coefficient of determination: 1 is perfect prediction\n",
    "print('Coefficient of determination: %.2f'\n",
    "      % r2_score(y_test, y_pred))\n",
    "\n",
    "# Plot outputs\n",
    "plt.scatter(X_test, y_test,  color='black')\n",
    "plt.plot(X_test, y_pred, color='blue', linewidth=2.0)\n",
    "\n",
    "plt.xticks(())\n",
    "plt.yticks(())\n",
    "\n",
    "plt.show()"
   ]
  },
  {
   "cell_type": "code",
   "execution_count": null,
   "metadata": {},
   "outputs": [],
   "source": []
  }
 ],
 "metadata": {
  "kernelspec": {
   "display_name": "Python 3",
   "language": "python",
   "name": "python3"
  },
  "language_info": {
   "codemirror_mode": {
    "name": "ipython",
    "version": 3
   },
   "file_extension": ".py",
   "mimetype": "text/x-python",
   "name": "python",
   "nbconvert_exporter": "python",
   "pygments_lexer": "ipython3",
   "version": "3.7.6"
  }
 },
 "nbformat": 4,
 "nbformat_minor": 2
}
